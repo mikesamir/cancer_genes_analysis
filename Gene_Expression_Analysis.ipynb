{
 "cells": [
  {
   "cell_type": "markdown",
   "metadata": {
    "toc-hr-collapsed": false
   },
   "source": [
    "# Import , Set working directory"
   ]
  },
  {
   "cell_type": "code",
   "execution_count": 1,
   "metadata": {},
   "outputs": [],
   "source": [
    "import pandas as pd\n",
    "import matplotlib.pyplot as plt\n",
    "import seaborn as sns\n",
    "import numpy as np\n",
    "import re\n",
    "import time\n",
    "\n",
    "from scipy import stats\n",
    "from scipy.stats import randint\n",
    "\n",
    "from imblearn.over_sampling import SMOTE\n",
    "from boruta import BorutaPy\n",
    "\n",
    "from sklearn.preprocessing import MinMaxScaler\n",
    "from sklearn.preprocessing import StandardScaler\n",
    "from sklearn.preprocessing import LabelEncoder\n",
    "from sklearn.preprocessing import StandardScaler\n",
    "\n",
    "from sklearn.model_selection import train_test_split\n",
    "from sklearn.model_selection import cross_val_score\n",
    "from sklearn.model_selection import GridSearchCV\n",
    "from sklearn.model_selection import RandomizedSearchCV\n",
    "\n",
    "from sklearn.ensemble import RandomForestClassifier\n",
    "from sklearn.ensemble import AdaBoostClassifier\n",
    "from sklearn.ensemble import GradientBoostingClassifier\n",
    "\n",
    "from sklearn.linear_model import LogisticRegression\n",
    "from sklearn.linear_model import ElasticNet\n",
    "\n",
    "from sklearn.naive_bayes import BernoulliNB\n",
    "from sklearn.feature_selection import VarianceThreshold\n",
    "from sklearn.feature_selection import RFE\n",
    "from sklearn.tree import export_graphviz\n",
    "from sklearn.svm import SVC\n",
    "from sklearn.svm import SVR\n",
    "from sklearn.linear_model import LassoCV\n",
    "from sklearn.datasets import make_regression\n",
    "\n",
    "from sklearn.metrics import accuracy_score\n",
    "from sklearn.metrics import mean_squared_error, r2_score\n",
    "from sklearn.metrics import make_scorer, accuracy_score\n",
    "from sklearn.metrics import confusion_matrix\n",
    "from sklearn.metrics import classification_report\n",
    "from sklearn.metrics import roc_auc_score\n",
    "from sklearn.metrics import f1_score\n",
    "from sklearn.metrics import roc_curve \n",
    "\n",
    "%matplotlib inline\n",
    "\n",
    "import os\n",
    "os.environ['KMP_DUPLICATE_LIB_OK'] = 'True'\n",
    "\n",
    "import warnings\n",
    "warnings.filterwarnings('ignore')"
   ]
  },
  {
   "cell_type": "code",
   "execution_count": 2,
   "metadata": {},
   "outputs": [
    {
     "name": "stdout",
     "output_type": "stream",
     "text": [
      "Current Working Directory  C:\\Users\\micha.DESKTOP-8HA2IGV\\OneDrive\\Programming\\Propulsion Project\\intelligencia_backup\\intelligencia\n",
      "New Working Directory  C:\\Users\\micha.DESKTOP-8HA2IGV\\OneDrive\\Programming\\Propulsion Project\\intelligencia_backup\\intelligencia\n"
     ]
    }
   ],
   "source": [
    "import os\n",
    "def main():\n",
    "    print(\"Current Working Directory \" , os.getcwd())\n",
    "    if os.path.exists(\"C:/Users/micha.DESKTOP-8HA2IGV/OneDrive/Programming/Propulsion Project/intelligencia_backup/intelligencia\") :\n",
    "        # Change the current working Directory    \n",
    "        os.chdir(\"C:/Users/micha.DESKTOP-8HA2IGV/OneDrive/Programming/Propulsion Project/intelligencia_backup/intelligencia\")\n",
    "        print(\"New Working Directory \" , os.getcwd())\n",
    "    else:\n",
    "        print(\"Can't change the Current Working Directory\")    \n",
    "        print(\"Current Working Directory \" , os.getcwd())\n",
    "if __name__ == '__main__':\n",
    "    main()"
   ]
  },
  {
   "cell_type": "markdown",
   "metadata": {},
   "source": [
    "Preprocess a provided CSV file to smaller chunks with relevant data for our analysis."
   ]
  },
  {
   "cell_type": "markdown",
   "metadata": {},
   "source": [
    "# Data Exploration"
   ]
  },
  {
   "cell_type": "markdown",
   "metadata": {},
   "source": [
    "## Data Acquisition and Exploration"
   ]
  },
  {
   "cell_type": "markdown",
   "metadata": {},
   "source": [
    "- Xena platform collects gene expression data from different studies and combines them in clean, normalized datasets. Data that was used for this project includes phenotype and genotype information about 19131 samples (they update the data regularly - so this number might increase) with various tissue types.\n",
    "\n",
    "https://xenabrowser.net/datapages/?cohort=TCGA%20TARGET%20GTEx&removeHub=https%3A%2F%2Fxena.tree\n",
    "- Genotype:\n",
    "\n",
    "https://xenabrowser.net/datapages/?dataset=TcgaTargetGtex_rsem_gene_tpm&host=https%3A%2F%2Ftoil.xenahubs.net&removeHub=https%3A%2F%2Fxena.treehouse.gi.ucsc.edu%3A443\n",
    "- Phenotype:\n",
    "\n",
    "https://xenabrowser.net/datapages/?dataset=TcgaTargetGTEX_phenotype.txt&host=https%3A%2F%2Ftoil.xenahubs.net&removeHub=https%3A%2F%2Fxena.treehouse.gi.ucsc.edu%3A443\n"
   ]
  },
  {
   "cell_type": "code",
   "execution_count": 3,
   "metadata": {},
   "outputs": [
    {
     "data": {
      "text/html": [
       "<div>\n",
       "<style scoped>\n",
       "    .dataframe tbody tr th:only-of-type {\n",
       "        vertical-align: middle;\n",
       "    }\n",
       "\n",
       "    .dataframe tbody tr th {\n",
       "        vertical-align: top;\n",
       "    }\n",
       "\n",
       "    .dataframe thead th {\n",
       "        text-align: right;\n",
       "    }\n",
       "</style>\n",
       "<table border=\"1\" class=\"dataframe\">\n",
       "  <thead>\n",
       "    <tr style=\"text-align: right;\">\n",
       "      <th></th>\n",
       "      <th>sample</th>\n",
       "      <th>detailed_category</th>\n",
       "      <th>primary disease or tissue</th>\n",
       "      <th>_primary_site</th>\n",
       "      <th>_sample_type</th>\n",
       "      <th>_gender</th>\n",
       "      <th>_study</th>\n",
       "    </tr>\n",
       "  </thead>\n",
       "  <tbody>\n",
       "    <tr>\n",
       "      <th>0</th>\n",
       "      <td>TCGA-V4-A9EE-01</td>\n",
       "      <td>Uveal Melanoma</td>\n",
       "      <td>Uveal Melanoma</td>\n",
       "      <td>Eye</td>\n",
       "      <td>Primary Tumor</td>\n",
       "      <td>Male</td>\n",
       "      <td>TCGA</td>\n",
       "    </tr>\n",
       "    <tr>\n",
       "      <th>1</th>\n",
       "      <td>TCGA-VD-AA8N-01</td>\n",
       "      <td>Uveal Melanoma</td>\n",
       "      <td>Uveal Melanoma</td>\n",
       "      <td>Eye</td>\n",
       "      <td>Primary Tumor</td>\n",
       "      <td>Male</td>\n",
       "      <td>TCGA</td>\n",
       "    </tr>\n",
       "    <tr>\n",
       "      <th>2</th>\n",
       "      <td>TCGA-V4-A9EI-01</td>\n",
       "      <td>Uveal Melanoma</td>\n",
       "      <td>Uveal Melanoma</td>\n",
       "      <td>Eye</td>\n",
       "      <td>Primary Tumor</td>\n",
       "      <td>Male</td>\n",
       "      <td>TCGA</td>\n",
       "    </tr>\n",
       "    <tr>\n",
       "      <th>3</th>\n",
       "      <td>TCGA-VD-AA8O-01</td>\n",
       "      <td>Uveal Melanoma</td>\n",
       "      <td>Uveal Melanoma</td>\n",
       "      <td>Eye</td>\n",
       "      <td>Primary Tumor</td>\n",
       "      <td>Male</td>\n",
       "      <td>TCGA</td>\n",
       "    </tr>\n",
       "    <tr>\n",
       "      <th>4</th>\n",
       "      <td>TCGA-WC-A888-01</td>\n",
       "      <td>Uveal Melanoma</td>\n",
       "      <td>Uveal Melanoma</td>\n",
       "      <td>Eye</td>\n",
       "      <td>Primary Tumor</td>\n",
       "      <td>Male</td>\n",
       "      <td>TCGA</td>\n",
       "    </tr>\n",
       "  </tbody>\n",
       "</table>\n",
       "</div>"
      ],
      "text/plain": [
       "            sample detailed_category primary disease or tissue _primary_site  \\\n",
       "0  TCGA-V4-A9EE-01    Uveal Melanoma            Uveal Melanoma           Eye   \n",
       "1  TCGA-VD-AA8N-01    Uveal Melanoma            Uveal Melanoma           Eye   \n",
       "2  TCGA-V4-A9EI-01    Uveal Melanoma            Uveal Melanoma           Eye   \n",
       "3  TCGA-VD-AA8O-01    Uveal Melanoma            Uveal Melanoma           Eye   \n",
       "4  TCGA-WC-A888-01    Uveal Melanoma            Uveal Melanoma           Eye   \n",
       "\n",
       "    _sample_type _gender _study  \n",
       "0  Primary Tumor    Male   TCGA  \n",
       "1  Primary Tumor    Male   TCGA  \n",
       "2  Primary Tumor    Male   TCGA  \n",
       "3  Primary Tumor    Male   TCGA  \n",
       "4  Primary Tumor    Male   TCGA  "
      ]
     },
     "execution_count": 3,
     "metadata": {},
     "output_type": "execute_result"
    }
   ],
   "source": [
    "# Take a look at phenotype information which will be used to seperate the genotype information into individual chunks.\n",
    "phenotype_path = 'Data/TcgaTargetGTEX_phenotype.txt'\n",
    "df_phenotype = pd.read_csv(phenotype_path, '\\t')\n",
    "df_phenotype.head()"
   ]
  },
  {
   "cell_type": "code",
   "execution_count": 4,
   "metadata": {},
   "outputs": [
    {
     "data": {
      "text/plain": [
       "(19131, 7)"
      ]
     },
     "execution_count": 4,
     "metadata": {},
     "output_type": "execute_result"
    }
   ],
   "source": [
    "# There are 19131 samples and six features with information about the samples.\n",
    "df_phenotype.shape"
   ]
  },
  {
   "cell_type": "code",
   "execution_count": 4,
   "metadata": {},
   "outputs": [
    {
     "data": {
      "text/html": [
       "<div>\n",
       "<style scoped>\n",
       "    .dataframe tbody tr th:only-of-type {\n",
       "        vertical-align: middle;\n",
       "    }\n",
       "\n",
       "    .dataframe tbody tr th {\n",
       "        vertical-align: top;\n",
       "    }\n",
       "\n",
       "    .dataframe thead th {\n",
       "        text-align: right;\n",
       "    }\n",
       "</style>\n",
       "<table border=\"1\" class=\"dataframe\">\n",
       "  <thead>\n",
       "    <tr style=\"text-align: right;\">\n",
       "      <th></th>\n",
       "      <th>sample</th>\n",
       "    </tr>\n",
       "  </thead>\n",
       "  <tbody>\n",
       "    <tr>\n",
       "      <th>0</th>\n",
       "      <td>ENSG00000242268.2</td>\n",
       "    </tr>\n",
       "    <tr>\n",
       "      <th>1</th>\n",
       "      <td>ENSG00000259041.1</td>\n",
       "    </tr>\n",
       "    <tr>\n",
       "      <th>2</th>\n",
       "      <td>ENSG00000270112.3</td>\n",
       "    </tr>\n",
       "    <tr>\n",
       "      <th>3</th>\n",
       "      <td>ENSG00000167578.16</td>\n",
       "    </tr>\n",
       "    <tr>\n",
       "      <th>4</th>\n",
       "      <td>ENSG00000278814.1</td>\n",
       "    </tr>\n",
       "  </tbody>\n",
       "</table>\n",
       "</div>"
      ],
      "text/plain": [
       "               sample\n",
       "0   ENSG00000242268.2\n",
       "1   ENSG00000259041.1\n",
       "2   ENSG00000270112.3\n",
       "3  ENSG00000167578.16\n",
       "4   ENSG00000278814.1"
      ]
     },
     "execution_count": 4,
     "metadata": {},
     "output_type": "execute_result"
    }
   ],
   "source": [
    "# Genes are represented in Ensebml notation with information about the version of natation.\n",
    "genotype_path = 'Output/Expression_Data_All/Raw_Data/TcgaTargetGtex_rsem_gene_tpm'\n",
    "df = pd.read_csv(genotype_path, delimiter='\\t', usecols=['sample'])\n",
    "df.head()"
   ]
  },
  {
   "cell_type": "code",
   "execution_count": 6,
   "metadata": {},
   "outputs": [
    {
     "data": {
      "text/plain": [
       "(2647, 1)"
      ]
     },
     "execution_count": 6,
     "metadata": {},
     "output_type": "execute_result"
    }
   ],
   "source": [
    "# The data includes gene expression values for 60498 genes.\n",
    "df.shape"
   ]
  },
  {
   "cell_type": "markdown",
   "metadata": {},
   "source": [
    "# Data Preprocessing"
   ]
  },
  {
   "cell_type": "markdown",
   "metadata": {},
   "source": [
    "## Classes used"
   ]
  },
  {
   "cell_type": "markdown",
   "metadata": {},
   "source": [
    "### Class: DataFilter "
   ]
  },
  {
   "cell_type": "markdown",
   "metadata": {},
   "source": [
    "Filter dataset to retrieve cancer-specific chunks of data.\n",
    "\n",
    "Main function -> `split(sites, types=[\"Primary Tumor\", \"Normal Tissue\"], genders=[\"Female\", \"Male\"], categories=None)`\n",
    "- Input: Site, tissue type, gender, detailed category.\n",
    "- Return: Filtered dataframe. Also saves to csv.\n",
    "\n",
    "Included functions:\n",
    "- `init`: Define class variables.\n",
    "- `get_columns`: Select for desired criteria.\n",
    "- `get_output_path`: Create filepath for dataframe created by split."
   ]
  },
  {
   "cell_type": "code",
   "execution_count": 5,
   "metadata": {},
   "outputs": [],
   "source": [
    "from DataPreprocessing import DataFilter"
   ]
  },
  {
   "cell_type": "markdown",
   "metadata": {},
   "source": [
    "### Class: DataPrep"
   ]
  },
  {
   "cell_type": "markdown",
   "metadata": {},
   "source": [
    "Prepare data for feature selection algorithm by filtering, splitting and upsampling.\n",
    "\n",
    "Main function -> `bulbasaur(path, threshold, nrows = None, usecols = None)`\n",
    "- input: \n",
    "    - path: Directory path of gene expression data.\n",
    "    - threshsold: Standard deviation filter threshold.\n",
    "- output: `X_train, y_train, x_test, y_test`.\n",
    "\n",
    "Included functions:\n",
    "- `read_data`.\n",
    "- `X_and_y`.\n",
    "- `split`: Train and test split.\n",
    "- `smote_up`: Upsampling to get balanced dataset."
   ]
  },
  {
   "cell_type": "code",
   "execution_count": 14,
   "metadata": {},
   "outputs": [],
   "source": [
    "from DataPreprocessing import DataPrep"
   ]
  },
  {
   "cell_type": "markdown",
   "metadata": {},
   "source": [
    "## Create and Store Filtered Chunks "
   ]
  },
  {
   "cell_type": "markdown",
   "metadata": {},
   "source": [
    "Because drug development mainly focuses on protein-coding genes and in order to reduce dimensions the data is filtered tor protein-coding genes only."
   ]
  },
  {
   "cell_type": "code",
   "execution_count": 6,
   "metadata": {},
   "outputs": [],
   "source": [
    "# Define unique protein-coding genes.\n",
    "def create_upcg():\n",
    "    df_mart = pd.read_csv('Data/mart_export.txt')\n",
    "    return set(df_mart[df_mart['Gene type'] == 'protein_coding']['Gene stable ID'].unique())"
   ]
  },
  {
   "cell_type": "code",
   "execution_count": 7,
   "metadata": {},
   "outputs": [],
   "source": [
    "# Instantiate DataFilter class with paths of data and upcg function.\n",
    "data_filter = DataFilter(genotype_path, phenotype_path, create_upcg())"
   ]
  },
  {
   "cell_type": "code",
   "execution_count": 8,
   "metadata": {},
   "outputs": [],
   "source": [
    "# Create chunks by applying the split function. Store results as a csv.\n",
    "\n",
    "#data_filter.split([\"Lung\"], categories=[\"Lung Squamous Cell Carcinoma\", \"Lung\"])\n",
    "# Output path: \"Output/Chunk_LungSquamousCellCarcinoma_Lung.csv\"\n",
    "\n",
    "#data_filter.split([\"Lung\"], categories=[\"Lung Adenocarcinoma\", \"Lung\"])\n",
    "# Output path: \"Output/Chunk_LungAdenocarcinoma_Lung.csv\"\n",
    "\n",
    "#data_filter.split([\"Thyroid\", \"Thyroid Gland\"])\n",
    "# Output path: \"Output/Chunk_Thyroid_ThyroidGland.csv\"\n",
    "\n",
    "#data_filter.split([\"Colon\"])\n",
    "# Output path: \"Output/Chunk_Colon.csv\"\n",
    "\n",
    "#data_filter.split([\"Skin\"])\n",
    "# Output path: \"Output/Chunk_Skin.csv\"\n",
    "\n",
    "#data_filter.split([\"Breast\"], genders=[\"Female\"])\n",
    "# Output path: \"Output/Chunk_Breast.csv\""
   ]
  },
  {
   "cell_type": "markdown",
   "metadata": {},
   "source": [
    "## Create Other Useful Chunks"
   ]
  },
  {
   "cell_type": "markdown",
   "metadata": {},
   "source": [
    "### Create: All Sites, Cancerous and Healthy (12 labels)"
   ]
  },
  {
   "cell_type": "code",
   "execution_count": null,
   "metadata": {},
   "outputs": [],
   "source": [
    "chunks = [\n",
    "    \"Output/Chunk_LungSquamousCellCarcinoma_Lung.csv\",\n",
    "    \"Output/Chunk_LungAdenocarcinoma_Lung.csv\",\n",
    "    \"Output/Chunk_Thyroid_ThyroidGland.csv\",\n",
    "    \"Output/Chunk_Colon.csv\",\n",
    "    \"Output/Chunk_Skin.csv\",\n",
    "    \"Output/Chunk_Breast.csv\"\n",
    "]\n",
    "\n",
    "cancer = [\n",
    "    \"lung_s\",\n",
    "    \"lung_a\",\n",
    "    \"thyroid\",\n",
    "    \"colon\",\n",
    "    \"skin\",\n",
    "    \"breast\"\n",
    "]"
   ]
  },
  {
   "cell_type": "code",
   "execution_count": null,
   "metadata": {},
   "outputs": [],
   "source": [
    "# Create a dataframe with all chunks. Healthy tissue will be labeled with 0, cancerous with 1.\n",
    "chunk_df = pd.DataFrame()\n",
    "for chunk, cancer in zip(chunks, cancers):\n",
    "    # Load chunks.\n",
    "    chunk = pd.read_csv(chunk)\n",
    "    chunk.index = chunk.iloc[:,0]\n",
    "    chunk.drop(columns = \"Unnamed: 0\", inplace = True)\n",
    "    chunk.columns = [(re.sub('\\.\\d+', '', gene)) for gene in chunk.columns]\n",
    "    \n",
    "    # Label chunks according to sample type.\n",
    "    chunk[\"label\"].replace(1, \"1_\" + cancer, inplace = True)\n",
    "    chunk[\"label\"].replace(0, \"0_\" + cancer, inplace = True)\n",
    "    \n",
    "    # Append to complete chunk.\n",
    "    chunk_df = chunk_df.append(chunk)"
   ]
  },
  {
   "cell_type": "code",
   "execution_count": null,
   "metadata": {},
   "outputs": [],
   "source": [
    "chunk_df.to_csv(\"Output/Chunk_AllCancers.csv\")"
   ]
  },
  {
   "cell_type": "markdown",
   "metadata": {},
   "source": [
    "### Create: All Sites, Only Cancerous"
   ]
  },
  {
   "cell_type": "code",
   "execution_count": 6,
   "metadata": {},
   "outputs": [
    {
     "name": "stdout",
     "output_type": "stream",
     "text": [
      "<class 'pandas.core.frame.DataFrame'>\n",
      "Index: 2982 entries, TCGA-C8-A1HL-01 to TCGA-FY-A4B4-01\n",
      "Columns: 19664 entries, label to ENSG00000181518\n",
      "dtypes: float64(19663), object(1)\n",
      "memory usage: 447.4+ MB\n"
     ]
    }
   ],
   "source": [
    "chunk_df = pd.read_csv(\"Output/Chunk_AllCancers.csv\", index_col = \"Unnamed: 0\")\n",
    "chunk_cancer = chunk_df[chunk_df[\"label\"].str.contains(\"1\")]\n",
    "chunk_cancer.info()"
   ]
  },
  {
   "cell_type": "code",
   "execution_count": 10,
   "metadata": {},
   "outputs": [],
   "source": [
    "chunk_cancer.to_csv(\"Output/Chunk_AllCancers_1only.csv\")"
   ]
  },
  {
   "cell_type": "markdown",
   "metadata": {},
   "source": [
    "### Create: All Sites, Cancerous and Healthy (2 labels)"
   ]
  },
  {
   "cell_type": "code",
   "execution_count": 207,
   "metadata": {},
   "outputs": [
    {
     "name": "stdout",
     "output_type": "stream",
     "text": [
      "<class 'pandas.core.frame.DataFrame'>\n",
      "Index: 4781 entries, TCGA-C8-A1HL-01 to GTEX-OOBK-2626-SM-2HMKY\n",
      "Columns: 19664 entries, label to ENSG00000181518\n",
      "dtypes: float64(19663), object(1)\n",
      "memory usage: 717.3+ MB\n"
     ]
    }
   ],
   "source": [
    "chunk_df_all.info()"
   ]
  },
  {
   "cell_type": "code",
   "execution_count": 33,
   "metadata": {},
   "outputs": [],
   "source": [
    "chunk_df_all = chunk_df.copy()\n",
    "chunk_df_all['label'] = chunk_df_all['label'].astype(str).str[0]"
   ]
  },
  {
   "cell_type": "code",
   "execution_count": 35,
   "metadata": {},
   "outputs": [],
   "source": [
    "chunk_df_all.to_csv(\"Output/Chunk_AllCancers_0vs1.csv\")"
   ]
  },
  {
   "cell_type": "markdown",
   "metadata": {},
   "source": [
    "### Create: Lung_A Cancerous and Lung_S Cancerous"
   ]
  },
  {
   "cell_type": "code",
   "execution_count": 40,
   "metadata": {},
   "outputs": [
    {
     "name": "stderr",
     "output_type": "stream",
     "text": [
      "C:\\Users\\micha.DESKTOP-8HA2IGV\\.conda\\envs\\machine-learning\\lib\\site-packages\\ipykernel_launcher.py:1: SettingWithCopyWarning: \n",
      "A value is trying to be set on a copy of a slice from a DataFrame.\n",
      "Try using .loc[row_indexer,col_indexer] = value instead\n",
      "\n",
      "See the caveats in the documentation: http://pandas.pydata.org/pandas-docs/stable/indexing.html#indexing-view-versus-copy\n",
      "  \"\"\"Entry point for launching an IPython kernel.\n"
     ]
    }
   ],
   "source": [
    "Chunk_LungA1_vs_LungS1 = chunk_df[chunk_df[\"label\"].str.contains(\"1_lung\")]; Chunk_LungA1_vs_LungS1.info()\n",
    "Chunk_LungA1_vs_LungS1[\"label\"] = Chunk_LungA1_vs_LungS1[\"label\"].replace(\"1_lung_s\", \"0\")\n",
    "Chunk_LungA1_vs_LungS1[\"label\"] = Chunk_LungA1_vs_LungS1['label'].astype(str).str[0]"
   ]
  },
  {
   "cell_type": "code",
   "execution_count": null,
   "metadata": {},
   "outputs": [],
   "source": [
    "Chunk_LungA1_vs_LungS1.to_csv(\"Output/Chunk_LungA1_vs_LungS1.csv\")\n",
    "#1_lung_a = 1\n",
    "#1_lung_s = 0"
   ]
  },
  {
   "cell_type": "markdown",
   "metadata": {},
   "source": [
    "# Gene Selection"
   ]
  },
  {
   "cell_type": "markdown",
   "metadata": {},
   "source": [
    "1. Now the data has been seperated into chunks and relevant genes can be selected.\n",
    "- Five different models will be used to give each gene a feature importance.\n",
    "- About 50 genes per sample type will be selected according to three criteria: Feature importance score, number of picks and overlaps with cosmic genes (platform which gives a list of tested cancer-associated genes):\n",
    "https://cancer.sanger.ac.uk/cosmic\n",
    "- These will all be combined in one dataframe."
   ]
  },
  {
   "cell_type": "markdown",
   "metadata": {},
   "source": [
    "## Classes used"
   ]
  },
  {
   "cell_type": "markdown",
   "metadata": {},
   "source": [
    "### Class: FeatureSelection"
   ]
  },
  {
   "cell_type": "markdown",
   "metadata": {},
   "source": [
    "Applies various feature selection algorithms and stores results (features + feature importance) in a dictionary.\n",
    "\n",
    "Main function -> `call_methods(X_train, y_train, X_test, y_test, n_features = 300)`\n",
    "- Input:\n",
    "    - Dataset split into train and test \n",
    "    - `n_features` (number of features that should be selected by each method).\n",
    "- Output: Dictionaries with selected features and feature importances.\n",
    "\n",
    "Included functions:\n",
    "- rfe: Recursive Feature Elimination.\n",
    "- gradient_boost_classifier.\n",
    "- elastic_net.\n",
    "- boruta_tree: Boruta with Random Forest Classifier at the end.\n",
    "- lasso_cv: Lasso with crossvalidation."
   ]
  },
  {
   "cell_type": "code",
   "execution_count": 10,
   "metadata": {},
   "outputs": [],
   "source": [
    "from GeneSelection import FeatureSelection"
   ]
  },
  {
   "cell_type": "markdown",
   "metadata": {},
   "source": [
    "### Class: Evaluation"
   ]
  },
  {
   "cell_type": "markdown",
   "metadata": {},
   "source": [
    "Stores results (Counts of genes selected, importances, overlaps with cosmic genes) in a dataframe. \n",
    "Cosmic: https://cancer.sanger.ac.uk/cosmic - you need a student e-mail to register and download data.\n",
    "\n",
    "Main function -> `iterate_through_cancers(path_list, path_intogen_list, nrows, usecols, threshold = 2.5)`\n",
    "- Input: \n",
    "    - `path_list` (filepath to expression data chunks)\n",
    "    - `path_intogen_list` (filepath to cosmic data)\n",
    "    - `threshold` for standard deviation filter\n",
    "- Output: Stores results as csv files.\n",
    "\n",
    "Included functions:\n",
    "- Add Cosmic to Dict: Add a dictionary with Cosmic cancer-related genes.\n",
    "- Results: Store results as csv file\n",
    "- Normalize Importances: Normalize of importances and add column with Total Importance\n",
    "- Final Results: Everything together in one df :)\n",
    "- Iterate Through Cancers: Iterate throuhg all cancer data"
   ]
  },
  {
   "cell_type": "code",
   "execution_count": 11,
   "metadata": {},
   "outputs": [],
   "source": [
    "from GeneSelection import Evaluation"
   ]
  },
  {
   "cell_type": "markdown",
   "metadata": {},
   "source": [
    "### Class: Filter Results"
   ]
  },
  {
   "cell_type": "markdown",
   "metadata": {},
   "source": [
    "Filter for best genes based on different criteria (Total Count, Importance, Overlaps with public data).\n",
    "\n",
    "Main function -> `charmander(results_list, chunk_names)`:\n",
    "- `input`: chunk_names (names of cancer tissues), results_list (list of results dataframes created by Evaluation class).\n",
    "- `ouput`: Dataframe with selected genes and additional information from Human Protein Atlas.\n",
    "\n",
    "Included functions:\n",
    "- `top`: Retrieve top genes (based on 1. Importance Score, 2. Total Count, 3. Overlaps with Cosmic Genes).\n",
    "- `top_all`: Combines top genes from all cancer types."
   ]
  },
  {
   "cell_type": "code",
   "execution_count": 12,
   "metadata": {},
   "outputs": [],
   "source": [
    "from GeneSelection import FilterResults"
   ]
  },
  {
   "cell_type": "markdown",
   "metadata": {},
   "source": [
    "## Select Top 400 Genes per Chunks"
   ]
  },
  {
   "cell_type": "markdown",
   "metadata": {},
   "source": [
    "- Select top features in each sample type.\n",
    "- Show model accuracies.\n",
    "- Store results as csvs."
   ]
  },
  {
   "cell_type": "code",
   "execution_count": 15,
   "metadata": {},
   "outputs": [],
   "source": [
    "# Instantiate Evaluation class and FeatureSelection class\n",
    "evaluation = Evaluation()\n",
    "FS = FeatureSelection(1888)"
   ]
  },
  {
   "cell_type": "code",
   "execution_count": null,
   "metadata": {},
   "outputs": [],
   "source": [
    "path_intogen_list = [\"Data/Reference_Data/Census_allWed May 15 09_46_55 2019.csv\"]#*7\n",
    "path_list = [\"Output/Chunk_Breast.csv\",\n",
    "            \"Output/Chunk_LungAdenocarcinoma_Lung.csv\",\n",
    "            \"Output/Chunk_LungSquamousCellCarcinoma_Lung.csv\",\n",
    "            \"Output/Chunk_Skin.csv\",\n",
    "            \"Output/Chunk_Thyroid_ThyroidGland.csv\",\n",
    "            \"Output/Chunk_LungA1_vs_LungS1.csv\",\n",
    "            \"Output/Chunk_AllCancers_0vs1.csv\",\n",
    "            \"Output/Chunk_Colon.csv\"]"
   ]
  },
  {
   "cell_type": "code",
   "execution_count": null,
   "metadata": {},
   "outputs": [],
   "source": [
    "evaluation.iterate_trough_cancers(path_list, path_intogen_list, nrows = None, usecols = None, threshold = 1)"
   ]
  },
  {
   "cell_type": "raw",
   "metadata": {},
   "source": [
    "Model Accuracies (threshold = 1, all rows and cols):\n",
    "\n",
    "Evaluating Output/Chunk_Breast.csv\n",
    "Accuracy of GBM: 0.997\n",
    "Accuracy of RFE: 0.928\n",
    "Accuracy of Elastic Net: 0.950\n",
    "Accuracy of Boruta: 1.000 (+/- 0.000)\n",
    "Accuracy of Boruta Tree: 1.000\n",
    "Accuracy of LassoCV 0.957\n",
    "Finished in 21.8 min\n",
    "\n",
    "Evaluating Output/Chunk_LungAdenocarcinoma_Lung.csv\n",
    "Accuracy of GBM: 1.000\n",
    "Accuracy of RFE: 0.971\n",
    "Accuracy of Elastic Net: 0.969\n",
    "Accuracy of Boruta: 0.999 (+/- 0.006)\n",
    "Accuracy of Boruta Tree: 1.000\n",
    "Accuracy of LassoCV 0.972\n",
    "Finished in 8.4 min\n",
    "\n",
    "Evaluating Output/Chunk_LungSquamousCellCarcinoma_Lung.csv\n",
    "Accuracy of GBM: 0.996\n",
    "Accuracy of RFE: 0.971\n",
    "Accuracy of Elastic Net: 0.976\n",
    "Accuracy of Boruta: 1.000 (+/- 0.000)\n",
    "Accuracy of Boruta Tree: 0.992\n",
    "Accuracy of LassoCV 0.976\n",
    "Finished in 14.9 min\n",
    "\n",
    "Evaluating Output/Chunk_Skin.csv\n",
    "Accuracy of GBM: 0.990\n",
    "Accuracy of RFE: 0.980\n",
    "Accuracy of Elastic Net: 0.981\n",
    "Accuracy of Boruta: 1.000 (+/- 0.000)\n",
    "Accuracy of Boruta Tree: 1.000\n",
    "Accuracy of LassoCV 0.981\n",
    "Finished in 8.9 min\n",
    "\n",
    "Evaluating Output/Chunk_Thyroid_ThyroidGland.csv\n",
    "Accuracy of GBM: 0.996\n",
    "Accuracy of RFE: 0.962\n",
    "Accuracy of Elastic Net: 0.964\n",
    "Accuracy of Boruta: 1.000 (+/- 0.000)\n",
    "Accuracy of Boruta Tree: 0.996\n",
    "Accuracy of LassoCV 0.964\n",
    "Finished in 10.9 min\n",
    "\n",
    "Evaluating Output/Chunk_LungA1_vs_LungS1.csv\n",
    "Accuracy of GBM: 0.934\n",
    "Accuracy of RFE: 0.774\n",
    "Accuracy of Elastic Net: 0.817\n",
    "Accuracy of Boruta: 0.957 (+/- 0.031)\n",
    "Accuracy of Boruta Tree: 0.951\n",
    "Accuracy of LassoCV 0.832\n",
    "Finished in 12.5 min\n",
    "\n",
    "Evaluating Output/Chunk_AllCancers_0vs1.csv\n",
    "Accuracy of GBM: 1.000\n",
    "Accuracy of RFE: 0.975\n",
    "Accuracy of Elastic Net: 0.983\n",
    "Accuracy of Boruta: 1.000 (+/- 0.000)\n",
    "Accuracy of Boruta Tree: 0.999\n",
    "Accuracy of LassoCV 0.984\n",
    "Finished in 101.4 min"
   ]
  },
  {
   "cell_type": "markdown",
   "metadata": {},
   "source": [
    "## Select Top 70-90 Genes per Chunk and Combine in one Dataframe"
   ]
  },
  {
   "cell_type": "markdown",
   "metadata": {},
   "source": [
    "- Select about 70-90 genes with three criteria\n",
    "    - Top 30 genes sorted by feature importance score (across models).\n",
    "    - Top 30 genes sorted by count of picks (across models).\n",
    "    - Top 30 genes sorted by model pick overlaps with cosmic genes."
   ]
  },
  {
   "cell_type": "code",
   "execution_count": 14,
   "metadata": {},
   "outputs": [],
   "source": [
    "# Instantiate FilterResults\n",
    "fr = FilterResults(1888) # 1888 = Seed"
   ]
  },
  {
   "cell_type": "code",
   "execution_count": 11,
   "metadata": {},
   "outputs": [],
   "source": [
    "results_breast = pd.read_csv(\"Output/Results/Result_2.0_Breast.csv\", index_col=0)\n",
    "results_lung_a = pd.read_csv(\"Output/Results/Result_2.0_LungAdenocarcinoma_Lung.csv\", index_col=0)\n",
    "results_skin = pd.read_csv(\"Output/Results/Result_2.0_Skin.csv\", index_col=0)\n",
    "results_lung_s = pd.read_csv(\"Output/Results/Result_2.0_LungSquamousCellCarcinoma_Lung.csv\", index_col=0)\n",
    "results_thyroid = pd.read_csv(\"Output/Results/Result_2.0_Thyroid_ThyroidGland.csv\", index_col=0)\n",
    "results_all = pd.read_csv(\"Output/Results/Result_2.0_AllCancers_0vs1.csv\", index_col=0)\n",
    "results_colon = pd.read_csv(\"Output/Results/Result_2.0_Colon.csv\", index_col=0)"
   ]
  },
  {
   "cell_type": "code",
   "execution_count": 15,
   "metadata": {},
   "outputs": [
    {
     "name": "stdout",
     "output_type": "stream",
     "text": [
      "skin :  68 \tgenes selected | 13 duplicates removed \tT: 18 ,I: 23 ,C: 15 ,TI: 6 ,TC: 5 ,IC: 0 ,TIC: 1\n",
      "thyroid :  80 \tgenes selected | 4 duplicates removed \tT: 27 ,I: 29 ,C: 20 ,TI: 0 ,TC: 3 ,IC: 1 ,TIC: 0\n",
      "colon :  81 \tgenes selected | 9 duplicates removed \tT: 22 ,I: 23 ,C: 28 ,TI: 6 ,TC: 1 ,IC: 0 ,TIC: 1\n",
      "breast :  74 \tgenes selected | 7 duplicates removed \tT: 23 ,I: 23 ,C: 21 ,TI: 7 ,TC: 0 ,IC: 0 ,TIC: 0\n",
      "lung_a :  81 \tgenes selected | 7 duplicates removed \tT: 25 ,I: 24 ,C: 25 ,TI: 4 ,TC: 1 ,IC: 2 ,TIC: 0\n",
      "lung_s :  84 \tgenes selected | 6 duplicates removed \tT: 26 ,I: 26 ,C: 27 ,TI: 2 ,TC: 1 ,IC: 1 ,TIC: 1\n",
      "all :  82 \tgenes selected | 8 duplicates removed \tT: 23 ,I: 23 ,C: 28 ,TI: 6 ,TC: 1 ,IC: 1 ,TIC: 0\n",
      "Top genes overall:  422 genes selected | 128 duplicates removed\n"
     ]
    }
   ],
   "source": [
    "path_list = [\n",
    "    \"Output/Chunk_Skin.csv\",\n",
    "    \"Output/Chunk_Thyroid_ThyroidGland.csv\",\n",
    "    \"Output/Chunk_Colon.csv\",\n",
    "    \"Output/Chunk_Breast.csv\",\n",
    "    \"Output/Chunk_LungAdenocarcinoma_Lung.csv\",\n",
    "    \"Output/Chunk_LungSquamousCellCarcinoma_Lung.csv\",\n",
    "    \"Output/Chunk_AllCancers_0vs1.csv\"]\n",
    "\n",
    "# Keys for dictionary\n",
    "chunks = [\"skin\", \"thyroid\", \"colon\", \"breast\", \"lung_a\", \"lung_s\", \"all\"]\n",
    "\n",
    "# List of results dataframes\n",
    "results_list = [results_skin, results_thyroid, results_colon, results_breast, results_lung_a, results_lung_s, results_all]\n",
    "\n",
    "# Dictionary: Key - tissue, Value - list of selected genes\n",
    "final_top_genes = fr.charmander(results_list, chunks)"
   ]
  },
  {
   "cell_type": "code",
   "execution_count": 14,
   "metadata": {},
   "outputs": [],
   "source": [
    "final_top_genes_path = \"Output/Results/Final_genes/final_top_genes.csv\"\n",
    "final_top_genes.to_csv(final_top_genes_path)"
   ]
  },
  {
   "cell_type": "markdown",
   "metadata": {},
   "source": [
    "# Gene Importance"
   ]
  },
  {
   "cell_type": "markdown",
   "metadata": {},
   "source": [
    "## Classes used"
   ]
  },
  {
   "cell_type": "markdown",
   "metadata": {},
   "source": [
    "### Class: FinalDataFrame"
   ]
  },
  {
   "cell_type": "markdown",
   "metadata": {},
   "source": [
    "Apply XGBoost to get feature importance across classes and combine with results from GeneSelection.\n",
    "\n",
    "Main function -> `squirtle(self, chunk_path, pickle, top_genes_path, save_to_path, top_genes_n = 20)`:\n",
    "- Input: \n",
    "    - `chunk_path` (all cancers data chunk)\n",
    "    - `pickle` (path for pickle file of XGBoost model) \n",
    "    - `top_genes_path` (results from GeneSelection library)\n",
    "    - `save_to_path` (where to save)\n",
    "    - `top_genes_n` (how many of the top genes of each tissue type from SHAP should be used)\n",
    "- Output:\n",
    "    Dataframe with all information about the genes.\n",
    "\n",
    "Functions included:\n",
    "- load_data\n",
    "- run_store_model\n",
    "- load_model\n",
    "- get_genes_df\n",
    "- add_combination\n",
    "- combine_with_top_genes"
   ]
  },
  {
   "cell_type": "code",
   "execution_count": 1,
   "metadata": {},
   "outputs": [],
   "source": [
    "from GeneImportance import FinalDataFrame"
   ]
  },
  {
   "cell_type": "markdown",
   "metadata": {},
   "source": [
    "### Class: ExtractExpression"
   ]
  },
  {
   "cell_type": "markdown",
   "metadata": {},
   "source": [
    "Extract subset of expression data with selected genes.\n",
    "\n",
    "Functions included:\n",
    "- final_genes_expression_data."
   ]
  },
  {
   "cell_type": "code",
   "execution_count": 4,
   "metadata": {},
   "outputs": [],
   "source": [
    "from GeneImportance import ExtractExpression"
   ]
  },
  {
   "cell_type": "markdown",
   "metadata": {},
   "source": [
    "### Class: ShowImportance"
   ]
  },
  {
   "cell_type": "markdown",
   "metadata": {},
   "source": [
    "Visuzalize SHAP importance\n",
    "    \n",
    "Functions included:\n",
    "- importance_in_class\n",
    "- importance_across_classes"
   ]
  },
  {
   "cell_type": "code",
   "execution_count": 22,
   "metadata": {},
   "outputs": [],
   "source": [
    "from GeneImportance import ShowImportance "
   ]
  },
  {
   "cell_type": "markdown",
   "metadata": {},
   "source": [
    "## Apply models get combined importance"
   ]
  },
  {
   "cell_type": "code",
   "execution_count": 2,
   "metadata": {},
   "outputs": [],
   "source": [
    "fdf = FinalDataFrame(1888, top_genes_path = \"Output/Results/Top_genes/top_genes_1.0.csv\")"
   ]
  },
  {
   "cell_type": "code",
   "execution_count": 6,
   "metadata": {},
   "outputs": [],
   "source": [
    "chunk_path = \"Output/Chunk_AllCancers.csv\"\n",
    "X_train, y_train, X_test, y_test = fdf.load_data(chunk_path)\n",
    "#fdf.run_store_model(X_train, y_train, X_test, y_test)"
   ]
  },
  {
   "cell_type": "code",
   "execution_count": 7,
   "metadata": {},
   "outputs": [],
   "source": [
    "chunk_path = \"Output/Chunk_AllCancers.csv\"\n",
    "filename = \"Output/Models/all_cancers_model.sav\"\n",
    "final_top_genes_path = \"Output/Results/Final_genes/final_top_genes.csv\"\n",
    "save_to_path = \"Output/Results/Final_genes/final_top_genes.csv\"\n",
    "df_final = fdf.squirtle(chunk_path, filename, top_genes_path, save_to_path, top_genes_n = 50)"
   ]
  },
  {
   "cell_type": "code",
   "execution_count": 8,
   "metadata": {},
   "outputs": [],
   "source": [
    "loaded_model = pickle.load(open(filename, 'rb'))"
   ]
  },
  {
   "cell_type": "code",
   "execution_count": 5,
   "metadata": {},
   "outputs": [],
   "source": [
    "extract = ExtractExpression()"
   ]
  },
  {
   "cell_type": "code",
   "execution_count": null,
   "metadata": {},
   "outputs": [],
   "source": [
    "save_to_path = \"Output/Results/Final_genes/expression_data_all_final_symbol_50.csv\"\n",
    "extract.final_genes_expression_data(chunk_path, all_final_path, save_to_path)"
   ]
  },
  {
   "cell_type": "code",
   "execution_count": 15,
   "metadata": {},
   "outputs": [
    {
     "name": "stdout",
     "output_type": "stream",
     "text": [
      "<class 'pandas.core.frame.DataFrame'>\n",
      "Int64Index: 1200 entries, 400 to 237\n",
      "Data columns (total 5 columns):\n",
      "Gene                1200 non-null object\n",
      "Shap_Importance     1200 non-null object\n",
      "Cancer              1200 non-null object\n",
      "Combination         1200 non-null object\n",
      "SHAP_Combination    1200 non-null object\n",
      "dtypes: object(5)\n",
      "memory usage: 56.2+ KB\n"
     ]
    }
   ],
   "source": [
    "df_final.info()"
   ]
  },
  {
   "cell_type": "code",
   "execution_count": 19,
   "metadata": {},
   "outputs": [],
   "source": [
    "df_final.to_csv(\"Output/Results/Final_genes/final_genes_50.csv\")"
   ]
  },
  {
   "cell_type": "code",
   "execution_count": 17,
   "metadata": {},
   "outputs": [],
   "source": [
    "top_genes = pd.read_csv(\"Output/Results/Final_genes/final_top_genes.csv\")"
   ]
  }
 ],
 "metadata": {
  "kernelspec": {
   "display_name": "machine-learning",
   "language": "python",
   "name": "machine-learning"
  },
  "language_info": {
   "codemirror_mode": {
    "name": "ipython",
    "version": 3
   },
   "file_extension": ".py",
   "mimetype": "text/x-python",
   "name": "python",
   "nbconvert_exporter": "python",
   "pygments_lexer": "ipython3",
   "version": "3.7.3"
  },
  "toc-autonumbering": true,
  "toc-showcode": false,
  "toc-showmarkdowntxt": false
 },
 "nbformat": 4,
 "nbformat_minor": 2
}
