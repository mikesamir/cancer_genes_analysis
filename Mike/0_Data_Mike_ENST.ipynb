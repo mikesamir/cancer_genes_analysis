{
 "cells": [
  {
   "cell_type": "markdown",
   "metadata": {},
   "source": [
    "# Splicing Datasets (ENST)"
   ]
  },
  {
   "cell_type": "markdown",
   "metadata": {},
   "source": [
    "Because this dataset is very large, we will save the csv in batches.\n",
    "Before doing so we need to select the data we want and transform it in a way that we can use the data."
   ]
  },
  {
   "cell_type": "code",
   "execution_count": 1,
   "metadata": {},
   "outputs": [],
   "source": [
    "import pandas as pd\n",
    "from tqdm import tqdm"
   ]
  },
  {
   "cell_type": "markdown",
   "metadata": {},
   "source": [
    "## Dividing into batches"
   ]
  },
  {
   "cell_type": "code",
   "execution_count": 2,
   "metadata": {},
   "outputs": [],
   "source": [
    "class FilterData:\n",
    "    def get_csv(self, path_txt, primary_sites, sample_types = [\"Primary Tumor\", \"Normal Tissue\"], genders = [\"Female\", \"Male\"], detailed_category = \"All\", version = \"1.0\"):\n",
    "        \"\"\"\n",
    "        path_txt = original file\n",
    "        primary_sites = list with all types of tissue\n",
    "        sample_types = list with all types of samples\n",
    "        version = version of csv\n",
    "        \"\"\"\n",
    "        df_phenotype = pd.read_csv(\"Data/Expression_Data/Raw_Data/TcgaTargetGTEX_phenotype.txt\", delimiter=\"\\t\")\n",
    "       \n",
    "        df2 = df_phenotype[df_phenotype['_primary_site'].isin(primary_sites)]\n",
    "        df2 = df2[df2['_gender'].isin(genders)]\n",
    "        \n",
    "        if detailed_category != \"All\":\n",
    "            df2 = df2[df2['detailed_category'].isin(detailed_category)]\n",
    "        \n",
    "        cols = df2[df2[\"_sample_type\"].isin(sample_types)][\"sample\"].tolist()\n",
    "        \n",
    "        df = pd.read_csv(path_txt, delimiter=\"\\t\", usecols=['sample'] + cols) #end\n",
    "        \n",
    "        # Set index and transpose\n",
    "        df = df.set_index(\"sample\").T\n",
    "\n",
    "        # Make label column\n",
    "        df[\"label\"] = df.index.astype(str).str[0]\n",
    "\n",
    "        # Set labels to 0 and 1\n",
    "        df.label.replace({\"T\": 1, \"G\": 0}, inplace=True)\n",
    "\n",
    "        # Put the label column on first col index\n",
    "        cols = df.columns.tolist()\n",
    "        cols = [cols[-1]]+cols[:-1] # or whatever change you need\n",
    "        df = df.reindex(columns=cols)\n",
    "\n",
    "        # Save dataframe\n",
    "        \n",
    "        df.to_csv(\"Data/Expression_Data/{}_{}_{}_{}.csv\".format(primary_sites, detailed_category, sample_types, version))\n",
    "        print(\"Finish\")\n",
    "\n",
    "filter_data = FilterData()"
   ]
  },
  {
   "cell_type": "code",
   "execution_count": 25,
   "metadata": {},
   "outputs": [
    {
     "name": "stdout",
     "output_type": "stream",
     "text": [
      "Finish\n",
      "\n",
      "Finish\n",
      "\n",
      "Finish\n",
      "\n",
      "Finish\n",
      "\n",
      "Finish\n",
      "\n"
     ]
    }
   ],
   "source": [
    "filter_data.get_csv(\"Data/Expression_Data/Raw_Data/TcgaTargetGtex_rsem_gene_tpm\", [\"Lung\"], detailed_category = [\"Lung Squamous Cell Carcinoma\", \"Lung\"])\n",
    "filter_data.get_csv(\"Data/Expression_Data/Raw_Data/TcgaTargetGtex_rsem_gene_tpm\", [\"Thyroid\", \"Thyroid Gland\"])\n",
    "filter_data.get_csv(\"Data/Expression_Data/Raw_Data/TcgaTargetGtex_rsem_gene_tpm\", [\"Colon\"])\n",
    "filter_data.get_csv(\"Data/Expression_Data/Raw_Data/TcgaTargetGtex_rsem_gene_tpm\", [\"Skin\"])\n",
    "filter_data.get_csv(\"Data/Expression_Data/Raw_Data/TcgaTargetGtex_rsem_gene_tpm\", [\"Breast\"], genders = [\"Female\"])\n",
    "filter_data.get_csv(\"Data/Expression_Data/Raw_Data/TcgaTargetGtex_rsem_gene_tpm\", [\"Lung\"], detailed_category = [\"Lung Adenocarcinoma\", \"Lung\"])"
   ]
  },
  {
   "cell_type": "code",
   "execution_count": 6,
   "metadata": {},
   "outputs": [
    {
     "name": "stdout",
     "output_type": "stream",
     "text": [
      "Finish\n",
      "Finish\n"
     ]
    }
   ],
   "source": [
    "filter_data.get_csv(\"Data/Expression_Data/Raw_Data/TcgaTargetGtex_rsem_gene_tpm\", [\"Lung\"], detailed_category = [\"Lung Adenocarcinoma\", \"Lung\"])\n",
    "filter_data.get_csv(\"Data/Expression_Data/Raw_Data/TcgaTargetGtex_rsem_gene_tpm\", [\"Lung\"], detailed_category = [\"Lung Squamous Cell Carcinoma\", \"Lung\"])"
   ]
  },
  {
   "cell_type": "code",
   "execution_count": 29,
   "metadata": {},
   "outputs": [
    {
     "name": "stdout",
     "output_type": "stream",
     "text": [
      "Finish\n",
      "\n"
     ]
    }
   ],
   "source": [
    "filter_data.get_csv(\"Data/TcgaTargetGtex_rsem_gene_tpm\", [\"Lung\"], version = \"2\")"
   ]
  },
  {
   "cell_type": "code",
   "execution_count": null,
   "metadata": {},
   "outputs": [],
   "source": []
  }
 ],
 "metadata": {
  "kernelspec": {
   "display_name": "machine-learning",
   "language": "python",
   "name": "machine-learning"
  },
  "language_info": {
   "codemirror_mode": {
    "name": "ipython",
    "version": 3
   },
   "file_extension": ".py",
   "mimetype": "text/x-python",
   "name": "python",
   "nbconvert_exporter": "python",
   "pygments_lexer": "ipython3",
   "version": "3.7.3"
  }
 },
 "nbformat": 4,
 "nbformat_minor": 2
}
