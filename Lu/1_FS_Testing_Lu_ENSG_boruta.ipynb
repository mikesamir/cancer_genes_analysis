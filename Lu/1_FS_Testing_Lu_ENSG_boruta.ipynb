{
 "cells": [
  {
   "cell_type": "code",
   "execution_count": 22,
   "metadata": {},
   "outputs": [],
   "source": [
    "import pandas as pd\n",
    "import matplotlib.pyplot as plt\n",
    "import seaborn as sns\n",
    "import numpy as np\n",
    "\n",
    "from scipy import stats\n",
    "\n",
    "from imblearn.over_sampling import SMOTE\n",
    "\n",
    "from sklearn.preprocessing import MinMaxScaler\n",
    "\n",
    "from boruta import BorutaPy\n",
    "from sklearn.model_selection import train_test_split\n",
    "from sklearn.model_selection import cross_val_score\n",
    "from sklearn.ensemble import RandomForestClassifier\n",
    "from sklearn.linear_model import LogisticRegression\n",
    "from sklearn.metrics import accuracy_score\n",
    "from sklearn.metrics import f1_score\n",
    "from sklearn.metrics import confusion_matrix\n",
    "from sklearn.metrics import classification_report\n",
    "\n",
    "from sklearn.feature_selection import VarianceThreshold\n",
    "\n",
    "import warnings\n",
    "warnings.filterwarnings('ignore')"
   ]
  },
  {
   "cell_type": "code",
   "execution_count": 2,
   "metadata": {},
   "outputs": [],
   "source": [
    "# read dataset\n",
    "\n",
    "df_breast = pd.read_csv(\"breast_normal_primary_ENSG_2.0.csv\", index_col=0)"
   ]
  },
  {
   "cell_type": "code",
   "execution_count": 3,
   "metadata": {},
   "outputs": [
    {
     "name": "stdout",
     "output_type": "stream",
     "text": [
      "<class 'pandas.core.frame.DataFrame'>\n",
      "Index: 1271 entries, TCGA-C8-A1HL-01 to GTEX-1117F-2826-SM-5GZXL\n",
      "Columns: 60499 entries, label to ENSG00000181518.3\n",
      "dtypes: float64(60498), int64(1)\n",
      "memory usage: 586.7+ MB\n"
     ]
    }
   ],
   "source": [
    "df_breast.info()"
   ]
  },
  {
   "cell_type": "code",
   "execution_count": 4,
   "metadata": {},
   "outputs": [],
   "source": [
    "# create X\n",
    "\n",
    "X = df_breast.drop(\"label\", axis=1)"
   ]
  },
  {
   "cell_type": "code",
   "execution_count": 5,
   "metadata": {},
   "outputs": [],
   "source": [
    "# create y\n",
    "\n",
    "y = df_breast[\"label\"]"
   ]
  },
  {
   "cell_type": "code",
   "execution_count": null,
   "metadata": {},
   "outputs": [],
   "source": [
    "#(df_breast.std() > 2).sum()"
   ]
  },
  {
   "cell_type": "code",
   "execution_count": null,
   "metadata": {},
   "outputs": [],
   "source": [
    "# filter X with std > treshold\n",
    "\n",
    "#X_filter_std2 = X.loc[:, X.std() > 2]\n",
    "#X_filter_std2.info()"
   ]
  },
  {
   "cell_type": "code",
   "execution_count": 6,
   "metadata": {},
   "outputs": [
    {
     "name": "stdout",
     "output_type": "stream",
     "text": [
      "<class 'pandas.core.frame.DataFrame'>\n",
      "Index: 1271 entries, TCGA-C8-A1HL-01 to GTEX-1117F-2826-SM-5GZXL\n",
      "Columns: 8264 entries, ENSG00000242268.2 to ENSG00000273233.1\n",
      "dtypes: float64(8264)\n",
      "memory usage: 80.1+ MB\n"
     ]
    }
   ],
   "source": [
    "X_filter_std3 = X.loc[:, X.std() > 3]\n",
    "X_filter_std3.info()"
   ]
  },
  {
   "cell_type": "code",
   "execution_count": null,
   "metadata": {},
   "outputs": [],
   "source": [
    "# filter X with variation\n",
    "\n",
    "#thresholder = VarianceThreshold(threshold=9)\n",
    "#X_high_variance = thresholder.fit_transform(X)\n",
    "\n",
    "#X_high_variance.shape"
   ]
  },
  {
   "cell_type": "code",
   "execution_count": null,
   "metadata": {},
   "outputs": [],
   "source": [
    "#type(X_high_variance)"
   ]
  },
  {
   "cell_type": "code",
   "execution_count": null,
   "metadata": {},
   "outputs": [],
   "source": []
  },
  {
   "cell_type": "code",
   "execution_count": null,
   "metadata": {},
   "outputs": [],
   "source": []
  },
  {
   "cell_type": "code",
   "execution_count": 7,
   "metadata": {},
   "outputs": [],
   "source": [
    "# set seed for all random\n",
    "\n",
    "SEED=1888"
   ]
  },
  {
   "cell_type": "code",
   "execution_count": 8,
   "metadata": {},
   "outputs": [],
   "source": [
    "# split train and validation\n",
    "\n",
    "X_train_0, X_val, y_train_0, y_val = train_test_split(X_filter_std3, y, test_size=0.3, random_state=SEED)"
   ]
  },
  {
   "cell_type": "code",
   "execution_count": null,
   "metadata": {},
   "outputs": [],
   "source": [
    "X_val.info()"
   ]
  },
  {
   "cell_type": "code",
   "execution_count": null,
   "metadata": {},
   "outputs": [],
   "source": [
    "X_train_0.info()"
   ]
  },
  {
   "cell_type": "code",
   "execution_count": 9,
   "metadata": {},
   "outputs": [],
   "source": [
    "# split train to train and test\n",
    "\n",
    "X_train, X_test, y_train, y_test = train_test_split(X_train_0, y_train_0, test_size=0.3, random_state=SEED)"
   ]
  },
  {
   "cell_type": "code",
   "execution_count": null,
   "metadata": {},
   "outputs": [],
   "source": [
    "# scaling\n",
    "\n",
    "#scaler = MinMaxScaler()\n",
    "\n",
    "#X_train_scaled = scaler.fit_transform(X_train)\n",
    "#X_test_scaled = scaler.transform(X_test)\n",
    "#X_val_scaled = scaler.transform(X_val)"
   ]
  },
  {
   "cell_type": "code",
   "execution_count": 10,
   "metadata": {},
   "outputs": [
    {
     "name": "stdout",
     "output_type": "stream",
     "text": [
      "Number transactions X_train dataset:  (622, 8264)\n",
      "Number transactions y_train dataset:  (622,)\n",
      "Number transactions X_test dataset:  (267, 8264)\n",
      "Number transactions y_test dataset:  (267,)\n"
     ]
    }
   ],
   "source": [
    "print(\"Number transactions X_train dataset: \", X_train.shape)\n",
    "print(\"Number transactions y_train dataset: \", y_train.shape)\n",
    "print(\"Number transactions X_test dataset: \", X_test.shape)\n",
    "print(\"Number transactions y_test dataset: \", y_test.shape)"
   ]
  },
  {
   "cell_type": "code",
   "execution_count": 11,
   "metadata": {},
   "outputs": [
    {
     "name": "stdout",
     "output_type": "stream",
     "text": [
      "Before OverSampling, counts of label '1': 536\n",
      "Before OverSampling, counts of label '0': 86 \n",
      "\n",
      "After OverSampling, the shape of train_X: (1072, 8264)\n",
      "After OverSampling, the shape of train_y: (1072,) \n",
      "\n",
      "After OverSampling, counts of label '1': 536\n",
      "After OverSampling, counts of label '0': 536\n"
     ]
    }
   ],
   "source": [
    "# upsampling with SMOTE\n",
    "\n",
    "print(\"Before OverSampling, counts of label '1': {}\".format(sum(y_train==1)))\n",
    "print(\"Before OverSampling, counts of label '0': {} \\n\".format(sum(y_train==0)))\n",
    "\n",
    "sm = SMOTE(random_state=SEED)\n",
    "X_train_res, y_train_res = sm.fit_sample(X_train, y_train.ravel())\n",
    "\n",
    "print('After OverSampling, the shape of train_X: {}'.format(X_train_res.shape))\n",
    "print('After OverSampling, the shape of train_y: {} \\n'.format(y_train_res.shape))\n",
    "\n",
    "print(\"After OverSampling, counts of label '1': {}\".format(sum(y_train_res==1)))\n",
    "print(\"After OverSampling, counts of label '0': {}\".format(sum(y_train_res==0)))"
   ]
  },
  {
   "cell_type": "code",
   "execution_count": 12,
   "metadata": {},
   "outputs": [],
   "source": [
    "# get column names\n",
    "\n",
    "column_names = X_train.columns"
   ]
  },
  {
   "cell_type": "code",
   "execution_count": 13,
   "metadata": {},
   "outputs": [],
   "source": [
    "# numpy array from SMOTE back to df\n",
    "\n",
    "X_train_smote = pd.DataFrame(X_train_res, columns=column_names)\n",
    "#X_train_smote"
   ]
  },
  {
   "cell_type": "code",
   "execution_count": 16,
   "metadata": {},
   "outputs": [],
   "source": [
    "# X_validation to df\n",
    "\n",
    "#X_val_scaled_df = pd.DataFrame(X_val_scaled, columns=column_names)"
   ]
  },
  {
   "cell_type": "code",
   "execution_count": 15,
   "metadata": {},
   "outputs": [
    {
     "name": "stdout",
     "output_type": "stream",
     "text": [
      "Iteration: \t1 / 25\n",
      "Confirmed: \t0\n",
      "Tentative: \t8264\n",
      "Rejected: \t0\n"
     ]
    },
    {
     "ename": "KeyboardInterrupt",
     "evalue": "",
     "output_type": "error",
     "traceback": [
      "\u001b[0;31m---------------------------------------------------------------------------\u001b[0m",
      "\u001b[0;31mKeyboardInterrupt\u001b[0m                         Traceback (most recent call last)",
      "\u001b[0;32m<ipython-input-15-50b04898a1c1>\u001b[0m in \u001b[0;36m<module>\u001b[0;34m\u001b[0m\n\u001b[1;32m      9\u001b[0m boruta = BorutaPy(rf_boruta, n_estimators='auto', verbose=2, alpha=0.005,\n\u001b[1;32m     10\u001b[0m                   max_iter=25, perc=100, random_state=SEED)\n\u001b[0;32m---> 11\u001b[0;31m \u001b[0mboruta\u001b[0m\u001b[0;34m.\u001b[0m\u001b[0mfit\u001b[0m\u001b[0;34m(\u001b[0m\u001b[0mX_train_smote\u001b[0m\u001b[0;34m.\u001b[0m\u001b[0mvalues\u001b[0m\u001b[0;34m,\u001b[0m \u001b[0my_train_res\u001b[0m\u001b[0;34m)\u001b[0m\u001b[0;34m\u001b[0m\u001b[0;34m\u001b[0m\u001b[0m\n\u001b[0m\u001b[1;32m     12\u001b[0m \u001b[0;34m\u001b[0m\u001b[0m\n\u001b[1;32m     13\u001b[0m \u001b[0;31m# Select features and fit Logistic Regression\u001b[0m\u001b[0;34m\u001b[0m\u001b[0;34m\u001b[0m\u001b[0;34m\u001b[0m\u001b[0m\n",
      "\u001b[0;32m~/anaconda/envs/deeplearning/lib/python3.7/site-packages/boruta/boruta_py.py\u001b[0m in \u001b[0;36mfit\u001b[0;34m(self, X, y)\u001b[0m\n\u001b[1;32m    199\u001b[0m         \"\"\"\n\u001b[1;32m    200\u001b[0m \u001b[0;34m\u001b[0m\u001b[0m\n\u001b[0;32m--> 201\u001b[0;31m         \u001b[0;32mreturn\u001b[0m \u001b[0mself\u001b[0m\u001b[0;34m.\u001b[0m\u001b[0m_fit\u001b[0m\u001b[0;34m(\u001b[0m\u001b[0mX\u001b[0m\u001b[0;34m,\u001b[0m \u001b[0my\u001b[0m\u001b[0;34m)\u001b[0m\u001b[0;34m\u001b[0m\u001b[0;34m\u001b[0m\u001b[0m\n\u001b[0m\u001b[1;32m    202\u001b[0m \u001b[0;34m\u001b[0m\u001b[0m\n\u001b[1;32m    203\u001b[0m     \u001b[0;32mdef\u001b[0m \u001b[0mtransform\u001b[0m\u001b[0;34m(\u001b[0m\u001b[0mself\u001b[0m\u001b[0;34m,\u001b[0m \u001b[0mX\u001b[0m\u001b[0;34m,\u001b[0m \u001b[0mweak\u001b[0m\u001b[0;34m=\u001b[0m\u001b[0;32mFalse\u001b[0m\u001b[0;34m)\u001b[0m\u001b[0;34m:\u001b[0m\u001b[0;34m\u001b[0m\u001b[0;34m\u001b[0m\u001b[0m\n",
      "\u001b[0;32m~/anaconda/envs/deeplearning/lib/python3.7/site-packages/boruta/boruta_py.py\u001b[0m in \u001b[0;36m_fit\u001b[0;34m(self, X, y)\u001b[0m\n\u001b[1;32m    283\u001b[0m \u001b[0;34m\u001b[0m\u001b[0m\n\u001b[1;32m    284\u001b[0m             \u001b[0;31m# add shadow attributes, shuffle them and train estimator, get imps\u001b[0m\u001b[0;34m\u001b[0m\u001b[0;34m\u001b[0m\u001b[0;34m\u001b[0m\u001b[0m\n\u001b[0;32m--> 285\u001b[0;31m             \u001b[0mcur_imp\u001b[0m \u001b[0;34m=\u001b[0m \u001b[0mself\u001b[0m\u001b[0;34m.\u001b[0m\u001b[0m_add_shadows_get_imps\u001b[0m\u001b[0;34m(\u001b[0m\u001b[0mX\u001b[0m\u001b[0;34m,\u001b[0m \u001b[0my\u001b[0m\u001b[0;34m,\u001b[0m \u001b[0mdec_reg\u001b[0m\u001b[0;34m)\u001b[0m\u001b[0;34m\u001b[0m\u001b[0;34m\u001b[0m\u001b[0m\n\u001b[0m\u001b[1;32m    286\u001b[0m \u001b[0;34m\u001b[0m\u001b[0m\n\u001b[1;32m    287\u001b[0m             \u001b[0;31m# get the threshold of shadow importances we will use for rejection\u001b[0m\u001b[0;34m\u001b[0m\u001b[0;34m\u001b[0m\u001b[0;34m\u001b[0m\u001b[0m\n",
      "\u001b[0;32m~/anaconda/envs/deeplearning/lib/python3.7/site-packages/boruta/boruta_py.py\u001b[0m in \u001b[0;36m_add_shadows_get_imps\u001b[0;34m(self, X, y, dec_reg)\u001b[0m\n\u001b[1;32m    406\u001b[0m         \u001b[0mx_sha\u001b[0m \u001b[0;34m=\u001b[0m \u001b[0mnp\u001b[0m\u001b[0;34m.\u001b[0m\u001b[0mapply_along_axis\u001b[0m\u001b[0;34m(\u001b[0m\u001b[0mself\u001b[0m\u001b[0;34m.\u001b[0m\u001b[0m_get_shuffle\u001b[0m\u001b[0;34m,\u001b[0m \u001b[0;36m0\u001b[0m\u001b[0;34m,\u001b[0m \u001b[0mx_sha\u001b[0m\u001b[0;34m)\u001b[0m\u001b[0;34m\u001b[0m\u001b[0;34m\u001b[0m\u001b[0m\n\u001b[1;32m    407\u001b[0m         \u001b[0;31m# get importance of the merged matrix\u001b[0m\u001b[0;34m\u001b[0m\u001b[0;34m\u001b[0m\u001b[0;34m\u001b[0m\u001b[0m\n\u001b[0;32m--> 408\u001b[0;31m         \u001b[0mimp\u001b[0m \u001b[0;34m=\u001b[0m \u001b[0mself\u001b[0m\u001b[0;34m.\u001b[0m\u001b[0m_get_imp\u001b[0m\u001b[0;34m(\u001b[0m\u001b[0mnp\u001b[0m\u001b[0;34m.\u001b[0m\u001b[0mhstack\u001b[0m\u001b[0;34m(\u001b[0m\u001b[0;34m(\u001b[0m\u001b[0mx_cur\u001b[0m\u001b[0;34m,\u001b[0m \u001b[0mx_sha\u001b[0m\u001b[0;34m)\u001b[0m\u001b[0;34m)\u001b[0m\u001b[0;34m,\u001b[0m \u001b[0my\u001b[0m\u001b[0;34m)\u001b[0m\u001b[0;34m\u001b[0m\u001b[0;34m\u001b[0m\u001b[0m\n\u001b[0m\u001b[1;32m    409\u001b[0m         \u001b[0;31m# separate importances of real and shadow features\u001b[0m\u001b[0;34m\u001b[0m\u001b[0;34m\u001b[0m\u001b[0;34m\u001b[0m\u001b[0m\n\u001b[1;32m    410\u001b[0m         \u001b[0mimp_sha\u001b[0m \u001b[0;34m=\u001b[0m \u001b[0mimp\u001b[0m\u001b[0;34m[\u001b[0m\u001b[0mx_cur_w\u001b[0m\u001b[0;34m:\u001b[0m\u001b[0;34m]\u001b[0m\u001b[0;34m\u001b[0m\u001b[0;34m\u001b[0m\u001b[0m\n",
      "\u001b[0;32m~/anaconda/envs/deeplearning/lib/python3.7/site-packages/boruta/boruta_py.py\u001b[0m in \u001b[0;36m_get_imp\u001b[0;34m(self, X, y)\u001b[0m\n\u001b[1;32m    383\u001b[0m                              'estimator cannot be fitted to your data.\\n' + e)\n\u001b[1;32m    384\u001b[0m         \u001b[0;32mtry\u001b[0m\u001b[0;34m:\u001b[0m\u001b[0;34m\u001b[0m\u001b[0;34m\u001b[0m\u001b[0m\n\u001b[0;32m--> 385\u001b[0;31m             \u001b[0mimp\u001b[0m \u001b[0;34m=\u001b[0m \u001b[0mself\u001b[0m\u001b[0;34m.\u001b[0m\u001b[0mestimator\u001b[0m\u001b[0;34m.\u001b[0m\u001b[0mfeature_importances_\u001b[0m\u001b[0;34m\u001b[0m\u001b[0;34m\u001b[0m\u001b[0m\n\u001b[0m\u001b[1;32m    386\u001b[0m         \u001b[0;32mexcept\u001b[0m \u001b[0mException\u001b[0m\u001b[0;34m:\u001b[0m\u001b[0;34m\u001b[0m\u001b[0;34m\u001b[0m\u001b[0m\n\u001b[1;32m    387\u001b[0m             raise ValueError('Only methods with feature_importance_ attribute '\n",
      "\u001b[0;32m~/anaconda/envs/deeplearning/lib/python3.7/site-packages/sklearn/ensemble/forest.py\u001b[0m in \u001b[0;36mfeature_importances_\u001b[0;34m(self)\u001b[0m\n\u001b[1;32m    376\u001b[0m                                    \u001b[0;34m**\u001b[0m\u001b[0m_joblib_parallel_args\u001b[0m\u001b[0;34m(\u001b[0m\u001b[0mprefer\u001b[0m\u001b[0;34m=\u001b[0m\u001b[0;34m'threads'\u001b[0m\u001b[0;34m)\u001b[0m\u001b[0;34m)\u001b[0m\u001b[0;34m(\u001b[0m\u001b[0;34m\u001b[0m\u001b[0;34m\u001b[0m\u001b[0m\n\u001b[1;32m    377\u001b[0m             \u001b[0mdelayed\u001b[0m\u001b[0;34m(\u001b[0m\u001b[0mgetattr\u001b[0m\u001b[0;34m)\u001b[0m\u001b[0;34m(\u001b[0m\u001b[0mtree\u001b[0m\u001b[0;34m,\u001b[0m \u001b[0;34m'feature_importances_'\u001b[0m\u001b[0;34m)\u001b[0m\u001b[0;34m\u001b[0m\u001b[0;34m\u001b[0m\u001b[0m\n\u001b[0;32m--> 378\u001b[0;31m             for tree in self.estimators_)\n\u001b[0m\u001b[1;32m    379\u001b[0m \u001b[0;34m\u001b[0m\u001b[0m\n\u001b[1;32m    380\u001b[0m         \u001b[0;32mreturn\u001b[0m \u001b[0msum\u001b[0m\u001b[0;34m(\u001b[0m\u001b[0mall_importances\u001b[0m\u001b[0;34m)\u001b[0m \u001b[0;34m/\u001b[0m \u001b[0mlen\u001b[0m\u001b[0;34m(\u001b[0m\u001b[0mself\u001b[0m\u001b[0;34m.\u001b[0m\u001b[0mestimators_\u001b[0m\u001b[0;34m)\u001b[0m\u001b[0;34m\u001b[0m\u001b[0;34m\u001b[0m\u001b[0m\n",
      "\u001b[0;32m~/anaconda/envs/deeplearning/lib/python3.7/site-packages/sklearn/externals/joblib/parallel.py\u001b[0m in \u001b[0;36m__call__\u001b[0;34m(self, iterable)\u001b[0m\n\u001b[1;32m    928\u001b[0m \u001b[0;34m\u001b[0m\u001b[0m\n\u001b[1;32m    929\u001b[0m             \u001b[0;32mwith\u001b[0m \u001b[0mself\u001b[0m\u001b[0;34m.\u001b[0m\u001b[0m_backend\u001b[0m\u001b[0;34m.\u001b[0m\u001b[0mretrieval_context\u001b[0m\u001b[0;34m(\u001b[0m\u001b[0;34m)\u001b[0m\u001b[0;34m:\u001b[0m\u001b[0;34m\u001b[0m\u001b[0;34m\u001b[0m\u001b[0m\n\u001b[0;32m--> 930\u001b[0;31m                 \u001b[0mself\u001b[0m\u001b[0;34m.\u001b[0m\u001b[0mretrieve\u001b[0m\u001b[0;34m(\u001b[0m\u001b[0;34m)\u001b[0m\u001b[0;34m\u001b[0m\u001b[0;34m\u001b[0m\u001b[0m\n\u001b[0m\u001b[1;32m    931\u001b[0m             \u001b[0;31m# Make sure that we get a last message telling us we are done\u001b[0m\u001b[0;34m\u001b[0m\u001b[0;34m\u001b[0m\u001b[0;34m\u001b[0m\u001b[0m\n\u001b[1;32m    932\u001b[0m             \u001b[0melapsed_time\u001b[0m \u001b[0;34m=\u001b[0m \u001b[0mtime\u001b[0m\u001b[0;34m.\u001b[0m\u001b[0mtime\u001b[0m\u001b[0;34m(\u001b[0m\u001b[0;34m)\u001b[0m \u001b[0;34m-\u001b[0m \u001b[0mself\u001b[0m\u001b[0;34m.\u001b[0m\u001b[0m_start_time\u001b[0m\u001b[0;34m\u001b[0m\u001b[0;34m\u001b[0m\u001b[0m\n",
      "\u001b[0;32m~/anaconda/envs/deeplearning/lib/python3.7/site-packages/sklearn/externals/joblib/parallel.py\u001b[0m in \u001b[0;36mretrieve\u001b[0;34m(self)\u001b[0m\n\u001b[1;32m    831\u001b[0m             \u001b[0;32mtry\u001b[0m\u001b[0;34m:\u001b[0m\u001b[0;34m\u001b[0m\u001b[0;34m\u001b[0m\u001b[0m\n\u001b[1;32m    832\u001b[0m                 \u001b[0;32mif\u001b[0m \u001b[0mgetattr\u001b[0m\u001b[0;34m(\u001b[0m\u001b[0mself\u001b[0m\u001b[0;34m.\u001b[0m\u001b[0m_backend\u001b[0m\u001b[0;34m,\u001b[0m \u001b[0;34m'supports_timeout'\u001b[0m\u001b[0;34m,\u001b[0m \u001b[0;32mFalse\u001b[0m\u001b[0;34m)\u001b[0m\u001b[0;34m:\u001b[0m\u001b[0;34m\u001b[0m\u001b[0;34m\u001b[0m\u001b[0m\n\u001b[0;32m--> 833\u001b[0;31m                     \u001b[0mself\u001b[0m\u001b[0;34m.\u001b[0m\u001b[0m_output\u001b[0m\u001b[0;34m.\u001b[0m\u001b[0mextend\u001b[0m\u001b[0;34m(\u001b[0m\u001b[0mjob\u001b[0m\u001b[0;34m.\u001b[0m\u001b[0mget\u001b[0m\u001b[0;34m(\u001b[0m\u001b[0mtimeout\u001b[0m\u001b[0;34m=\u001b[0m\u001b[0mself\u001b[0m\u001b[0;34m.\u001b[0m\u001b[0mtimeout\u001b[0m\u001b[0;34m)\u001b[0m\u001b[0;34m)\u001b[0m\u001b[0;34m\u001b[0m\u001b[0;34m\u001b[0m\u001b[0m\n\u001b[0m\u001b[1;32m    834\u001b[0m                 \u001b[0;32melse\u001b[0m\u001b[0;34m:\u001b[0m\u001b[0;34m\u001b[0m\u001b[0;34m\u001b[0m\u001b[0m\n\u001b[1;32m    835\u001b[0m                     \u001b[0mself\u001b[0m\u001b[0;34m.\u001b[0m\u001b[0m_output\u001b[0m\u001b[0;34m.\u001b[0m\u001b[0mextend\u001b[0m\u001b[0;34m(\u001b[0m\u001b[0mjob\u001b[0m\u001b[0;34m.\u001b[0m\u001b[0mget\u001b[0m\u001b[0;34m(\u001b[0m\u001b[0;34m)\u001b[0m\u001b[0;34m)\u001b[0m\u001b[0;34m\u001b[0m\u001b[0;34m\u001b[0m\u001b[0m\n",
      "\u001b[0;32m~/anaconda/envs/deeplearning/lib/python3.7/multiprocessing/pool.py\u001b[0m in \u001b[0;36mget\u001b[0;34m(self, timeout)\u001b[0m\n\u001b[1;32m    649\u001b[0m \u001b[0;34m\u001b[0m\u001b[0m\n\u001b[1;32m    650\u001b[0m     \u001b[0;32mdef\u001b[0m \u001b[0mget\u001b[0m\u001b[0;34m(\u001b[0m\u001b[0mself\u001b[0m\u001b[0;34m,\u001b[0m \u001b[0mtimeout\u001b[0m\u001b[0;34m=\u001b[0m\u001b[0;32mNone\u001b[0m\u001b[0;34m)\u001b[0m\u001b[0;34m:\u001b[0m\u001b[0;34m\u001b[0m\u001b[0;34m\u001b[0m\u001b[0m\n\u001b[0;32m--> 651\u001b[0;31m         \u001b[0mself\u001b[0m\u001b[0;34m.\u001b[0m\u001b[0mwait\u001b[0m\u001b[0;34m(\u001b[0m\u001b[0mtimeout\u001b[0m\u001b[0;34m)\u001b[0m\u001b[0;34m\u001b[0m\u001b[0;34m\u001b[0m\u001b[0m\n\u001b[0m\u001b[1;32m    652\u001b[0m         \u001b[0;32mif\u001b[0m \u001b[0;32mnot\u001b[0m \u001b[0mself\u001b[0m\u001b[0;34m.\u001b[0m\u001b[0mready\u001b[0m\u001b[0;34m(\u001b[0m\u001b[0;34m)\u001b[0m\u001b[0;34m:\u001b[0m\u001b[0;34m\u001b[0m\u001b[0;34m\u001b[0m\u001b[0m\n\u001b[1;32m    653\u001b[0m             \u001b[0;32mraise\u001b[0m \u001b[0mTimeoutError\u001b[0m\u001b[0;34m\u001b[0m\u001b[0;34m\u001b[0m\u001b[0m\n",
      "\u001b[0;32m~/anaconda/envs/deeplearning/lib/python3.7/multiprocessing/pool.py\u001b[0m in \u001b[0;36mwait\u001b[0;34m(self, timeout)\u001b[0m\n\u001b[1;32m    646\u001b[0m \u001b[0;34m\u001b[0m\u001b[0m\n\u001b[1;32m    647\u001b[0m     \u001b[0;32mdef\u001b[0m \u001b[0mwait\u001b[0m\u001b[0;34m(\u001b[0m\u001b[0mself\u001b[0m\u001b[0;34m,\u001b[0m \u001b[0mtimeout\u001b[0m\u001b[0;34m=\u001b[0m\u001b[0;32mNone\u001b[0m\u001b[0;34m)\u001b[0m\u001b[0;34m:\u001b[0m\u001b[0;34m\u001b[0m\u001b[0;34m\u001b[0m\u001b[0m\n\u001b[0;32m--> 648\u001b[0;31m         \u001b[0mself\u001b[0m\u001b[0;34m.\u001b[0m\u001b[0m_event\u001b[0m\u001b[0;34m.\u001b[0m\u001b[0mwait\u001b[0m\u001b[0;34m(\u001b[0m\u001b[0mtimeout\u001b[0m\u001b[0;34m)\u001b[0m\u001b[0;34m\u001b[0m\u001b[0;34m\u001b[0m\u001b[0m\n\u001b[0m\u001b[1;32m    649\u001b[0m \u001b[0;34m\u001b[0m\u001b[0m\n\u001b[1;32m    650\u001b[0m     \u001b[0;32mdef\u001b[0m \u001b[0mget\u001b[0m\u001b[0;34m(\u001b[0m\u001b[0mself\u001b[0m\u001b[0;34m,\u001b[0m \u001b[0mtimeout\u001b[0m\u001b[0;34m=\u001b[0m\u001b[0;32mNone\u001b[0m\u001b[0;34m)\u001b[0m\u001b[0;34m:\u001b[0m\u001b[0;34m\u001b[0m\u001b[0;34m\u001b[0m\u001b[0m\n",
      "\u001b[0;32m~/anaconda/envs/deeplearning/lib/python3.7/threading.py\u001b[0m in \u001b[0;36mwait\u001b[0;34m(self, timeout)\u001b[0m\n\u001b[1;32m    550\u001b[0m             \u001b[0msignaled\u001b[0m \u001b[0;34m=\u001b[0m \u001b[0mself\u001b[0m\u001b[0;34m.\u001b[0m\u001b[0m_flag\u001b[0m\u001b[0;34m\u001b[0m\u001b[0;34m\u001b[0m\u001b[0m\n\u001b[1;32m    551\u001b[0m             \u001b[0;32mif\u001b[0m \u001b[0;32mnot\u001b[0m \u001b[0msignaled\u001b[0m\u001b[0;34m:\u001b[0m\u001b[0;34m\u001b[0m\u001b[0;34m\u001b[0m\u001b[0m\n\u001b[0;32m--> 552\u001b[0;31m                 \u001b[0msignaled\u001b[0m \u001b[0;34m=\u001b[0m \u001b[0mself\u001b[0m\u001b[0;34m.\u001b[0m\u001b[0m_cond\u001b[0m\u001b[0;34m.\u001b[0m\u001b[0mwait\u001b[0m\u001b[0;34m(\u001b[0m\u001b[0mtimeout\u001b[0m\u001b[0;34m)\u001b[0m\u001b[0;34m\u001b[0m\u001b[0;34m\u001b[0m\u001b[0m\n\u001b[0m\u001b[1;32m    553\u001b[0m             \u001b[0;32mreturn\u001b[0m \u001b[0msignaled\u001b[0m\u001b[0;34m\u001b[0m\u001b[0;34m\u001b[0m\u001b[0m\n\u001b[1;32m    554\u001b[0m \u001b[0;34m\u001b[0m\u001b[0m\n",
      "\u001b[0;32m~/anaconda/envs/deeplearning/lib/python3.7/threading.py\u001b[0m in \u001b[0;36mwait\u001b[0;34m(self, timeout)\u001b[0m\n\u001b[1;32m    294\u001b[0m         \u001b[0;32mtry\u001b[0m\u001b[0;34m:\u001b[0m    \u001b[0;31m# restore state no matter what (e.g., KeyboardInterrupt)\u001b[0m\u001b[0;34m\u001b[0m\u001b[0;34m\u001b[0m\u001b[0m\n\u001b[1;32m    295\u001b[0m             \u001b[0;32mif\u001b[0m \u001b[0mtimeout\u001b[0m \u001b[0;32mis\u001b[0m \u001b[0;32mNone\u001b[0m\u001b[0;34m:\u001b[0m\u001b[0;34m\u001b[0m\u001b[0;34m\u001b[0m\u001b[0m\n\u001b[0;32m--> 296\u001b[0;31m                 \u001b[0mwaiter\u001b[0m\u001b[0;34m.\u001b[0m\u001b[0macquire\u001b[0m\u001b[0;34m(\u001b[0m\u001b[0;34m)\u001b[0m\u001b[0;34m\u001b[0m\u001b[0;34m\u001b[0m\u001b[0m\n\u001b[0m\u001b[1;32m    297\u001b[0m                 \u001b[0mgotit\u001b[0m \u001b[0;34m=\u001b[0m \u001b[0;32mTrue\u001b[0m\u001b[0;34m\u001b[0m\u001b[0;34m\u001b[0m\u001b[0m\n\u001b[1;32m    298\u001b[0m             \u001b[0;32melse\u001b[0m\u001b[0;34m:\u001b[0m\u001b[0;34m\u001b[0m\u001b[0;34m\u001b[0m\u001b[0m\n",
      "\u001b[0;31mKeyboardInterrupt\u001b[0m: "
     ]
    }
   ],
   "source": [
    "from sklearn.metrics import f1_score # import again because it works like that :)\n",
    "\n",
    "# Random Forests for Boruta\n",
    "\n",
    "rf_boruta = RandomForestClassifier(n_jobs=-1, random_state=SEED)\n",
    "\n",
    "# Perform Boruta\n",
    "\n",
    "boruta = BorutaPy(rf_boruta, n_estimators='auto', verbose=2, alpha=0.005,\n",
    "                  max_iter=25, perc=100, random_state=SEED)\n",
    "boruta.fit(X_train_smote.values, y_train_res)\n",
    "\n",
    "# Select features and fit Logistic Regression\n",
    "\n",
    "cols = X_train_smote.columns[boruta.support_]\n",
    "est_boruta = LogisticRegression(random_state=SEED)\n",
    "est_boruta.fit(X_train_smote[cols], y_train_res)\n",
    "\n",
    "scores = cross_val_score(est_boruta, X_train_smote[cols], y_train_res, cv=5)\n",
    "\n",
    "# Test accuracy\n",
    "\n",
    "#acc = accuracy_score(y_val, est_boruta.predict(X_val[cols0]))\n",
    "f1_score = f1_score(y_val, est_boruta.predict(X_val[cols]))\n",
    "\n",
    "print('Number of features selected: {}'.format(len(cols)))\n",
    "#print('Test Accuracy {:.5f}'.format(acc))\n",
    "print(\"F1 score {:.5f}\".format(f1_score))\n",
    "print(\"CV Accuracy: %0.2f (+/- %0.2f)\" % (scores.mean(), scores.std() * 2))"
   ]
  },
  {
   "cell_type": "code",
   "execution_count": null,
   "metadata": {},
   "outputs": [],
   "source": []
  },
  {
   "cell_type": "code",
   "execution_count": 34,
   "metadata": {},
   "outputs": [
    {
     "data": {
      "text/plain": [
       "array([ True, False, False,  True,  True,  True,  True, False,  True,\n",
       "        True,  True,  True,  True, False,  True,  True,  True,  True,\n",
       "       False,  True, False, False,  True, False,  True, False,  True,\n",
       "        True,  True,  True,  True,  True,  True,  True, False, False,\n",
       "        True,  True, False, False,  True,  True,  True,  True,  True,\n",
       "        True,  True,  True, False,  True])"
      ]
     },
     "execution_count": 34,
     "metadata": {},
     "output_type": "execute_result"
    }
   ],
   "source": [
    "boruta.support_"
   ]
  },
  {
   "cell_type": "code",
   "execution_count": 37,
   "metadata": {},
   "outputs": [
    {
     "data": {
      "text/plain": [
       "36"
      ]
     },
     "execution_count": 37,
     "metadata": {},
     "output_type": "execute_result"
    }
   ],
   "source": [
    "boruta.n_features_"
   ]
  },
  {
   "cell_type": "code",
   "execution_count": 19,
   "metadata": {},
   "outputs": [],
   "source": [
    "X_filtered = X_train_smote[cols]\n",
    "#X_filtered"
   ]
  },
  {
   "cell_type": "code",
   "execution_count": null,
   "metadata": {},
   "outputs": [],
   "source": []
  },
  {
   "cell_type": "code",
   "execution_count": 72,
   "metadata": {},
   "outputs": [],
   "source": [
    "def boruta_tree(X_train_smote, y_train_res, X_test, random_state=SEED):\n",
    "\n",
    "    for _ in range(2):\n",
    "    \n",
    "        from sklearn.metrics import f1_score # import again because it works like that :)\n",
    "\n",
    "        # Random Forests for Boruta\n",
    "        rf_boruta = RandomForestClassifier(n_jobs=-1, random_state=random_state)\n",
    "\n",
    "        # Perform Boruta\n",
    "        boruta = BorutaPy(rf_boruta, n_estimators='auto', verbose=2,\n",
    "                      alpha=0.005, max_iter=30, perc=100, random_state=random_state)\n",
    "        boruta.fit(X_train_smote.values, y_train_res)\n",
    "\n",
    "        # Select features and fit Logistic Regression\n",
    "\n",
    "        cols = X_train_smote.columns[boruta.support_]\n",
    "        X_train_smote = X_train_smote[cols]\n",
    "        est_boruta = LogisticRegression(random_state=random_state)\n",
    "        est_boruta.fit(X_train_smote, y_train_res)\n",
    "\n",
    "        scores = cross_val_score(est_boruta, X_train_smote, y_train_res, cv=5)\n",
    "\n",
    "        print(\"CV Accuracy: %0.2f (+/- %0.2f)\" % (scores.mean(), scores.std() * 2))\n",
    "                \n",
    "    # Random Forest for extracting features\n",
    "    \n",
    "    X_filtered = X_train_smote[cols]\n",
    "    \n",
    "    rf = RandomForestClassifier(n_estimators = 10, criterion = 'gini', random_state = SEED)\n",
    "    rf.fit(X_filtered, y_train_res)\n",
    "\n",
    "    print(\"Test Accuracy: {:.2f}\".format(accuracy_score(y_test, rf_pred)))\n",
    "\n",
    "    feature_names = X_filtered.columns\n",
    "    rf_coeff = pd.DataFrame({\"feature\": feature_names,\"coefficient\": rf.feature_importances_})\n",
    "    rf_coeff_top = rf_coeff.sort_values(by=\"coefficient\",ascending=False).head(100).set_index(\"feature\")\n",
    "    \n",
    "    selected_features = rf_coeff_top.index\n",
    "    feature_importances = rf_coeff_top.coefficient.tolist()\n",
    "    \n",
    "    dictionary = {\"boruta_tree\": [selected_features, feature_importances]}\n",
    "    \n",
    "    return dictionary"
   ]
  },
  {
   "cell_type": "code",
   "execution_count": 41,
   "metadata": {},
   "outputs": [
    {
     "ename": "NameError",
     "evalue": "name 'rf_coeff_top' is not defined",
     "output_type": "error",
     "traceback": [
      "\u001b[0;31m---------------------------------------------------------------------------\u001b[0m",
      "\u001b[0;31mNameError\u001b[0m                                 Traceback (most recent call last)",
      "\u001b[0;32m<ipython-input-41-ac6fb769ff8b>\u001b[0m in \u001b[0;36m<module>\u001b[0;34m\u001b[0m\n\u001b[0;32m----> 1\u001b[0;31m \u001b[0mrf_coeff_top\u001b[0m\u001b[0;34m\u001b[0m\u001b[0;34m\u001b[0m\u001b[0m\n\u001b[0m",
      "\u001b[0;31mNameError\u001b[0m: name 'rf_coeff_top' is not defined"
     ]
    }
   ],
   "source": []
  },
  {
   "cell_type": "code",
   "execution_count": null,
   "metadata": {},
   "outputs": [],
   "source": []
  },
  {
   "cell_type": "code",
   "execution_count": 73,
   "metadata": {},
   "outputs": [
    {
     "name": "stdout",
     "output_type": "stream",
     "text": [
      "Iteration: \t1 / 30\n",
      "Confirmed: \t0\n",
      "Tentative: \t8264\n",
      "Rejected: \t0\n",
      "Iteration: \t2 / 30\n",
      "Confirmed: \t0\n",
      "Tentative: \t8264\n",
      "Rejected: \t0\n",
      "Iteration: \t3 / 30\n",
      "Confirmed: \t0\n",
      "Tentative: \t8264\n",
      "Rejected: \t0\n",
      "Iteration: \t4 / 30\n",
      "Confirmed: \t0\n",
      "Tentative: \t8264\n",
      "Rejected: \t0\n",
      "Iteration: \t5 / 30\n",
      "Confirmed: \t0\n",
      "Tentative: \t8264\n",
      "Rejected: \t0\n",
      "Iteration: \t6 / 30\n",
      "Confirmed: \t0\n",
      "Tentative: \t8264\n",
      "Rejected: \t0\n",
      "Iteration: \t7 / 30\n",
      "Confirmed: \t0\n",
      "Tentative: \t8264\n",
      "Rejected: \t0\n",
      "Iteration: \t8 / 30\n",
      "Confirmed: \t0\n",
      "Tentative: \t8264\n",
      "Rejected: \t0\n",
      "Iteration: \t9 / 30\n",
      "Confirmed: \t0\n",
      "Tentative: \t8264\n",
      "Rejected: \t0\n",
      "Iteration: \t10 / 30\n",
      "Confirmed: \t0\n",
      "Tentative: \t8264\n",
      "Rejected: \t0\n",
      "Iteration: \t11 / 30\n",
      "Confirmed: \t0\n",
      "Tentative: \t8264\n",
      "Rejected: \t0\n",
      "Iteration: \t12 / 30\n",
      "Confirmed: \t0\n",
      "Tentative: \t2686\n",
      "Rejected: \t5578\n",
      "Iteration: \t13 / 30\n",
      "Confirmed: \t339\n",
      "Tentative: \t2347\n",
      "Rejected: \t5578\n",
      "Iteration: \t14 / 30\n",
      "Confirmed: \t339\n",
      "Tentative: \t2347\n",
      "Rejected: \t5578\n",
      "Iteration: \t15 / 30\n",
      "Confirmed: \t339\n",
      "Tentative: \t2347\n",
      "Rejected: \t5578\n",
      "Iteration: \t16 / 30\n",
      "Confirmed: \t375\n",
      "Tentative: \t1547\n",
      "Rejected: \t6342\n",
      "Iteration: \t17 / 30\n",
      "Confirmed: \t375\n",
      "Tentative: \t1547\n",
      "Rejected: \t6342\n",
      "Iteration: \t18 / 30\n",
      "Confirmed: \t375\n",
      "Tentative: \t1547\n",
      "Rejected: \t6342\n",
      "Iteration: \t19 / 30\n",
      "Confirmed: \t375\n",
      "Tentative: \t1547\n",
      "Rejected: \t6342\n",
      "Iteration: \t20 / 30\n",
      "Confirmed: \t385\n",
      "Tentative: \t1230\n",
      "Rejected: \t6649\n",
      "Iteration: \t21 / 30\n",
      "Confirmed: \t385\n",
      "Tentative: \t1230\n",
      "Rejected: \t6649\n",
      "Iteration: \t22 / 30\n",
      "Confirmed: \t385\n",
      "Tentative: \t1230\n",
      "Rejected: \t6649\n",
      "Iteration: \t23 / 30\n",
      "Confirmed: \t385\n",
      "Tentative: \t1230\n",
      "Rejected: \t6649\n",
      "Iteration: \t24 / 30\n",
      "Confirmed: \t387\n",
      "Tentative: \t1044\n",
      "Rejected: \t6833\n",
      "Iteration: \t25 / 30\n",
      "Confirmed: \t387\n",
      "Tentative: \t1044\n",
      "Rejected: \t6833\n",
      "Iteration: \t26 / 30\n",
      "Confirmed: \t387\n",
      "Tentative: \t1044\n",
      "Rejected: \t6833\n",
      "Iteration: \t27 / 30\n",
      "Confirmed: \t390\n",
      "Tentative: \t917\n",
      "Rejected: \t6957\n",
      "Iteration: \t28 / 30\n",
      "Confirmed: \t390\n",
      "Tentative: \t917\n",
      "Rejected: \t6957\n",
      "Iteration: \t29 / 30\n",
      "Confirmed: \t390\n",
      "Tentative: \t917\n",
      "Rejected: \t6957\n",
      "\n",
      "\n",
      "BorutaPy finished running.\n",
      "\n",
      "Iteration: \t30 / 30\n",
      "Confirmed: \t390\n",
      "Tentative: \t241\n",
      "Rejected: \t6957\n",
      "CV Accuracy: 1.00 (+/- 0.00)\n",
      "(390,)\n",
      "Iteration: \t1 / 30\n",
      "Confirmed: \t0\n",
      "Tentative: \t390\n",
      "Rejected: \t0\n",
      "Iteration: \t2 / 30\n",
      "Confirmed: \t0\n",
      "Tentative: \t390\n",
      "Rejected: \t0\n",
      "Iteration: \t3 / 30\n",
      "Confirmed: \t0\n",
      "Tentative: \t390\n",
      "Rejected: \t0\n",
      "Iteration: \t4 / 30\n",
      "Confirmed: \t0\n",
      "Tentative: \t390\n",
      "Rejected: \t0\n",
      "Iteration: \t5 / 30\n",
      "Confirmed: \t0\n",
      "Tentative: \t390\n",
      "Rejected: \t0\n",
      "Iteration: \t6 / 30\n",
      "Confirmed: \t0\n",
      "Tentative: \t390\n",
      "Rejected: \t0\n",
      "Iteration: \t7 / 30\n",
      "Confirmed: \t0\n",
      "Tentative: \t390\n",
      "Rejected: \t0\n",
      "Iteration: \t8 / 30\n",
      "Confirmed: \t0\n",
      "Tentative: \t390\n",
      "Rejected: \t0\n",
      "Iteration: \t9 / 30\n",
      "Confirmed: \t0\n",
      "Tentative: \t390\n",
      "Rejected: \t0\n",
      "Iteration: \t10 / 30\n",
      "Confirmed: \t0\n",
      "Tentative: \t390\n",
      "Rejected: \t0\n",
      "Iteration: \t11 / 30\n",
      "Confirmed: \t0\n",
      "Tentative: \t390\n",
      "Rejected: \t0\n",
      "Iteration: \t12 / 30\n",
      "Confirmed: \t77\n",
      "Tentative: \t313\n",
      "Rejected: \t0\n",
      "Iteration: \t13 / 30\n",
      "Confirmed: \t77\n",
      "Tentative: \t313\n",
      "Rejected: \t0\n",
      "Iteration: \t14 / 30\n",
      "Confirmed: \t77\n",
      "Tentative: \t313\n",
      "Rejected: \t0\n",
      "Iteration: \t15 / 30\n",
      "Confirmed: \t77\n",
      "Tentative: \t313\n",
      "Rejected: \t0\n",
      "Iteration: \t16 / 30\n",
      "Confirmed: \t94\n",
      "Tentative: \t296\n",
      "Rejected: \t0\n",
      "Iteration: \t17 / 30\n",
      "Confirmed: \t94\n",
      "Tentative: \t296\n",
      "Rejected: \t0\n",
      "Iteration: \t18 / 30\n",
      "Confirmed: \t94\n",
      "Tentative: \t290\n",
      "Rejected: \t6\n",
      "Iteration: \t19 / 30\n",
      "Confirmed: \t94\n",
      "Tentative: \t290\n",
      "Rejected: \t6\n",
      "Iteration: \t20 / 30\n",
      "Confirmed: \t102\n",
      "Tentative: \t282\n",
      "Rejected: \t6\n",
      "Iteration: \t21 / 30\n",
      "Confirmed: \t102\n",
      "Tentative: \t282\n",
      "Rejected: \t6\n",
      "Iteration: \t22 / 30\n",
      "Confirmed: \t102\n",
      "Tentative: \t282\n",
      "Rejected: \t6\n",
      "Iteration: \t23 / 30\n",
      "Confirmed: \t102\n",
      "Tentative: \t282\n",
      "Rejected: \t6\n",
      "Iteration: \t24 / 30\n",
      "Confirmed: \t111\n",
      "Tentative: \t273\n",
      "Rejected: \t6\n",
      "Iteration: \t25 / 30\n",
      "Confirmed: \t111\n",
      "Tentative: \t272\n",
      "Rejected: \t7\n",
      "Iteration: \t26 / 30\n",
      "Confirmed: \t111\n",
      "Tentative: \t272\n",
      "Rejected: \t7\n",
      "Iteration: \t27 / 30\n",
      "Confirmed: \t117\n",
      "Tentative: \t266\n",
      "Rejected: \t7\n",
      "Iteration: \t28 / 30\n",
      "Confirmed: \t117\n",
      "Tentative: \t259\n",
      "Rejected: \t14\n",
      "Iteration: \t29 / 30\n",
      "Confirmed: \t117\n",
      "Tentative: \t259\n",
      "Rejected: \t14\n",
      "\n",
      "\n",
      "BorutaPy finished running.\n",
      "\n",
      "Iteration: \t30 / 30\n",
      "Confirmed: \t117\n",
      "Tentative: \t133\n",
      "Rejected: \t14\n",
      "CV Accuracy: 1.00 (+/- 0.00)\n",
      "(117,)\n",
      "Test Accuracy: 1.00\n"
     ]
    },
    {
     "data": {
      "text/plain": [
       "{'boruta_tree': [Index(['ENSG00000219928.2', 'ENSG00000256508.2', 'ENSG00000224126.2',\n",
       "         'ENSG00000123500.9', 'ENSG00000260105.6', 'ENSG00000229237.2',\n",
       "         'ENSG00000144230.16', 'ENSG00000262097.1', 'ENSG00000279473.1',\n",
       "         'ENSG00000179751.6', 'ENSG00000235734.4', 'ENSG00000029559.6',\n",
       "         'ENSG00000241431.1', 'ENSG00000224958.5', 'ENSG00000187922.13',\n",
       "         'ENSG00000235875.3', 'ENSG00000197561.6', 'ENSG00000198099.8',\n",
       "         'ENSG00000281974.1', 'ENSG00000067048.16', 'ENSG00000277741.4',\n",
       "         'ENSG00000240509.1', 'ENSG00000279208.1', 'ENSG00000230838.1',\n",
       "         'ENSG00000092054.12', 'ENSG00000267653.1', 'ENSG00000269124.1',\n",
       "         'ENSG00000253683.1', 'ENSG00000175206.10', 'ENSG00000236754.5',\n",
       "         'ENSG00000172023.7', 'ENSG00000237070.1', 'ENSG00000272573.5',\n",
       "         'ENSG00000235563.1', 'ENSG00000189292.15', 'ENSG00000124440.15',\n",
       "         'ENSG00000244538.1', 'ENSG00000115386.5', 'ENSG00000275152.4',\n",
       "         'ENSG00000169248.12', 'ENSG00000188626.6', 'ENSG00000220875.1',\n",
       "         'ENSG00000225670.4', 'ENSG00000167434.9', 'ENSG00000172554.11',\n",
       "         'ENSG00000170965.9', 'ENSG00000228168.1', 'ENSG00000219073.7',\n",
       "         'ENSG00000227260.1', 'ENSG00000248144.5', 'ENSG00000142789.19',\n",
       "         'ENSG00000238249.2', 'ENSG00000235688.2', 'ENSG00000238018.2',\n",
       "         'ENSG00000203805.10', 'ENSG00000213373.7', 'ENSG00000181234.9',\n",
       "         'ENSG00000255328.1', 'ENSG00000170373.8', 'ENSG00000229859.8',\n",
       "         'ENSG00000259744.1', 'ENSG00000122304.10', 'ENSG00000271730.1',\n",
       "         'ENSG00000272180.1', 'ENSG00000197769.5', 'ENSG00000147434.8',\n",
       "         'ENSG00000137745.11', 'ENSG00000120907.17', 'ENSG00000267543.1',\n",
       "         'ENSG00000161649.12', 'ENSG00000168079.16', 'ENSG00000109906.13',\n",
       "         'ENSG00000111245.14', 'ENSG00000186204.14', 'ENSG00000277288.3',\n",
       "         'ENSG00000278500.1', 'ENSG00000196616.12', 'ENSG00000223401.1',\n",
       "         'ENSG00000274892.1', 'ENSG00000267206.5', 'ENSG00000101938.14',\n",
       "         'ENSG00000232814.2', 'ENSG00000229246.1', 'ENSG00000012817.15',\n",
       "         'ENSG00000172061.8', 'ENSG00000262481.5', 'ENSG00000226871.1',\n",
       "         'ENSG00000232460.4', 'ENSG00000277135.1', 'ENSG00000230910.2',\n",
       "         'ENSG00000234743.1', 'ENSG00000228703.1', 'ENSG00000180383.3',\n",
       "         'ENSG00000106541.11', 'ENSG00000281383.1', 'ENSG00000172156.3',\n",
       "         'ENSG00000267361.1', 'ENSG00000272508.1', 'ENSG00000272789.1',\n",
       "         'ENSG00000278023.4'],\n",
       "        dtype='object', name='feature'),\n",
       "  [0.29814219558659866,\n",
       "   0.1890241928034405,\n",
       "   0.10183406144004466,\n",
       "   0.09960400637701818,\n",
       "   0.0977782726328141,\n",
       "   0.09776668100992744,\n",
       "   0.09412020742616053,\n",
       "   0.004741386407434222,\n",
       "   0.004403006530578716,\n",
       "   0.003302146459130448,\n",
       "   0.0018492014591355247,\n",
       "   0.001487364734214258,\n",
       "   0.0014812071858341604,\n",
       "   0.0011133806473948397,\n",
       "   0.0007462534216467993,\n",
       "   0.0007459542558582984,\n",
       "   0.0007444237660065028,\n",
       "   0.0007435846746643643,\n",
       "   0.000372473182097827,\n",
       "   0.0,\n",
       "   0.0,\n",
       "   0.0,\n",
       "   0.0,\n",
       "   0.0,\n",
       "   0.0,\n",
       "   0.0,\n",
       "   0.0,\n",
       "   0.0,\n",
       "   0.0,\n",
       "   0.0,\n",
       "   0.0,\n",
       "   0.0,\n",
       "   0.0,\n",
       "   0.0,\n",
       "   0.0,\n",
       "   0.0,\n",
       "   0.0,\n",
       "   0.0,\n",
       "   0.0,\n",
       "   0.0,\n",
       "   0.0,\n",
       "   0.0,\n",
       "   0.0,\n",
       "   0.0,\n",
       "   0.0,\n",
       "   0.0,\n",
       "   0.0,\n",
       "   0.0,\n",
       "   0.0,\n",
       "   0.0,\n",
       "   0.0,\n",
       "   0.0,\n",
       "   0.0,\n",
       "   0.0,\n",
       "   0.0,\n",
       "   0.0,\n",
       "   0.0,\n",
       "   0.0,\n",
       "   0.0,\n",
       "   0.0,\n",
       "   0.0,\n",
       "   0.0,\n",
       "   0.0,\n",
       "   0.0,\n",
       "   0.0,\n",
       "   0.0,\n",
       "   0.0,\n",
       "   0.0,\n",
       "   0.0,\n",
       "   0.0,\n",
       "   0.0,\n",
       "   0.0,\n",
       "   0.0,\n",
       "   0.0,\n",
       "   0.0,\n",
       "   0.0,\n",
       "   0.0,\n",
       "   0.0,\n",
       "   0.0,\n",
       "   0.0,\n",
       "   0.0,\n",
       "   0.0,\n",
       "   0.0,\n",
       "   0.0,\n",
       "   0.0,\n",
       "   0.0,\n",
       "   0.0,\n",
       "   0.0,\n",
       "   0.0,\n",
       "   0.0,\n",
       "   0.0,\n",
       "   0.0,\n",
       "   0.0,\n",
       "   0.0,\n",
       "   0.0,\n",
       "   0.0,\n",
       "   0.0,\n",
       "   0.0,\n",
       "   0.0,\n",
       "   0.0]]}"
      ]
     },
     "execution_count": 73,
     "metadata": {},
     "output_type": "execute_result"
    }
   ],
   "source": [
    "boruta_tree(X_train_smote, y_train_res, random_state=SEED)"
   ]
  },
  {
   "cell_type": "code",
   "execution_count": 17,
   "metadata": {},
   "outputs": [
    {
     "data": {
      "text/plain": [
       "(117,)"
      ]
     },
     "execution_count": 17,
     "metadata": {},
     "output_type": "execute_result"
    }
   ],
   "source": [
    "cols.shape"
   ]
  },
  {
   "cell_type": "code",
   "execution_count": 47,
   "metadata": {},
   "outputs": [],
   "source": [
    "#X_filtered.columns[boruta.support_]"
   ]
  },
  {
   "cell_type": "markdown",
   "metadata": {},
   "source": [
    "#### Tree after boruta"
   ]
  },
  {
   "cell_type": "code",
   "execution_count": 20,
   "metadata": {},
   "outputs": [
    {
     "data": {
      "text/plain": [
       "(1072, 117)"
      ]
     },
     "execution_count": 20,
     "metadata": {},
     "output_type": "execute_result"
    }
   ],
   "source": [
    "X_filtered_ab = X_train_smote[cols]\n",
    "X_filtered_ab.shape"
   ]
  },
  {
   "cell_type": "code",
   "execution_count": 26,
   "metadata": {},
   "outputs": [
    {
     "name": "stdout",
     "output_type": "stream",
     "text": [
      "              precision    recall  f1-score   support\n",
      "\n",
      "           0       1.00      1.00      1.00        37\n",
      "           1       1.00      1.00      1.00       230\n",
      "\n",
      "   micro avg       1.00      1.00      1.00       267\n",
      "   macro avg       1.00      1.00      1.00       267\n",
      "weighted avg       1.00      1.00      1.00       267\n",
      "\n",
      "Train Accuracy: 1.00\n",
      "Test Accuracy: 1.00\n"
     ]
    }
   ],
   "source": [
    "rf = RandomForestClassifier(n_estimators = 10, criterion = 'gini', random_state = SEED)\n",
    "\n",
    "rf.fit(X_filtered_ab, y_train_res)\n",
    "\n",
    "rf_pred = rf.predict(X_test[cols])\n",
    "\n",
    "print(classification_report(y_test, rf_pred))\n",
    "\n",
    "print(\"Train Accuracy: {:.2f}\".format(accuracy_score(y_train_res, rf.predict(X_filtered_ab))))\n",
    "print(\"Test Accuracy: {:.2f}\".format(accuracy_score(y_test, rf_pred)))"
   ]
  },
  {
   "cell_type": "code",
   "execution_count": 61,
   "metadata": {},
   "outputs": [],
   "source": [
    "feature_names = X_filtered_ab.columns\n",
    "rf_coeff = pd.DataFrame({\"feature\": feature_names,\"coefficient\": rf.feature_importances_})\n",
    "rf_coeff_top = rf_coeff.sort_values(by=\"coefficient\",ascending=False).head(100).set_index(\"feature\")\n",
    "#rf_coeff_top"
   ]
  },
  {
   "cell_type": "code",
   "execution_count": 59,
   "metadata": {},
   "outputs": [],
   "source": [
    "selected_features = rf_coeff_top.index"
   ]
  },
  {
   "cell_type": "code",
   "execution_count": 70,
   "metadata": {},
   "outputs": [],
   "source": [
    "feature_importances = rf_coeff_top.coefficient.tolist()"
   ]
  },
  {
   "cell_type": "code",
   "execution_count": 71,
   "metadata": {},
   "outputs": [
    {
     "data": {
      "text/plain": [
       "{'boruta_tree': [Index(['ENSG00000219928.2', 'ENSG00000256508.2', 'ENSG00000224126.2',\n",
       "         'ENSG00000123500.9', 'ENSG00000260105.6', 'ENSG00000229237.2',\n",
       "         'ENSG00000144230.16', 'ENSG00000262097.1', 'ENSG00000279473.1',\n",
       "         'ENSG00000179751.6', 'ENSG00000235734.4', 'ENSG00000029559.6',\n",
       "         'ENSG00000241431.1', 'ENSG00000224958.5', 'ENSG00000187922.13',\n",
       "         'ENSG00000235875.3', 'ENSG00000197561.6', 'ENSG00000198099.8',\n",
       "         'ENSG00000281974.1', 'ENSG00000067048.16', 'ENSG00000277741.4',\n",
       "         'ENSG00000240509.1', 'ENSG00000279208.1', 'ENSG00000230838.1',\n",
       "         'ENSG00000092054.12', 'ENSG00000267653.1', 'ENSG00000269124.1',\n",
       "         'ENSG00000253683.1', 'ENSG00000175206.10', 'ENSG00000236754.5',\n",
       "         'ENSG00000172023.7', 'ENSG00000237070.1', 'ENSG00000272573.5',\n",
       "         'ENSG00000235563.1', 'ENSG00000189292.15', 'ENSG00000124440.15',\n",
       "         'ENSG00000244538.1', 'ENSG00000115386.5', 'ENSG00000275152.4',\n",
       "         'ENSG00000169248.12', 'ENSG00000188626.6', 'ENSG00000220875.1',\n",
       "         'ENSG00000225670.4', 'ENSG00000167434.9', 'ENSG00000172554.11',\n",
       "         'ENSG00000170965.9', 'ENSG00000228168.1', 'ENSG00000219073.7',\n",
       "         'ENSG00000227260.1', 'ENSG00000248144.5', 'ENSG00000142789.19',\n",
       "         'ENSG00000238249.2', 'ENSG00000235688.2', 'ENSG00000238018.2',\n",
       "         'ENSG00000203805.10', 'ENSG00000213373.7', 'ENSG00000181234.9',\n",
       "         'ENSG00000255328.1', 'ENSG00000170373.8', 'ENSG00000229859.8',\n",
       "         'ENSG00000259744.1', 'ENSG00000122304.10', 'ENSG00000271730.1',\n",
       "         'ENSG00000272180.1', 'ENSG00000197769.5', 'ENSG00000147434.8',\n",
       "         'ENSG00000137745.11', 'ENSG00000120907.17', 'ENSG00000267543.1',\n",
       "         'ENSG00000161649.12', 'ENSG00000168079.16', 'ENSG00000109906.13',\n",
       "         'ENSG00000111245.14', 'ENSG00000186204.14', 'ENSG00000277288.3',\n",
       "         'ENSG00000278500.1', 'ENSG00000196616.12', 'ENSG00000223401.1',\n",
       "         'ENSG00000274892.1', 'ENSG00000267206.5', 'ENSG00000101938.14',\n",
       "         'ENSG00000232814.2', 'ENSG00000229246.1', 'ENSG00000012817.15',\n",
       "         'ENSG00000172061.8', 'ENSG00000262481.5', 'ENSG00000226871.1',\n",
       "         'ENSG00000232460.4', 'ENSG00000277135.1', 'ENSG00000230910.2',\n",
       "         'ENSG00000234743.1', 'ENSG00000228703.1', 'ENSG00000180383.3',\n",
       "         'ENSG00000106541.11', 'ENSG00000281383.1', 'ENSG00000172156.3',\n",
       "         'ENSG00000267361.1', 'ENSG00000272508.1', 'ENSG00000272789.1',\n",
       "         'ENSG00000278023.4'],\n",
       "        dtype='object', name='feature'),\n",
       "  [0.29814219558659866,\n",
       "   0.1890241928034405,\n",
       "   0.10183406144004466,\n",
       "   0.09960400637701818,\n",
       "   0.0977782726328141,\n",
       "   0.09776668100992744,\n",
       "   0.09412020742616053,\n",
       "   0.004741386407434222,\n",
       "   0.004403006530578716,\n",
       "   0.003302146459130448,\n",
       "   0.0018492014591355247,\n",
       "   0.001487364734214258,\n",
       "   0.0014812071858341604,\n",
       "   0.0011133806473948397,\n",
       "   0.0007462534216467993,\n",
       "   0.0007459542558582984,\n",
       "   0.0007444237660065028,\n",
       "   0.0007435846746643643,\n",
       "   0.000372473182097827,\n",
       "   0.0,\n",
       "   0.0,\n",
       "   0.0,\n",
       "   0.0,\n",
       "   0.0,\n",
       "   0.0,\n",
       "   0.0,\n",
       "   0.0,\n",
       "   0.0,\n",
       "   0.0,\n",
       "   0.0,\n",
       "   0.0,\n",
       "   0.0,\n",
       "   0.0,\n",
       "   0.0,\n",
       "   0.0,\n",
       "   0.0,\n",
       "   0.0,\n",
       "   0.0,\n",
       "   0.0,\n",
       "   0.0,\n",
       "   0.0,\n",
       "   0.0,\n",
       "   0.0,\n",
       "   0.0,\n",
       "   0.0,\n",
       "   0.0,\n",
       "   0.0,\n",
       "   0.0,\n",
       "   0.0,\n",
       "   0.0,\n",
       "   0.0,\n",
       "   0.0,\n",
       "   0.0,\n",
       "   0.0,\n",
       "   0.0,\n",
       "   0.0,\n",
       "   0.0,\n",
       "   0.0,\n",
       "   0.0,\n",
       "   0.0,\n",
       "   0.0,\n",
       "   0.0,\n",
       "   0.0,\n",
       "   0.0,\n",
       "   0.0,\n",
       "   0.0,\n",
       "   0.0,\n",
       "   0.0,\n",
       "   0.0,\n",
       "   0.0,\n",
       "   0.0,\n",
       "   0.0,\n",
       "   0.0,\n",
       "   0.0,\n",
       "   0.0,\n",
       "   0.0,\n",
       "   0.0,\n",
       "   0.0,\n",
       "   0.0,\n",
       "   0.0,\n",
       "   0.0,\n",
       "   0.0,\n",
       "   0.0,\n",
       "   0.0,\n",
       "   0.0,\n",
       "   0.0,\n",
       "   0.0,\n",
       "   0.0,\n",
       "   0.0,\n",
       "   0.0,\n",
       "   0.0,\n",
       "   0.0,\n",
       "   0.0,\n",
       "   0.0,\n",
       "   0.0,\n",
       "   0.0,\n",
       "   0.0,\n",
       "   0.0,\n",
       "   0.0,\n",
       "   0.0]]}"
      ]
     },
     "execution_count": 71,
     "metadata": {},
     "output_type": "execute_result"
    }
   ],
   "source": [
    "dictionary = {\"boruta_tree\": [selected_features, feature_importances]}\n",
    "dictionary"
   ]
  },
  {
   "cell_type": "code",
   "execution_count": 57,
   "metadata": {},
   "outputs": [
    {
     "data": {
      "text/plain": [
       "{'boruta_tree': Index(['ENSG00000219928.2', 'ENSG00000256508.2', 'ENSG00000224126.2',\n",
       "        'ENSG00000123500.9', 'ENSG00000260105.6', 'ENSG00000229237.2',\n",
       "        'ENSG00000144230.16', 'ENSG00000262097.1', 'ENSG00000279473.1',\n",
       "        'ENSG00000179751.6', 'ENSG00000235734.4', 'ENSG00000029559.6',\n",
       "        'ENSG00000241431.1', 'ENSG00000224958.5', 'ENSG00000187922.13',\n",
       "        'ENSG00000235875.3', 'ENSG00000197561.6', 'ENSG00000198099.8',\n",
       "        'ENSG00000281974.1', 'ENSG00000067048.16', 'ENSG00000277741.4',\n",
       "        'ENSG00000240509.1', 'ENSG00000279208.1', 'ENSG00000230838.1',\n",
       "        'ENSG00000092054.12', 'ENSG00000267653.1', 'ENSG00000269124.1',\n",
       "        'ENSG00000253683.1', 'ENSG00000175206.10', 'ENSG00000236754.5',\n",
       "        'ENSG00000172023.7', 'ENSG00000237070.1', 'ENSG00000272573.5',\n",
       "        'ENSG00000235563.1', 'ENSG00000189292.15', 'ENSG00000124440.15',\n",
       "        'ENSG00000244538.1', 'ENSG00000115386.5', 'ENSG00000275152.4',\n",
       "        'ENSG00000169248.12', 'ENSG00000188626.6', 'ENSG00000220875.1',\n",
       "        'ENSG00000225670.4', 'ENSG00000167434.9', 'ENSG00000172554.11',\n",
       "        'ENSG00000170965.9', 'ENSG00000228168.1', 'ENSG00000219073.7',\n",
       "        'ENSG00000227260.1', 'ENSG00000248144.5', 'ENSG00000142789.19',\n",
       "        'ENSG00000238249.2', 'ENSG00000235688.2', 'ENSG00000238018.2',\n",
       "        'ENSG00000203805.10', 'ENSG00000213373.7', 'ENSG00000181234.9',\n",
       "        'ENSG00000255328.1', 'ENSG00000170373.8', 'ENSG00000229859.8',\n",
       "        'ENSG00000259744.1', 'ENSG00000122304.10', 'ENSG00000271730.1',\n",
       "        'ENSG00000272180.1', 'ENSG00000197769.5', 'ENSG00000147434.8',\n",
       "        'ENSG00000137745.11', 'ENSG00000120907.17', 'ENSG00000267543.1',\n",
       "        'ENSG00000161649.12', 'ENSG00000168079.16', 'ENSG00000109906.13',\n",
       "        'ENSG00000111245.14', 'ENSG00000186204.14', 'ENSG00000277288.3',\n",
       "        'ENSG00000278500.1', 'ENSG00000196616.12', 'ENSG00000223401.1',\n",
       "        'ENSG00000274892.1', 'ENSG00000267206.5', 'ENSG00000101938.14',\n",
       "        'ENSG00000232814.2', 'ENSG00000229246.1', 'ENSG00000012817.15',\n",
       "        'ENSG00000172061.8', 'ENSG00000262481.5', 'ENSG00000226871.1',\n",
       "        'ENSG00000232460.4', 'ENSG00000277135.1', 'ENSG00000230910.2',\n",
       "        'ENSG00000234743.1', 'ENSG00000228703.1', 'ENSG00000180383.3',\n",
       "        'ENSG00000106541.11', 'ENSG00000281383.1', 'ENSG00000172156.3',\n",
       "        'ENSG00000267361.1', 'ENSG00000272508.1', 'ENSG00000272789.1',\n",
       "        'ENSG00000278023.4'],\n",
       "       dtype='object', name='feature')}"
      ]
     },
     "execution_count": 57,
     "metadata": {},
     "output_type": "execute_result"
    }
   ],
   "source": []
  },
  {
   "cell_type": "code",
   "execution_count": null,
   "metadata": {},
   "outputs": [],
   "source": []
  }
 ],
 "metadata": {
  "kernelspec": {
   "display_name": "Python 3.7",
   "language": "python",
   "name": "deeplearning"
  },
  "language_info": {
   "codemirror_mode": {
    "name": "ipython",
    "version": 3
   },
   "file_extension": ".py",
   "mimetype": "text/x-python",
   "name": "python",
   "nbconvert_exporter": "python",
   "pygments_lexer": "ipython3",
   "version": "3.7.3"
  }
 },
 "nbformat": 4,
 "nbformat_minor": 2
}
