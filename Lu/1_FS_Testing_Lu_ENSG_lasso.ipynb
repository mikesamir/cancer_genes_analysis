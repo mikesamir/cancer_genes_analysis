{
 "cells": [
  {
   "cell_type": "code",
   "execution_count": 17,
   "metadata": {},
   "outputs": [],
   "source": [
    "import pandas as pd\n",
    "import matplotlib.pyplot as plt\n",
    "import seaborn as sns\n",
    "import numpy as np\n",
    "import random\n",
    "\n",
    "from scipy import stats\n",
    "\n",
    "from imblearn.over_sampling import SMOTE\n",
    "\n",
    "from sklearn.preprocessing import MinMaxScaler\n",
    "\n",
    "from sklearn.linear_model import ElasticNet\n",
    "from itertools import product\n",
    "\n",
    "from boruta import BorutaPy\n",
    "from sklearn.model_selection import train_test_split\n",
    "from sklearn.model_selection import cross_val_score\n",
    "from sklearn.model_selection import GridSearchCV\n",
    "from sklearn.ensemble import RandomForestClassifier\n",
    "from sklearn.linear_model import LogisticRegression\n",
    "from sklearn.metrics import accuracy_score\n",
    "from sklearn.metrics import f1_score\n",
    "from sklearn.metrics import mean_squared_error\n",
    "\n",
    "from sklearn.linear_model import Lasso\n",
    "from sklearn.linear_model import LassoCV\n",
    "from sklearn.feature_selection import SelectFromModel\n",
    "from sklearn.feature_selection import RFECV\n",
    "from sklearn.feature_selection import VarianceThreshold\n",
    "\n",
    "from sklearn.svm import SVR\n",
    "\n",
    "import warnings\n",
    "warnings.filterwarnings('ignore')"
   ]
  },
  {
   "cell_type": "markdown",
   "metadata": {},
   "source": [
    "### Imports"
   ]
  },
  {
   "cell_type": "code",
   "execution_count": 21,
   "metadata": {},
   "outputs": [],
   "source": [
    "# read dataset\n",
    "\n",
    "p = 0.1  # 30% of the lines\n",
    "# keep the header, then take only 10% of lines\n",
    "# if random from [0,1] interval is greater than 0.1 the row will be skipped\n",
    "df_all = pd.read_csv(\n",
    "         \"../Output/../Output/Chunk_Breast.csv\",\n",
    "         header=0, \n",
    "         skiprows=lambda i: i>0 and random.random() > p)\n",
    "\n",
    "#df_breast = pd.read_csv(\"../Output/Chunk_Breast.csv\", index_col=0)\n",
    "#df_breast.info()"
   ]
  },
  {
   "cell_type": "code",
   "execution_count": 22,
   "metadata": {},
   "outputs": [
    {
     "name": "stdout",
     "output_type": "stream",
     "text": [
      "<class 'pandas.core.frame.DataFrame'>\n",
      "RangeIndex: 119 entries, 0 to 118\n",
      "Columns: 19665 entries, Unnamed: 0 to ENSG00000181518.3\n",
      "dtypes: float64(19663), int64(1), object(1)\n",
      "memory usage: 17.9+ MB\n"
     ]
    }
   ],
   "source": [
    "df_all.info()"
   ]
  },
  {
   "cell_type": "code",
   "execution_count": 23,
   "metadata": {},
   "outputs": [],
   "source": [
    "# create X and y\n",
    "\n",
    "X = df_breast.drop(\"label\", axis=1)\n",
    "y = df_breast[\"label\"]"
   ]
  },
  {
   "cell_type": "code",
   "execution_count": 24,
   "metadata": {},
   "outputs": [
    {
     "name": "stdout",
     "output_type": "stream",
     "text": [
      "<class 'pandas.core.frame.DataFrame'>\n",
      "Index: 1159 entries, TCGA-C8-A1HL-01 to GTEX-1117F-2826-SM-5GZXL\n",
      "Columns: 1614 entries, ENSG00000229637.3 to ENSG00000186115.12\n",
      "dtypes: float64(1614)\n",
      "memory usage: 14.3+ MB\n"
     ]
    }
   ],
   "source": [
    "# filter X with std\n",
    "\n",
    "X_filter_std3 = X.loc[:, X.std() > 3]\n",
    "X_filter_std3.info()"
   ]
  },
  {
   "cell_type": "markdown",
   "metadata": {},
   "source": [
    "### split"
   ]
  },
  {
   "cell_type": "code",
   "execution_count": 25,
   "metadata": {},
   "outputs": [],
   "source": [
    "# set seed for all random\n",
    "\n",
    "SEED=1888"
   ]
  },
  {
   "cell_type": "code",
   "execution_count": 26,
   "metadata": {},
   "outputs": [],
   "source": [
    "# split train to train and test\n",
    "\n",
    "X_train, X_test, y_train, y_test = train_test_split(X_filter_std3, y, test_size=0.3, random_state=SEED)"
   ]
  },
  {
   "cell_type": "markdown",
   "metadata": {},
   "source": [
    "### SMOTE"
   ]
  },
  {
   "cell_type": "code",
   "execution_count": 27,
   "metadata": {},
   "outputs": [
    {
     "name": "stdout",
     "output_type": "stream",
     "text": [
      "Number transactions X_train dataset:  (811, 1614)\n",
      "Number transactions y_train dataset:  (811,)\n",
      "Number transactions X_test dataset:  (348, 1614)\n",
      "Number transactions y_test dataset:  (348,)\n"
     ]
    }
   ],
   "source": [
    "print(\"Number transactions X_train dataset: \", X_train.shape)\n",
    "print(\"Number transactions y_train dataset: \", y_train.shape)\n",
    "print(\"Number transactions X_test dataset: \", X_test.shape)\n",
    "print(\"Number transactions y_test dataset: \", y_test.shape)"
   ]
  },
  {
   "cell_type": "code",
   "execution_count": 28,
   "metadata": {},
   "outputs": [
    {
     "name": "stdout",
     "output_type": "stream",
     "text": [
      "Before OverSampling, counts of label '1': 757\n",
      "Before OverSampling, counts of label '0': 54 \n",
      "\n",
      "After OverSampling, the shape of train_X: (1514, 1614)\n",
      "After OverSampling, the shape of train_y: (1514,) \n",
      "\n",
      "After OverSampling, counts of label '1': 757\n",
      "After OverSampling, counts of label '0': 757\n"
     ]
    }
   ],
   "source": [
    "# upsampling with SMOTE\n",
    "\n",
    "print(\"Before OverSampling, counts of label '1': {}\".format(sum(y_train==1)))\n",
    "print(\"Before OverSampling, counts of label '0': {} \\n\".format(sum(y_train==0)))\n",
    "\n",
    "sm = SMOTE(random_state=SEED)\n",
    "X_train_res, y_train_res = sm.fit_sample(X_train, y_train.ravel())\n",
    "\n",
    "print('After OverSampling, the shape of train_X: {}'.format(X_train_res.shape))\n",
    "print('After OverSampling, the shape of train_y: {} \\n'.format(y_train_res.shape))\n",
    "\n",
    "print(\"After OverSampling, counts of label '1': {}\".format(sum(y_train_res==1)))\n",
    "print(\"After OverSampling, counts of label '0': {}\".format(sum(y_train_res==0)))"
   ]
  },
  {
   "cell_type": "code",
   "execution_count": 29,
   "metadata": {},
   "outputs": [],
   "source": [
    "# get column names\n",
    "\n",
    "column_names = X_train.columns"
   ]
  },
  {
   "cell_type": "code",
   "execution_count": 30,
   "metadata": {},
   "outputs": [],
   "source": [
    "# numpy array from SMOTE back to df\n",
    "\n",
    "X_train_smote = pd.DataFrame(X_train_res, columns=column_names)\n",
    "#X_train_smote"
   ]
  },
  {
   "cell_type": "code",
   "execution_count": null,
   "metadata": {},
   "outputs": [],
   "source": []
  },
  {
   "cell_type": "markdown",
   "metadata": {},
   "source": [
    "### Lasso"
   ]
  },
  {
   "cell_type": "code",
   "execution_count": 14,
   "metadata": {},
   "outputs": [
    {
     "name": "stdout",
     "output_type": "stream",
     "text": [
      "0.6527102424906222\n",
      "6\n",
      "[0.63093666 0.29894409 0.6678387  0.         0.        ]\n",
      "Average 5-Fold CV Score: 0.31954389128821237\n"
     ]
    }
   ],
   "source": [
    "# Lasso\n",
    "\n",
    "lasso = Lasso(random_state=SEED)\n",
    "lasso = lasso.fit(X_train_smote, y_train_res)\n",
    "\n",
    "train_score = lasso.score(X_test, y_test)\n",
    "coeff_used = np.sum(lasso.coef_!=0)\n",
    "\n",
    "print(train_score)\n",
    "print(coeff_used)\n",
    "\n",
    "cv_scores = cross_val_score(lasso, X_train_smote, y_train_res, cv=5)\n",
    "\n",
    "print(cv_scores)\n",
    "print(\"Average 5-Fold CV Score: {}\".format(np.mean(cv_scores)))"
   ]
  },
  {
   "cell_type": "code",
   "execution_count": 15,
   "metadata": {},
   "outputs": [
    {
     "data": {
      "text/plain": [
       "array([-0.,  0.,  0., ..., -0., -0.,  0.])"
      ]
     },
     "execution_count": 15,
     "metadata": {},
     "output_type": "execute_result"
    }
   ],
   "source": [
    "lasso.coef_"
   ]
  },
  {
   "cell_type": "code",
   "execution_count": 16,
   "metadata": {},
   "outputs": [
    {
     "data": {
      "text/plain": [
       "Index(['ENSG00000242268.2', 'ENSG00000269416.5', 'ENSG00000275265.1',\n",
       "       'ENSG00000233540.1', 'ENSG00000270469.1', 'ENSG00000214062.5',\n",
       "       'ENSG00000265096.1', 'ENSG00000229637.3', 'ENSG00000266644.1',\n",
       "       'ENSG00000214541.3',\n",
       "       ...\n",
       "       'ENSG00000248869.5', 'ENSG00000270987.1', 'ENSG00000279507.1',\n",
       "       'ENSG00000214216.10', 'ENSG00000233845.1', 'ENSG00000264491.1',\n",
       "       'ENSG00000253333.1', 'ENSG00000186115.12', 'ENSG00000267117.1',\n",
       "       'ENSG00000273233.1'],\n",
       "      dtype='object', length=8264)"
      ]
     },
     "execution_count": 16,
     "metadata": {},
     "output_type": "execute_result"
    }
   ],
   "source": [
    "X_train.columns"
   ]
  },
  {
   "cell_type": "code",
   "execution_count": 17,
   "metadata": {},
   "outputs": [
    {
     "data": {
      "text/html": [
       "<div>\n",
       "<style scoped>\n",
       "    .dataframe tbody tr th:only-of-type {\n",
       "        vertical-align: middle;\n",
       "    }\n",
       "\n",
       "    .dataframe tbody tr th {\n",
       "        vertical-align: top;\n",
       "    }\n",
       "\n",
       "    .dataframe thead th {\n",
       "        text-align: right;\n",
       "    }\n",
       "</style>\n",
       "<table border=\"1\" class=\"dataframe\">\n",
       "  <thead>\n",
       "    <tr style=\"text-align: right;\">\n",
       "      <th></th>\n",
       "      <th>0</th>\n",
       "    </tr>\n",
       "  </thead>\n",
       "  <tbody>\n",
       "    <tr>\n",
       "      <th>0</th>\n",
       "      <td>-0.0</td>\n",
       "    </tr>\n",
       "    <tr>\n",
       "      <th>1</th>\n",
       "      <td>0.0</td>\n",
       "    </tr>\n",
       "    <tr>\n",
       "      <th>2</th>\n",
       "      <td>0.0</td>\n",
       "    </tr>\n",
       "    <tr>\n",
       "      <th>3</th>\n",
       "      <td>0.0</td>\n",
       "    </tr>\n",
       "    <tr>\n",
       "      <th>4</th>\n",
       "      <td>0.0</td>\n",
       "    </tr>\n",
       "  </tbody>\n",
       "</table>\n",
       "</div>"
      ],
      "text/plain": [
       "     0\n",
       "0 -0.0\n",
       "1  0.0\n",
       "2  0.0\n",
       "3  0.0\n",
       "4  0.0"
      ]
     },
     "execution_count": 17,
     "metadata": {},
     "output_type": "execute_result"
    }
   ],
   "source": [
    "array_df = pd.DataFrame(lasso.coef_)\n",
    "array_df.head()"
   ]
  },
  {
   "cell_type": "code",
   "execution_count": 18,
   "metadata": {},
   "outputs": [],
   "source": [
    "array_df.index = X_train.columns"
   ]
  },
  {
   "cell_type": "code",
   "execution_count": 19,
   "metadata": {},
   "outputs": [
    {
     "data": {
      "text/plain": [
       "0   -0.008578\n",
       "dtype: float64"
      ]
     },
     "execution_count": 19,
     "metadata": {},
     "output_type": "execute_result"
    }
   ],
   "source": [
    "array_df.min()"
   ]
  },
  {
   "cell_type": "code",
   "execution_count": 20,
   "metadata": {},
   "outputs": [
    {
     "data": {
      "text/plain": [
       "(8264, 1)"
      ]
     },
     "execution_count": 20,
     "metadata": {},
     "output_type": "execute_result"
    }
   ],
   "source": [
    "array_df.shape"
   ]
  },
  {
   "cell_type": "code",
   "execution_count": 21,
   "metadata": {},
   "outputs": [
    {
     "data": {
      "text/html": [
       "<div>\n",
       "<style scoped>\n",
       "    .dataframe tbody tr th:only-of-type {\n",
       "        vertical-align: middle;\n",
       "    }\n",
       "\n",
       "    .dataframe tbody tr th {\n",
       "        vertical-align: top;\n",
       "    }\n",
       "\n",
       "    .dataframe thead th {\n",
       "        text-align: right;\n",
       "    }\n",
       "</style>\n",
       "<table border=\"1\" class=\"dataframe\">\n",
       "  <thead>\n",
       "    <tr style=\"text-align: right;\">\n",
       "      <th></th>\n",
       "      <th>0</th>\n",
       "    </tr>\n",
       "  </thead>\n",
       "  <tbody>\n",
       "    <tr>\n",
       "      <th>ENSG00000170373.8</th>\n",
       "      <td>0.018887</td>\n",
       "    </tr>\n",
       "    <tr>\n",
       "      <th>ENSG00000262533.1</th>\n",
       "      <td>0.016066</td>\n",
       "    </tr>\n",
       "    <tr>\n",
       "      <th>ENSG00000229237.2</th>\n",
       "      <td>0.004283</td>\n",
       "    </tr>\n",
       "    <tr>\n",
       "      <th>ENSG00000219928.2</th>\n",
       "      <td>0.003385</td>\n",
       "    </tr>\n",
       "    <tr>\n",
       "      <th>ENSG00000230838.1</th>\n",
       "      <td>0.000915</td>\n",
       "    </tr>\n",
       "    <tr>\n",
       "      <th>ENSG00000273342.1</th>\n",
       "      <td>-0.000000</td>\n",
       "    </tr>\n",
       "    <tr>\n",
       "      <th>ENSG00000205662.2</th>\n",
       "      <td>0.000000</td>\n",
       "    </tr>\n",
       "    <tr>\n",
       "      <th>ENSG00000273138.1</th>\n",
       "      <td>-0.000000</td>\n",
       "    </tr>\n",
       "    <tr>\n",
       "      <th>ENSG00000186867.10</th>\n",
       "      <td>0.000000</td>\n",
       "    </tr>\n",
       "    <tr>\n",
       "      <th>ENSG00000242268.2</th>\n",
       "      <td>-0.000000</td>\n",
       "    </tr>\n",
       "  </tbody>\n",
       "</table>\n",
       "</div>"
      ],
      "text/plain": [
       "                           0\n",
       "ENSG00000170373.8   0.018887\n",
       "ENSG00000262533.1   0.016066\n",
       "ENSG00000229237.2   0.004283\n",
       "ENSG00000219928.2   0.003385\n",
       "ENSG00000230838.1   0.000915\n",
       "ENSG00000273342.1  -0.000000\n",
       "ENSG00000205662.2   0.000000\n",
       "ENSG00000273138.1  -0.000000\n",
       "ENSG00000186867.10  0.000000\n",
       "ENSG00000242268.2  -0.000000"
      ]
     },
     "execution_count": 21,
     "metadata": {},
     "output_type": "execute_result"
    }
   ],
   "source": [
    "array_df.sort_values(0, ascending=False).head(10)"
   ]
  },
  {
   "cell_type": "markdown",
   "metadata": {},
   "source": [
    "### LassoCV"
   ]
  },
  {
   "cell_type": "code",
   "execution_count": 22,
   "metadata": {},
   "outputs": [
    {
     "data": {
      "text/plain": [
       "0.9992766815067534"
      ]
     },
     "execution_count": 22,
     "metadata": {},
     "output_type": "execute_result"
    }
   ],
   "source": [
    "# LassoCV\n",
    "\n",
    "lassoCV = LassoCV(cv=5, random_state=SEED).fit(X_train_smote, y_train_res)\n",
    "lassoCV.score(X_train_smote, y_train_res)"
   ]
  },
  {
   "cell_type": "code",
   "execution_count": 84,
   "metadata": {},
   "outputs": [
    {
     "data": {
      "text/plain": [
       "array([-0.,  0.,  0., ..., -0.,  0.,  0.])"
      ]
     },
     "execution_count": 84,
     "metadata": {},
     "output_type": "execute_result"
    }
   ],
   "source": [
    "lassoCV.coef_"
   ]
  },
  {
   "cell_type": "code",
   "execution_count": 58,
   "metadata": {},
   "outputs": [],
   "source": [
    "def imp_coef(model, columns=X_train.columns, n=20):\n",
    "    array_to_df = pd.DataFrame(model.coef_)\n",
    "    array_to_df.index = columns\n",
    "    array_sorted = array_to_df.sort_values(0, ascending=False)\n",
    "    imp_coef = pd.concat([array_sorted.head(n), array_sorted.tail(n)])\n",
    "    \n",
    "    return imp_coef"
   ]
  },
  {
   "cell_type": "code",
   "execution_count": 63,
   "metadata": {},
   "outputs": [
    {
     "data": {
      "text/html": [
       "<div>\n",
       "<style scoped>\n",
       "    .dataframe tbody tr th:only-of-type {\n",
       "        vertical-align: middle;\n",
       "    }\n",
       "\n",
       "    .dataframe tbody tr th {\n",
       "        vertical-align: top;\n",
       "    }\n",
       "\n",
       "    .dataframe thead th {\n",
       "        text-align: right;\n",
       "    }\n",
       "</style>\n",
       "<table border=\"1\" class=\"dataframe\">\n",
       "  <thead>\n",
       "    <tr style=\"text-align: right;\">\n",
       "      <th></th>\n",
       "      <th>0</th>\n",
       "    </tr>\n",
       "  </thead>\n",
       "  <tbody>\n",
       "    <tr>\n",
       "      <th>ENSG00000224126.2</th>\n",
       "      <td>0.006335</td>\n",
       "    </tr>\n",
       "    <tr>\n",
       "      <th>ENSG00000229237.2</th>\n",
       "      <td>0.005937</td>\n",
       "    </tr>\n",
       "    <tr>\n",
       "      <th>ENSG00000238249.2</th>\n",
       "      <td>0.004811</td>\n",
       "    </tr>\n",
       "    <tr>\n",
       "      <th>ENSG00000241431.1</th>\n",
       "      <td>0.003792</td>\n",
       "    </tr>\n",
       "    <tr>\n",
       "      <th>ENSG00000219928.2</th>\n",
       "      <td>0.003779</td>\n",
       "    </tr>\n",
       "    <tr>\n",
       "      <th>ENSG00000244538.1</th>\n",
       "      <td>0.003105</td>\n",
       "    </tr>\n",
       "    <tr>\n",
       "      <th>ENSG00000235734.4</th>\n",
       "      <td>0.002988</td>\n",
       "    </tr>\n",
       "    <tr>\n",
       "      <th>ENSG00000236060.2</th>\n",
       "      <td>0.002367</td>\n",
       "    </tr>\n",
       "    <tr>\n",
       "      <th>ENSG00000123500.9</th>\n",
       "      <td>0.001985</td>\n",
       "    </tr>\n",
       "    <tr>\n",
       "      <th>ENSG00000279473.1</th>\n",
       "      <td>0.001888</td>\n",
       "    </tr>\n",
       "    <tr>\n",
       "      <th>ENSG00000262533.1</th>\n",
       "      <td>0.001888</td>\n",
       "    </tr>\n",
       "    <tr>\n",
       "      <th>ENSG00000230734.1</th>\n",
       "      <td>0.001754</td>\n",
       "    </tr>\n",
       "    <tr>\n",
       "      <th>ENSG00000256500.5</th>\n",
       "      <td>0.001745</td>\n",
       "    </tr>\n",
       "    <tr>\n",
       "      <th>ENSG00000279084.1</th>\n",
       "      <td>0.001670</td>\n",
       "    </tr>\n",
       "    <tr>\n",
       "      <th>ENSG00000225558.1</th>\n",
       "      <td>0.001647</td>\n",
       "    </tr>\n",
       "    <tr>\n",
       "      <th>ENSG00000232679.1</th>\n",
       "      <td>0.001608</td>\n",
       "    </tr>\n",
       "    <tr>\n",
       "      <th>ENSG00000100721.10</th>\n",
       "      <td>0.001525</td>\n",
       "    </tr>\n",
       "    <tr>\n",
       "      <th>ENSG00000224557.7</th>\n",
       "      <td>0.001490</td>\n",
       "    </tr>\n",
       "    <tr>\n",
       "      <th>ENSG00000147434.8</th>\n",
       "      <td>0.001476</td>\n",
       "    </tr>\n",
       "    <tr>\n",
       "      <th>ENSG00000265415.1</th>\n",
       "      <td>0.001452</td>\n",
       "    </tr>\n",
       "    <tr>\n",
       "      <th>ENSG00000169474.4</th>\n",
       "      <td>-0.000811</td>\n",
       "    </tr>\n",
       "    <tr>\n",
       "      <th>ENSG00000248583.1</th>\n",
       "      <td>-0.000819</td>\n",
       "    </tr>\n",
       "    <tr>\n",
       "      <th>ENSG00000189398.5</th>\n",
       "      <td>-0.000834</td>\n",
       "    </tr>\n",
       "    <tr>\n",
       "      <th>ENSG00000162840.4</th>\n",
       "      <td>-0.000835</td>\n",
       "    </tr>\n",
       "    <tr>\n",
       "      <th>ENSG00000259738.1</th>\n",
       "      <td>-0.000843</td>\n",
       "    </tr>\n",
       "    <tr>\n",
       "      <th>ENSG00000267143.1</th>\n",
       "      <td>-0.000926</td>\n",
       "    </tr>\n",
       "    <tr>\n",
       "      <th>ENSG00000235912.1</th>\n",
       "      <td>-0.000931</td>\n",
       "    </tr>\n",
       "    <tr>\n",
       "      <th>ENSG00000253683.1</th>\n",
       "      <td>-0.001077</td>\n",
       "    </tr>\n",
       "    <tr>\n",
       "      <th>ENSG00000214881.4</th>\n",
       "      <td>-0.001086</td>\n",
       "    </tr>\n",
       "    <tr>\n",
       "      <th>ENSG00000206913.1</th>\n",
       "      <td>-0.001089</td>\n",
       "    </tr>\n",
       "    <tr>\n",
       "      <th>ENSG00000168530.15</th>\n",
       "      <td>-0.001209</td>\n",
       "    </tr>\n",
       "    <tr>\n",
       "      <th>ENSG00000204866.8</th>\n",
       "      <td>-0.001236</td>\n",
       "    </tr>\n",
       "    <tr>\n",
       "      <th>ENSG00000172867.3</th>\n",
       "      <td>-0.001443</td>\n",
       "    </tr>\n",
       "    <tr>\n",
       "      <th>ENSG00000142789.19</th>\n",
       "      <td>-0.001630</td>\n",
       "    </tr>\n",
       "    <tr>\n",
       "      <th>ENSG00000115386.5</th>\n",
       "      <td>-0.001832</td>\n",
       "    </tr>\n",
       "    <tr>\n",
       "      <th>ENSG00000248873.1</th>\n",
       "      <td>-0.002031</td>\n",
       "    </tr>\n",
       "    <tr>\n",
       "      <th>ENSG00000175646.3</th>\n",
       "      <td>-0.002114</td>\n",
       "    </tr>\n",
       "    <tr>\n",
       "      <th>ENSG00000129824.15</th>\n",
       "      <td>-0.002192</td>\n",
       "    </tr>\n",
       "    <tr>\n",
       "      <th>ENSG00000240247.6</th>\n",
       "      <td>-0.002379</td>\n",
       "    </tr>\n",
       "    <tr>\n",
       "      <th>ENSG00000197616.11</th>\n",
       "      <td>-0.002449</td>\n",
       "    </tr>\n",
       "  </tbody>\n",
       "</table>\n",
       "</div>"
      ],
      "text/plain": [
       "                           0\n",
       "ENSG00000224126.2   0.006335\n",
       "ENSG00000229237.2   0.005937\n",
       "ENSG00000238249.2   0.004811\n",
       "ENSG00000241431.1   0.003792\n",
       "ENSG00000219928.2   0.003779\n",
       "ENSG00000244538.1   0.003105\n",
       "ENSG00000235734.4   0.002988\n",
       "ENSG00000236060.2   0.002367\n",
       "ENSG00000123500.9   0.001985\n",
       "ENSG00000279473.1   0.001888\n",
       "ENSG00000262533.1   0.001888\n",
       "ENSG00000230734.1   0.001754\n",
       "ENSG00000256500.5   0.001745\n",
       "ENSG00000279084.1   0.001670\n",
       "ENSG00000225558.1   0.001647\n",
       "ENSG00000232679.1   0.001608\n",
       "ENSG00000100721.10  0.001525\n",
       "ENSG00000224557.7   0.001490\n",
       "ENSG00000147434.8   0.001476\n",
       "ENSG00000265415.1   0.001452\n",
       "ENSG00000169474.4  -0.000811\n",
       "ENSG00000248583.1  -0.000819\n",
       "ENSG00000189398.5  -0.000834\n",
       "ENSG00000162840.4  -0.000835\n",
       "ENSG00000259738.1  -0.000843\n",
       "ENSG00000267143.1  -0.000926\n",
       "ENSG00000235912.1  -0.000931\n",
       "ENSG00000253683.1  -0.001077\n",
       "ENSG00000214881.4  -0.001086\n",
       "ENSG00000206913.1  -0.001089\n",
       "ENSG00000168530.15 -0.001209\n",
       "ENSG00000204866.8  -0.001236\n",
       "ENSG00000172867.3  -0.001443\n",
       "ENSG00000142789.19 -0.001630\n",
       "ENSG00000115386.5  -0.001832\n",
       "ENSG00000248873.1  -0.002031\n",
       "ENSG00000175646.3  -0.002114\n",
       "ENSG00000129824.15 -0.002192\n",
       "ENSG00000240247.6  -0.002379\n",
       "ENSG00000197616.11 -0.002449"
      ]
     },
     "execution_count": 63,
     "metadata": {},
     "output_type": "execute_result"
    }
   ],
   "source": [
    "lassoCV_coef = imp_coef(lassoCV)\n",
    "lassoCV_coef"
   ]
  },
  {
   "cell_type": "markdown",
   "metadata": {},
   "source": [
    "### LassoCV with SelectFromModel"
   ]
  },
  {
   "cell_type": "code",
   "execution_count": 77,
   "metadata": {},
   "outputs": [],
   "source": [
    "# https://scikit-learn.org/stable/auto_examples/feature_selection/plot_select_from_model_boston.html#sphx-glr-auto-examples-feature-selection-plot-select-from-model-boston-py"
   ]
  },
  {
   "cell_type": "code",
   "execution_count": 57,
   "metadata": {},
   "outputs": [
    {
     "data": {
      "text/plain": [
       "40"
      ]
     },
     "execution_count": 57,
     "metadata": {},
     "output_type": "execute_result"
    }
   ],
   "source": [
    "# Lasso with SelectFromModel\n",
    "\n",
    "clf = LassoCV(cv=5, random_state=SEED) # use the base estimator since the L1 promotes sparsity of features\n",
    "\n",
    "# Set a minimum threshold of 0.25\n",
    "sfm = SelectFromModel(clf, threshold=0.00001)\n",
    "sfm.fit(X_train_smote, y_train_res)\n",
    "n_features = sfm.transform(X_train_smote).shape[1]\n",
    "\n",
    "# Reset the threshold till the number of features equals two.\n",
    "# Note that the attribute can be set directly instead of repeatedly\n",
    "# fitting the metatransformer.\n",
    "\n",
    "while n_features > 40:\n",
    "    sfm.threshold += 0.00001\n",
    "    X_transform = sfm.transform(X_train_smote)\n",
    "    n_features = X_transform.shape[1]\n",
    "    \n",
    "n_features"
   ]
  },
  {
   "cell_type": "code",
   "execution_count": null,
   "metadata": {},
   "outputs": [],
   "source": []
  },
  {
   "cell_type": "code",
   "execution_count": 111,
   "metadata": {},
   "outputs": [
    {
     "data": {
      "text/plain": [
       "Index(['ENSG00000240247.6', 'ENSG00000279473.1', 'ENSG00000219928.2',\n",
       "       'ENSG00000232679.1', 'ENSG00000256500.5', 'ENSG00000224557.7',\n",
       "       'ENSG00000236060.2', 'ENSG00000224126.2', 'ENSG00000129824.15',\n",
       "       'ENSG00000229237.2', 'ENSG00000197616.11', 'ENSG00000241431.1',\n",
       "       'ENSG00000115386.5', 'ENSG00000244538.1', 'ENSG00000230734.1',\n",
       "       'ENSG00000175646.3', 'ENSG00000279084.1', 'ENSG00000225558.1',\n",
       "       'ENSG00000123500.9', 'ENSG00000262533.1', 'ENSG00000238249.2',\n",
       "       'ENSG00000142789.19', 'ENSG00000235734.4', 'ENSG00000100721.10',\n",
       "       'ENSG00000248873.1'],\n",
       "      dtype='object')"
      ]
     },
     "execution_count": 111,
     "metadata": {},
     "output_type": "execute_result"
    }
   ],
   "source": [
    "X_train_smote.head()\n",
    "X_train_smote.columns[sfm.get_support()]"
   ]
  },
  {
   "cell_type": "code",
   "execution_count": 50,
   "metadata": {},
   "outputs": [
    {
     "data": {
      "text/html": [
       "<div>\n",
       "<style scoped>\n",
       "    .dataframe tbody tr th:only-of-type {\n",
       "        vertical-align: middle;\n",
       "    }\n",
       "\n",
       "    .dataframe tbody tr th {\n",
       "        vertical-align: top;\n",
       "    }\n",
       "\n",
       "    .dataframe thead th {\n",
       "        text-align: right;\n",
       "    }\n",
       "</style>\n",
       "<table border=\"1\" class=\"dataframe\">\n",
       "  <thead>\n",
       "    <tr style=\"text-align: right;\">\n",
       "      <th></th>\n",
       "      <th>ENSG00000240247.6</th>\n",
       "      <th>ENSG00000279473.1</th>\n",
       "      <th>ENSG00000219928.2</th>\n",
       "      <th>ENSG00000232679.1</th>\n",
       "      <th>ENSG00000256500.5</th>\n",
       "      <th>ENSG00000224557.7</th>\n",
       "      <th>ENSG00000236060.2</th>\n",
       "      <th>ENSG00000224126.2</th>\n",
       "      <th>ENSG00000129824.15</th>\n",
       "      <th>ENSG00000229237.2</th>\n",
       "      <th>...</th>\n",
       "      <th>ENSG00000175646.3</th>\n",
       "      <th>ENSG00000279084.1</th>\n",
       "      <th>ENSG00000225558.1</th>\n",
       "      <th>ENSG00000123500.9</th>\n",
       "      <th>ENSG00000262533.1</th>\n",
       "      <th>ENSG00000238249.2</th>\n",
       "      <th>ENSG00000142789.19</th>\n",
       "      <th>ENSG00000235734.4</th>\n",
       "      <th>ENSG00000100721.10</th>\n",
       "      <th>ENSG00000248873.1</th>\n",
       "    </tr>\n",
       "  </thead>\n",
       "  <tbody>\n",
       "    <tr>\n",
       "      <th>0</th>\n",
       "      <td>-4.0350</td>\n",
       "      <td>-1.1172</td>\n",
       "      <td>9.0743</td>\n",
       "      <td>1.8484</td>\n",
       "      <td>3.0234</td>\n",
       "      <td>-1.8314</td>\n",
       "      <td>6.8225</td>\n",
       "      <td>3.6928</td>\n",
       "      <td>-9.9658</td>\n",
       "      <td>2.2753</td>\n",
       "      <td>...</td>\n",
       "      <td>-9.9658</td>\n",
       "      <td>-4.2934</td>\n",
       "      <td>-1.3183</td>\n",
       "      <td>9.2998</td>\n",
       "      <td>3.3293</td>\n",
       "      <td>-0.8084</td>\n",
       "      <td>-9.9658</td>\n",
       "      <td>2.3704</td>\n",
       "      <td>-3.1714</td>\n",
       "      <td>-4.2934</td>\n",
       "    </tr>\n",
       "    <tr>\n",
       "      <th>1</th>\n",
       "      <td>-9.9658</td>\n",
       "      <td>-9.9658</td>\n",
       "      <td>1.7403</td>\n",
       "      <td>-9.9658</td>\n",
       "      <td>-9.9658</td>\n",
       "      <td>-2.3884</td>\n",
       "      <td>-9.9658</td>\n",
       "      <td>-9.9658</td>\n",
       "      <td>-0.2498</td>\n",
       "      <td>-9.9658</td>\n",
       "      <td>...</td>\n",
       "      <td>-2.3147</td>\n",
       "      <td>-9.9658</td>\n",
       "      <td>-9.9658</td>\n",
       "      <td>-1.1172</td>\n",
       "      <td>-9.9658</td>\n",
       "      <td>-9.9658</td>\n",
       "      <td>-9.9658</td>\n",
       "      <td>-0.4521</td>\n",
       "      <td>-9.9658</td>\n",
       "      <td>-2.5479</td>\n",
       "    </tr>\n",
       "    <tr>\n",
       "      <th>2</th>\n",
       "      <td>-9.9658</td>\n",
       "      <td>-1.8314</td>\n",
       "      <td>8.1521</td>\n",
       "      <td>0.7233</td>\n",
       "      <td>1.7660</td>\n",
       "      <td>-0.8339</td>\n",
       "      <td>4.4344</td>\n",
       "      <td>3.0978</td>\n",
       "      <td>-9.9658</td>\n",
       "      <td>2.0844</td>\n",
       "      <td>...</td>\n",
       "      <td>-9.9658</td>\n",
       "      <td>-9.9658</td>\n",
       "      <td>-0.4325</td>\n",
       "      <td>8.3797</td>\n",
       "      <td>2.7487</td>\n",
       "      <td>-2.1140</td>\n",
       "      <td>-9.9658</td>\n",
       "      <td>2.3308</td>\n",
       "      <td>-9.9658</td>\n",
       "      <td>-2.7274</td>\n",
       "    </tr>\n",
       "    <tr>\n",
       "      <th>3</th>\n",
       "      <td>-9.9658</td>\n",
       "      <td>-3.6259</td>\n",
       "      <td>7.2695</td>\n",
       "      <td>3.1491</td>\n",
       "      <td>2.2573</td>\n",
       "      <td>-3.3076</td>\n",
       "      <td>4.4900</td>\n",
       "      <td>2.8994</td>\n",
       "      <td>-9.9658</td>\n",
       "      <td>2.9319</td>\n",
       "      <td>...</td>\n",
       "      <td>-9.9658</td>\n",
       "      <td>-9.9658</td>\n",
       "      <td>-0.6873</td>\n",
       "      <td>6.9021</td>\n",
       "      <td>3.2267</td>\n",
       "      <td>-2.1779</td>\n",
       "      <td>-9.9658</td>\n",
       "      <td>2.7721</td>\n",
       "      <td>-2.0529</td>\n",
       "      <td>-5.0116</td>\n",
       "    </tr>\n",
       "    <tr>\n",
       "      <th>4</th>\n",
       "      <td>1.8564</td>\n",
       "      <td>-9.9658</td>\n",
       "      <td>1.0079</td>\n",
       "      <td>-9.9658</td>\n",
       "      <td>0.0014</td>\n",
       "      <td>-9.9658</td>\n",
       "      <td>-0.6873</td>\n",
       "      <td>-9.9658</td>\n",
       "      <td>-0.1031</td>\n",
       "      <td>-9.9658</td>\n",
       "      <td>...</td>\n",
       "      <td>1.5514</td>\n",
       "      <td>-3.1714</td>\n",
       "      <td>-9.9658</td>\n",
       "      <td>-2.7274</td>\n",
       "      <td>-9.9658</td>\n",
       "      <td>-9.9658</td>\n",
       "      <td>2.3394</td>\n",
       "      <td>-9.9658</td>\n",
       "      <td>-3.8160</td>\n",
       "      <td>-1.3921</td>\n",
       "    </tr>\n",
       "  </tbody>\n",
       "</table>\n",
       "<p>5 rows × 25 columns</p>\n",
       "</div>"
      ],
      "text/plain": [
       "   ENSG00000240247.6  ENSG00000279473.1  ENSG00000219928.2  ENSG00000232679.1  \\\n",
       "0            -4.0350            -1.1172             9.0743             1.8484   \n",
       "1            -9.9658            -9.9658             1.7403            -9.9658   \n",
       "2            -9.9658            -1.8314             8.1521             0.7233   \n",
       "3            -9.9658            -3.6259             7.2695             3.1491   \n",
       "4             1.8564            -9.9658             1.0079            -9.9658   \n",
       "\n",
       "   ENSG00000256500.5  ENSG00000224557.7  ENSG00000236060.2  ENSG00000224126.2  \\\n",
       "0             3.0234            -1.8314             6.8225             3.6928   \n",
       "1            -9.9658            -2.3884            -9.9658            -9.9658   \n",
       "2             1.7660            -0.8339             4.4344             3.0978   \n",
       "3             2.2573            -3.3076             4.4900             2.8994   \n",
       "4             0.0014            -9.9658            -0.6873            -9.9658   \n",
       "\n",
       "   ENSG00000129824.15  ENSG00000229237.2  ...  ENSG00000175646.3  \\\n",
       "0             -9.9658             2.2753  ...            -9.9658   \n",
       "1             -0.2498            -9.9658  ...            -2.3147   \n",
       "2             -9.9658             2.0844  ...            -9.9658   \n",
       "3             -9.9658             2.9319  ...            -9.9658   \n",
       "4             -0.1031            -9.9658  ...             1.5514   \n",
       "\n",
       "   ENSG00000279084.1  ENSG00000225558.1  ENSG00000123500.9  ENSG00000262533.1  \\\n",
       "0            -4.2934            -1.3183             9.2998             3.3293   \n",
       "1            -9.9658            -9.9658            -1.1172            -9.9658   \n",
       "2            -9.9658            -0.4325             8.3797             2.7487   \n",
       "3            -9.9658            -0.6873             6.9021             3.2267   \n",
       "4            -3.1714            -9.9658            -2.7274            -9.9658   \n",
       "\n",
       "   ENSG00000238249.2  ENSG00000142789.19  ENSG00000235734.4  \\\n",
       "0            -0.8084             -9.9658             2.3704   \n",
       "1            -9.9658             -9.9658            -0.4521   \n",
       "2            -2.1140             -9.9658             2.3308   \n",
       "3            -2.1779             -9.9658             2.7721   \n",
       "4            -9.9658              2.3394            -9.9658   \n",
       "\n",
       "   ENSG00000100721.10  ENSG00000248873.1  \n",
       "0             -3.1714            -4.2934  \n",
       "1             -9.9658            -2.5479  \n",
       "2             -9.9658            -2.7274  \n",
       "3             -2.0529            -5.0116  \n",
       "4             -3.8160            -1.3921  \n",
       "\n",
       "[5 rows x 25 columns]"
      ]
     },
     "execution_count": 50,
     "metadata": {},
     "output_type": "execute_result"
    }
   ],
   "source": [
    "X_transform_df = pd.DataFrame(X_transform)\n",
    "X_transform_df.columns = X_train_smote.columns[sfm.get_support()]\n",
    "X_transform_df.head()"
   ]
  },
  {
   "cell_type": "code",
   "execution_count": 74,
   "metadata": {},
   "outputs": [],
   "source": [
    "list1 = lassoCV_coef.index.tolist()"
   ]
  },
  {
   "cell_type": "code",
   "execution_count": 75,
   "metadata": {},
   "outputs": [],
   "source": [
    "list2 = X_transform_df.columns.tolist()"
   ]
  },
  {
   "cell_type": "code",
   "execution_count": 78,
   "metadata": {},
   "outputs": [
    {
     "name": "stdout",
     "output_type": "stream",
     "text": [
      "False\n"
     ]
    }
   ],
   "source": [
    "print(list1 == list2)"
   ]
  },
  {
   "cell_type": "code",
   "execution_count": 81,
   "metadata": {},
   "outputs": [],
   "source": [
    "set1 = set(list1)\n",
    "set2 = set(list2)"
   ]
  },
  {
   "cell_type": "code",
   "execution_count": 85,
   "metadata": {},
   "outputs": [
    {
     "data": {
      "text/plain": [
       "{'ENSG00000147434.8',\n",
       " 'ENSG00000162840.4',\n",
       " 'ENSG00000168530.15',\n",
       " 'ENSG00000169474.4',\n",
       " 'ENSG00000172867.3',\n",
       " 'ENSG00000189398.5',\n",
       " 'ENSG00000204866.8',\n",
       " 'ENSG00000206913.1',\n",
       " 'ENSG00000214881.4',\n",
       " 'ENSG00000235912.1',\n",
       " 'ENSG00000248583.1',\n",
       " 'ENSG00000253683.1',\n",
       " 'ENSG00000259738.1',\n",
       " 'ENSG00000265415.1',\n",
       " 'ENSG00000267143.1'}"
      ]
     },
     "execution_count": 85,
     "metadata": {},
     "output_type": "execute_result"
    }
   ],
   "source": [
    "(set1 - set2)"
   ]
  },
  {
   "cell_type": "code",
   "execution_count": 80,
   "metadata": {},
   "outputs": [
    {
     "data": {
      "text/plain": [
       "{'ENSG00000100721.10',\n",
       " 'ENSG00000115386.5',\n",
       " 'ENSG00000123500.9',\n",
       " 'ENSG00000129824.15',\n",
       " 'ENSG00000142789.19',\n",
       " 'ENSG00000175646.3',\n",
       " 'ENSG00000197616.11',\n",
       " 'ENSG00000219928.2',\n",
       " 'ENSG00000224126.2',\n",
       " 'ENSG00000224557.7',\n",
       " 'ENSG00000225558.1',\n",
       " 'ENSG00000229237.2',\n",
       " 'ENSG00000230734.1',\n",
       " 'ENSG00000232679.1',\n",
       " 'ENSG00000235734.4',\n",
       " 'ENSG00000236060.2',\n",
       " 'ENSG00000238249.2',\n",
       " 'ENSG00000240247.6',\n",
       " 'ENSG00000241431.1',\n",
       " 'ENSG00000244538.1',\n",
       " 'ENSG00000248873.1',\n",
       " 'ENSG00000256500.5',\n",
       " 'ENSG00000262533.1',\n",
       " 'ENSG00000279084.1',\n",
       " 'ENSG00000279473.1'}"
      ]
     },
     "execution_count": 80,
     "metadata": {},
     "output_type": "execute_result"
    }
   ],
   "source": [
    "set(list1) & set(list2)"
   ]
  },
  {
   "cell_type": "markdown",
   "metadata": {},
   "source": [
    "### Elastic Net"
   ]
  },
  {
   "cell_type": "code",
   "execution_count": 160,
   "metadata": {},
   "outputs": [],
   "source": [
    "\n",
    "# https://www.kaggle.com/cast42/feature-selection-and-elastic-net/notebook"
   ]
  },
  {
   "cell_type": "code",
   "execution_count": null,
   "metadata": {},
   "outputs": [],
   "source": [
    "#X_train_smote, y_train_res"
   ]
  },
  {
   "cell_type": "code",
   "execution_count": 138,
   "metadata": {},
   "outputs": [],
   "source": [
    "def rmse_cv(model):\n",
    "    rmse = np.sqrt(-cross_val_score(model, X_train_smote, y_train_res, scoring=\"neg_mean_squared_error\", cv = 5))\n",
    "    return(rmse)"
   ]
  },
  {
   "cell_type": "code",
   "execution_count": 123,
   "metadata": {},
   "outputs": [],
   "source": [
    "alphas = [0.0005, 0.001, 0.01, 0.03, 0.05, 0.1]\n",
    "l1_ratios = [1.5, 1.1, 1, 0.9, 0.8, 0.7, 0.5]"
   ]
  },
  {
   "cell_type": "code",
   "execution_count": 139,
   "metadata": {},
   "outputs": [],
   "source": [
    "cv_elastic = [rmse_cv(ElasticNet(alpha = alpha, l1_ratio=l1_ratio, random_state=SEED)).mean() for (alpha, l1_ratio) in product(alphas, l1_ratios)]"
   ]
  },
  {
   "cell_type": "code",
   "execution_count": 137,
   "metadata": {},
   "outputs": [
    {
     "data": {
      "text/plain": [
       "['accuracy',\n",
       " 'adjusted_mutual_info_score',\n",
       " 'adjusted_rand_score',\n",
       " 'average_precision',\n",
       " 'balanced_accuracy',\n",
       " 'brier_score_loss',\n",
       " 'completeness_score',\n",
       " 'explained_variance',\n",
       " 'f1',\n",
       " 'f1_macro',\n",
       " 'f1_micro',\n",
       " 'f1_samples',\n",
       " 'f1_weighted',\n",
       " 'fowlkes_mallows_score',\n",
       " 'homogeneity_score',\n",
       " 'mutual_info_score',\n",
       " 'neg_log_loss',\n",
       " 'neg_mean_absolute_error',\n",
       " 'neg_mean_squared_error',\n",
       " 'neg_mean_squared_log_error',\n",
       " 'neg_median_absolute_error',\n",
       " 'normalized_mutual_info_score',\n",
       " 'precision',\n",
       " 'precision_macro',\n",
       " 'precision_micro',\n",
       " 'precision_samples',\n",
       " 'precision_weighted',\n",
       " 'r2',\n",
       " 'recall',\n",
       " 'recall_macro',\n",
       " 'recall_micro',\n",
       " 'recall_samples',\n",
       " 'recall_weighted',\n",
       " 'roc_auc',\n",
       " 'v_measure_score']"
      ]
     },
     "execution_count": 137,
     "metadata": {},
     "output_type": "execute_result"
    }
   ],
   "source": [
    "#sorted(sklearn.metrics.SCORERS.keys())"
   ]
  },
  {
   "cell_type": "code",
   "execution_count": 140,
   "metadata": {},
   "outputs": [
    {
     "data": {
      "text/plain": [
       "Text(0, 0.5, 'rmse')"
      ]
     },
     "execution_count": 140,
     "metadata": {},
     "output_type": "execute_result"
    },
    {
     "data": {
      "image/png": "[encoded data removed]",
      "text/plain": [
       "<Figure size 864x432 with 1 Axes>"
      ]
     },
     "metadata": {
      "needs_background": "light"
     },
     "output_type": "display_data"
    }
   ],
   "source": [
    "plt.rcParams['figure.figsize'] = (12.0, 6.0)\n",
    "idx = list(product(alphas, l1_ratios))\n",
    "p_cv_elastic = pd.Series(cv_elastic, index = idx)\n",
    "p_cv_elastic.plot(title = \"Validation - Just Do It\")\n",
    "plt.xlabel(\"alpha - l1_ratio\")\n",
    "plt.ylabel(\"rmse\")"
   ]
  },
  {
   "cell_type": "code",
   "execution_count": 149,
   "metadata": {},
   "outputs": [
    {
     "data": {
      "text/plain": [
       "Text(0, 0.5, 'rmse')"
      ]
     },
     "execution_count": 149,
     "metadata": {},
     "output_type": "execute_result"
    },
    {
     "data": {
      "image/png": "[encoded data removed]",
      "text/plain": [
       "<Figure size 864x432 with 1 Axes>"
      ]
     },
     "metadata": {
      "needs_background": "light"
     },
     "output_type": "display_data"
    }
   ],
   "source": [
    "# Zoom in to the first 10 parameter pairs\n",
    "plt.rcParams['figure.figsize'] = (12, 6)\n",
    "idx = list(product(alphas, l1_ratios))[:10]\n",
    "p_cv_elastic = pd.Series(cv_elastic[:10], index = idx)\n",
    "p_cv_elastic.plot(title = \"Validation - Just Do It\")\n",
    "plt.xlabel(\"alpha - l1_ratio\")\n",
    "plt.ylabel(\"rmse\")"
   ]
  },
  {
   "cell_type": "code",
   "execution_count": 86,
   "metadata": {},
   "outputs": [
    {
     "data": {
      "text/plain": [
       "ElasticNet(alpha=0.0005, copy_X=True, fit_intercept=True, l1_ratio=0.5,\n",
       "      max_iter=1000, normalize=False, positive=False, precompute=False,\n",
       "      random_state=1888, selection='cyclic', tol=0.0001, warm_start=False)"
      ]
     },
     "execution_count": 86,
     "metadata": {},
     "output_type": "execute_result"
    }
   ],
   "source": [
    "elastic = ElasticNet(alpha=0.0005, l1_ratio=0.5, random_state=SEED)\n",
    "elastic.fit(X_train_smote, y_train_res)"
   ]
  },
  {
   "cell_type": "code",
   "execution_count": 87,
   "metadata": {},
   "outputs": [
    {
     "data": {
      "text/html": [
       "<div>\n",
       "<style scoped>\n",
       "    .dataframe tbody tr th:only-of-type {\n",
       "        vertical-align: middle;\n",
       "    }\n",
       "\n",
       "    .dataframe tbody tr th {\n",
       "        vertical-align: top;\n",
       "    }\n",
       "\n",
       "    .dataframe thead th {\n",
       "        text-align: right;\n",
       "    }\n",
       "</style>\n",
       "<table border=\"1\" class=\"dataframe\">\n",
       "  <thead>\n",
       "    <tr style=\"text-align: right;\">\n",
       "      <th></th>\n",
       "      <th>0</th>\n",
       "    </tr>\n",
       "  </thead>\n",
       "  <tbody>\n",
       "    <tr>\n",
       "      <th>ENSG00000279115.1</th>\n",
       "      <td>0.013667</td>\n",
       "    </tr>\n",
       "    <tr>\n",
       "      <th>ENSG00000196748.9</th>\n",
       "      <td>0.011953</td>\n",
       "    </tr>\n",
       "    <tr>\n",
       "      <th>ENSG00000218358.2</th>\n",
       "      <td>0.011667</td>\n",
       "    </tr>\n",
       "    <tr>\n",
       "      <th>ENSG00000232216.1</th>\n",
       "      <td>0.010388</td>\n",
       "    </tr>\n",
       "    <tr>\n",
       "      <th>ENSG00000211950.2</th>\n",
       "      <td>0.007904</td>\n",
       "    </tr>\n",
       "    <tr>\n",
       "      <th>ENSG00000123364.4</th>\n",
       "      <td>0.007615</td>\n",
       "    </tr>\n",
       "    <tr>\n",
       "      <th>ENSG00000234743.1</th>\n",
       "      <td>0.005498</td>\n",
       "    </tr>\n",
       "    <tr>\n",
       "      <th>ENSG00000253755.1</th>\n",
       "      <td>0.005303</td>\n",
       "    </tr>\n",
       "    <tr>\n",
       "      <th>ENSG00000259847.1</th>\n",
       "      <td>0.003624</td>\n",
       "    </tr>\n",
       "    <tr>\n",
       "      <th>ENSG00000269416.5</th>\n",
       "      <td>0.003496</td>\n",
       "    </tr>\n",
       "    <tr>\n",
       "      <th>ENSG00000255774.1</th>\n",
       "      <td>0.003426</td>\n",
       "    </tr>\n",
       "    <tr>\n",
       "      <th>ENSG00000105048.16</th>\n",
       "      <td>0.002695</td>\n",
       "    </tr>\n",
       "    <tr>\n",
       "      <th>ENSG00000279064.1</th>\n",
       "      <td>0.002350</td>\n",
       "    </tr>\n",
       "    <tr>\n",
       "      <th>ENSG00000260351.1</th>\n",
       "      <td>0.002270</td>\n",
       "    </tr>\n",
       "    <tr>\n",
       "      <th>ENSG00000232879.2</th>\n",
       "      <td>0.002145</td>\n",
       "    </tr>\n",
       "    <tr>\n",
       "      <th>ENSG00000248881.1</th>\n",
       "      <td>0.002076</td>\n",
       "    </tr>\n",
       "    <tr>\n",
       "      <th>ENSG00000001626.14</th>\n",
       "      <td>0.002057</td>\n",
       "    </tr>\n",
       "    <tr>\n",
       "      <th>ENSG00000269968.1</th>\n",
       "      <td>0.002032</td>\n",
       "    </tr>\n",
       "    <tr>\n",
       "      <th>ENSG00000254560.5</th>\n",
       "      <td>0.001980</td>\n",
       "    </tr>\n",
       "    <tr>\n",
       "      <th>ENSG00000280244.1</th>\n",
       "      <td>0.001971</td>\n",
       "    </tr>\n",
       "    <tr>\n",
       "      <th>ENSG00000243250.1</th>\n",
       "      <td>-0.002380</td>\n",
       "    </tr>\n",
       "    <tr>\n",
       "      <th>ENSG00000248873.1</th>\n",
       "      <td>-0.002544</td>\n",
       "    </tr>\n",
       "    <tr>\n",
       "      <th>ENSG00000236998.2</th>\n",
       "      <td>-0.002704</td>\n",
       "    </tr>\n",
       "    <tr>\n",
       "      <th>ENSG00000231943.7</th>\n",
       "      <td>-0.002715</td>\n",
       "    </tr>\n",
       "    <tr>\n",
       "      <th>ENSG00000268434.5</th>\n",
       "      <td>-0.002842</td>\n",
       "    </tr>\n",
       "    <tr>\n",
       "      <th>ENSG00000259799.1</th>\n",
       "      <td>-0.002967</td>\n",
       "    </tr>\n",
       "    <tr>\n",
       "      <th>ENSG00000275248.1</th>\n",
       "      <td>-0.003251</td>\n",
       "    </tr>\n",
       "    <tr>\n",
       "      <th>ENSG00000265096.1</th>\n",
       "      <td>-0.003278</td>\n",
       "    </tr>\n",
       "    <tr>\n",
       "      <th>ENSG00000242268.2</th>\n",
       "      <td>-0.003477</td>\n",
       "    </tr>\n",
       "    <tr>\n",
       "      <th>ENSG00000204528.3</th>\n",
       "      <td>-0.003808</td>\n",
       "    </tr>\n",
       "    <tr>\n",
       "      <th>ENSG00000257941.1</th>\n",
       "      <td>-0.003810</td>\n",
       "    </tr>\n",
       "    <tr>\n",
       "      <th>ENSG00000129451.11</th>\n",
       "      <td>-0.003930</td>\n",
       "    </tr>\n",
       "    <tr>\n",
       "      <th>ENSG00000167768.4</th>\n",
       "      <td>-0.004713</td>\n",
       "    </tr>\n",
       "    <tr>\n",
       "      <th>ENSG00000213777.5</th>\n",
       "      <td>-0.005066</td>\n",
       "    </tr>\n",
       "    <tr>\n",
       "      <th>ENSG00000211947.2</th>\n",
       "      <td>-0.005343</td>\n",
       "    </tr>\n",
       "    <tr>\n",
       "      <th>ENSG00000211679.2</th>\n",
       "      <td>-0.005805</td>\n",
       "    </tr>\n",
       "    <tr>\n",
       "      <th>ENSG00000092054.12</th>\n",
       "      <td>-0.005813</td>\n",
       "    </tr>\n",
       "    <tr>\n",
       "      <th>ENSG00000135903.18</th>\n",
       "      <td>-0.006530</td>\n",
       "    </tr>\n",
       "    <tr>\n",
       "      <th>ENSG00000206047.2</th>\n",
       "      <td>-0.007068</td>\n",
       "    </tr>\n",
       "    <tr>\n",
       "      <th>ENSG00000205362.10</th>\n",
       "      <td>-0.009789</td>\n",
       "    </tr>\n",
       "  </tbody>\n",
       "</table>\n",
       "</div>"
      ],
      "text/plain": [
       "                           0\n",
       "ENSG00000279115.1   0.013667\n",
       "ENSG00000196748.9   0.011953\n",
       "ENSG00000218358.2   0.011667\n",
       "ENSG00000232216.1   0.010388\n",
       "ENSG00000211950.2   0.007904\n",
       "ENSG00000123364.4   0.007615\n",
       "ENSG00000234743.1   0.005498\n",
       "ENSG00000253755.1   0.005303\n",
       "ENSG00000259847.1   0.003624\n",
       "ENSG00000269416.5   0.003496\n",
       "ENSG00000255774.1   0.003426\n",
       "ENSG00000105048.16  0.002695\n",
       "ENSG00000279064.1   0.002350\n",
       "ENSG00000260351.1   0.002270\n",
       "ENSG00000232879.2   0.002145\n",
       "ENSG00000248881.1   0.002076\n",
       "ENSG00000001626.14  0.002057\n",
       "ENSG00000269968.1   0.002032\n",
       "ENSG00000254560.5   0.001980\n",
       "ENSG00000280244.1   0.001971\n",
       "ENSG00000243250.1  -0.002380\n",
       "ENSG00000248873.1  -0.002544\n",
       "ENSG00000236998.2  -0.002704\n",
       "ENSG00000231943.7  -0.002715\n",
       "ENSG00000268434.5  -0.002842\n",
       "ENSG00000259799.1  -0.002967\n",
       "ENSG00000275248.1  -0.003251\n",
       "ENSG00000265096.1  -0.003278\n",
       "ENSG00000242268.2  -0.003477\n",
       "ENSG00000204528.3  -0.003808\n",
       "ENSG00000257941.1  -0.003810\n",
       "ENSG00000129451.11 -0.003930\n",
       "ENSG00000167768.4  -0.004713\n",
       "ENSG00000213777.5  -0.005066\n",
       "ENSG00000211947.2  -0.005343\n",
       "ENSG00000211679.2  -0.005805\n",
       "ENSG00000092054.12 -0.005813\n",
       "ENSG00000135903.18 -0.006530\n",
       "ENSG00000206047.2  -0.007068\n",
       "ENSG00000205362.10 -0.009789"
      ]
     },
     "execution_count": 87,
     "metadata": {},
     "output_type": "execute_result"
    }
   ],
   "source": [
    "imp_coef(elastic)"
   ]
  },
  {
   "cell_type": "code",
   "execution_count": 152,
   "metadata": {},
   "outputs": [
    {
     "data": {
      "text/plain": [
       "<matplotlib.axes._subplots.AxesSubplot at 0x1a204ad6d8>"
      ]
     },
     "execution_count": 152,
     "metadata": {},
     "output_type": "execute_result"
    },
    {
     "data": {
      "image/png": "[encoded data removed]",
      "text/plain": [
       "<Figure size 432x432 with 1 Axes>"
      ]
     },
     "metadata": {
      "needs_background": "light"
     },
     "output_type": "display_data"
    }
   ],
   "source": [
    "#let's look at the residuals as well:\n",
    "plt.rcParams['figure.figsize'] = (6.0, 6.0)\n",
    "\n",
    "preds = pd.DataFrame({\"preds\":elastic.predict(X_test), \"true\":y_test})\n",
    "preds[\"residuals\"] = preds[\"true\"] - preds[\"preds\"]\n",
    "preds.plot(x = \"preds\", y = \"residuals\",kind = \"scatter\")"
   ]
  },
  {
   "cell_type": "code",
   "execution_count": 153,
   "metadata": {},
   "outputs": [
    {
     "name": "stdout",
     "output_type": "stream",
     "text": [
      "RMSE: 0.1146\n"
     ]
    }
   ],
   "source": [
    "rmse = np.sqrt(np.mean((preds['true']-preds['preds'])**2))\n",
    "print ('RMSE: {0:.4f}'.format(rmse))"
   ]
  },
  {
   "cell_type": "code",
   "execution_count": 154,
   "metadata": {},
   "outputs": [
    {
     "name": "stdout",
     "output_type": "stream",
     "text": [
      "R^2 train: 0.895\n"
     ]
    }
   ],
   "source": [
    "from sklearn.metrics import r2_score\n",
    "print('R^2 train: %.3f' %  r2_score(preds['true'], preds['preds']))"
   ]
  },
  {
   "cell_type": "code",
   "execution_count": 89,
   "metadata": {},
   "outputs": [],
   "source": [
    "coef = pd.Series(elastic.coef_, index = X_train_smote.columns)"
   ]
  },
  {
   "cell_type": "code",
   "execution_count": 90,
   "metadata": {},
   "outputs": [
    {
     "name": "stdout",
     "output_type": "stream",
     "text": [
      "Elastic Net picked 1345 variables and eliminated the other 6919 variables\n"
     ]
    }
   ],
   "source": [
    "print(\"Elastic Net picked \" + str(sum(coef != 0)) + \" variables and eliminated the other \" +  str(sum(coef == 0)) + \" variables\")"
   ]
  },
  {
   "cell_type": "code",
   "execution_count": 91,
   "metadata": {},
   "outputs": [],
   "source": [
    "imp_coef = pd.concat([coef.sort_values().head(25),\n",
    "                     coef.sort_values().tail(25)])"
   ]
  },
  {
   "cell_type": "code",
   "execution_count": 92,
   "metadata": {},
   "outputs": [
    {
     "data": {
      "text/plain": [
       "Text(0.5, 1.0, 'Coefficients in the Elastic Net Model')"
      ]
     },
     "execution_count": 92,
     "metadata": {},
     "output_type": "execute_result"
    },
    {
     "data": {
      "image/png": "[encoded data removed]",
      "text/plain": [
       "<Figure size 576x720 with 1 Axes>"
      ]
     },
     "metadata": {
      "needs_background": "light"
     },
     "output_type": "display_data"
    }
   ],
   "source": [
    "plt.rcParams['figure.figsize'] = (8.0, 10.0)\n",
    "imp_coef.plot(kind = \"barh\")\n",
    "plt.title(\"Coefficients in the Elastic Net Model\")"
   ]
  },
  {
   "cell_type": "markdown",
   "metadata": {},
   "source": [
    "### Direct comparison vanilla Lasso/Elastic"
   ]
  },
  {
   "cell_type": "code",
   "execution_count": 162,
   "metadata": {},
   "outputs": [],
   "source": [
    "lm_lasso = Lasso(random_state=SEED)\n",
    "lm_elastic = ElasticNet(random_state=SEED)"
   ]
  },
  {
   "cell_type": "code",
   "execution_count": 163,
   "metadata": {},
   "outputs": [
    {
     "data": {
      "text/plain": [
       "ElasticNet(alpha=1.0, copy_X=True, fit_intercept=True, l1_ratio=0.5,\n",
       "      max_iter=1000, normalize=False, positive=False, precompute=False,\n",
       "      random_state=1888, selection='cyclic', tol=0.0001, warm_start=False)"
      ]
     },
     "execution_count": 163,
     "metadata": {},
     "output_type": "execute_result"
    }
   ],
   "source": [
    "lm_lasso.fit(X_train_smote, y_train_res)\n",
    "lm_elastic.fit(X_train_smote, y_train_res)"
   ]
  },
  {
   "cell_type": "code",
   "execution_count": null,
   "metadata": {},
   "outputs": [],
   "source": [
    "#imp_coef(lm_lasso)"
   ]
  },
  {
   "cell_type": "code",
   "execution_count": 171,
   "metadata": {},
   "outputs": [
    {
     "data": {
      "text/plain": [
       "ENSG00000170373.8    0.018887\n",
       "ENSG00000262533.1    0.016066\n",
       "ENSG00000229237.2    0.004283\n",
       "ENSG00000219928.2    0.003385\n",
       "ENSG00000230838.1    0.000915\n",
       "ENSG00000273450.1   -0.000000\n",
       "ENSG00000239528.1   -0.000000\n",
       "ENSG00000249639.1    0.000000\n",
       "ENSG00000269526.1    0.000000\n",
       "ENSG00000273233.1    0.000000\n",
       "ENSG00000253660.1    0.000000\n",
       "ENSG00000260558.1   -0.000000\n",
       "ENSG00000273950.1    0.000000\n",
       "ENSG00000261949.5    0.000000\n",
       "ENSG00000180383.3   -0.000000\n",
       "ENSG00000271623.1   -0.000000\n",
       "ENSG00000239899.3   -0.000000\n",
       "ENSG00000256861.1    0.000000\n",
       "ENSG00000275343.1   -0.000000\n",
       "ENSG00000276150.1   -0.000000\n",
       "dtype: float64"
      ]
     },
     "execution_count": 171,
     "metadata": {},
     "output_type": "execute_result"
    }
   ],
   "source": [
    "ft_importances_lm_lasso = pd.Series(lm_lasso.coef_, index=X_train_smote.columns)\n",
    "ft_importances_lm_lasso.sort_values(ascending=False).head(20)"
   ]
  },
  {
   "cell_type": "code",
   "execution_count": null,
   "metadata": {},
   "outputs": [],
   "source": [
    "#imp_coef(lm_elastic)"
   ]
  },
  {
   "cell_type": "code",
   "execution_count": 189,
   "metadata": {},
   "outputs": [
    {
     "data": {
      "text/plain": [
       "ENSG00000262533.1    0.014027\n",
       "ENSG00000170373.8    0.013851\n",
       "ENSG00000229237.2    0.008707\n",
       "ENSG00000230838.1    0.007433\n",
       "ENSG00000224126.2    0.005796\n",
       "ENSG00000244538.1    0.004818\n",
       "ENSG00000219928.2    0.003885\n",
       "ENSG00000235734.4    0.002906\n",
       "ENSG00000256861.1    0.000000\n",
       "ENSG00000239528.1   -0.000000\n",
       "ENSG00000249639.1    0.000000\n",
       "ENSG00000253660.1    0.000000\n",
       "ENSG00000269526.1    0.000000\n",
       "ENSG00000260558.1   -0.000000\n",
       "ENSG00000273950.1    0.000000\n",
       "ENSG00000261949.5    0.000000\n",
       "ENSG00000180383.3   -0.000000\n",
       "ENSG00000271623.1   -0.000000\n",
       "ENSG00000273450.1   -0.000000\n",
       "ENSG00000273233.1    0.000000\n",
       "dtype: float64"
      ]
     },
     "execution_count": 189,
     "metadata": {},
     "output_type": "execute_result"
    }
   ],
   "source": [
    "ft_importances_lm_elastic = pd.Series(lm_elastic.coef_, index=X_train_smote.columns)\n",
    "ft_importances_lm_elastic.sort_values(ascending=False).head(20)"
   ]
  },
  {
   "cell_type": "code",
   "execution_count": 173,
   "metadata": {},
   "outputs": [
    {
     "data": {
      "text/plain": [
       "65.27"
      ]
     },
     "execution_count": 173,
     "metadata": {},
     "output_type": "execute_result"
    }
   ],
   "source": [
    "# R2 value\n",
    "\n",
    "np.round(lm_lasso.score(X_test, y_test)*100,2)"
   ]
  },
  {
   "cell_type": "code",
   "execution_count": 174,
   "metadata": {},
   "outputs": [
    {
     "data": {
      "text/plain": [
       "86.17"
      ]
     },
     "execution_count": 174,
     "metadata": {},
     "output_type": "execute_result"
    }
   ],
   "source": [
    "np.round(lm_elastic.score(X_test, y_test)*100,2)"
   ]
  },
  {
   "cell_type": "markdown",
   "metadata": {},
   "source": [
    "### Elastic GS"
   ]
  },
  {
   "cell_type": "code",
   "execution_count": 176,
   "metadata": {},
   "outputs": [
    {
     "data": {
      "text/plain": [
       "GridSearchCV(cv=5, error_score='raise-deprecating',\n",
       "       estimator=ElasticNet(alpha=1.0, copy_X=True, fit_intercept=True, l1_ratio=0.5,\n",
       "      max_iter=1000, normalize=False, positive=False, precompute=False,\n",
       "      random_state=None, selection='cyclic', tol=0.0001, warm_start=False),\n",
       "       fit_params=None, iid='warn', n_jobs=None,\n",
       "       param_grid={'alpha': [0.0005, 0.001, 0.01, 0.03, 0.05, 0.1], 'l1_ratio': [1.5, 1.1, 1, 0.9, 0.8, 0.7, 0.5]},\n",
       "       pre_dispatch='2*n_jobs', refit=True, return_train_score='warn',\n",
       "       scoring=None, verbose=0)"
      ]
     },
     "execution_count": 176,
     "metadata": {},
     "output_type": "execute_result"
    }
   ],
   "source": [
    "elastic_hp = ElasticNet(random_state=SEED)\n",
    "params = {\"alpha\": [0.0005, 0.001, 0.01, 0.03, 0.05, 0.1], \"l1_ratio\": [1.5, 1.1, 1, 0.9, 0.8, 0.7, 0.5]}\n",
    "\n",
    "gs = GridSearchCV(elastic_hp, param_grid=params, cv=5)\n",
    "gs.fit(X_train_smote, y_train_res)"
   ]
  },
  {
   "cell_type": "code",
   "execution_count": 99,
   "metadata": {},
   "outputs": [
    {
     "ename": "NameError",
     "evalue": "name 'gs' is not defined",
     "output_type": "error",
     "traceback": [
      "\u001b[0;31m---------------------------------------------------------------------------\u001b[0m",
      "\u001b[0;31mNameError\u001b[0m                                 Traceback (most recent call last)",
      "\u001b[0;32m<ipython-input-99-7468c6bf007f>\u001b[0m in \u001b[0;36m<module>\u001b[0;34m\u001b[0m\n\u001b[0;32m----> 1\u001b[0;31m \u001b[0mprint\u001b[0m\u001b[0;34m(\u001b[0m\u001b[0;34m'Best Parameters'\u001b[0m\u001b[0;34m,\u001b[0m\u001b[0mgs\u001b[0m\u001b[0;34m.\u001b[0m\u001b[0mbest_params_\u001b[0m\u001b[0;34m)\u001b[0m\u001b[0;34m\u001b[0m\u001b[0;34m\u001b[0m\u001b[0m\n\u001b[0m",
      "\u001b[0;31mNameError\u001b[0m: name 'gs' is not defined"
     ]
    }
   ],
   "source": [
    "print('Best Parameters',gs.best_params_)"
   ]
  },
  {
   "cell_type": "code",
   "execution_count": 144,
   "metadata": {},
   "outputs": [
    {
     "name": "stdout",
     "output_type": "stream",
     "text": [
      "Accuracy of logistic regression on test set: 0.98\n",
      "Mean squared error: 0.00\n"
     ]
    }
   ],
   "source": [
    "elastic_tuned = ElasticNet(alpha=0.01, l1_ratio=0.5, random_state=SEED)\n",
    "elastic_tuned.fit(X_train_smote, y_train_res)\n",
    "\n",
    "elastic_tuned_pred = elastic_tuned.predict(X_test)\n",
    "\n",
    "print(\"Accuracy of logistic regression on test set: {:.2f}\".format(elastic_tuned.score(X_test, y_test)))\n",
    "print(\"Mean squared error: {:.2f}\".format(mean_squared_error(y_test, elastic_tuned_pred)))"
   ]
  },
  {
   "cell_type": "code",
   "execution_count": 136,
   "metadata": {},
   "outputs": [],
   "source": []
  },
  {
   "cell_type": "code",
   "execution_count": null,
   "metadata": {},
   "outputs": [],
   "source": []
  },
  {
   "cell_type": "code",
   "execution_count": 101,
   "metadata": {},
   "outputs": [
    {
     "data": {
      "text/plain": [
       "array([-0.,  0.,  0., ..., -0., -0.,  0.])"
      ]
     },
     "execution_count": 101,
     "metadata": {},
     "output_type": "execute_result"
    }
   ],
   "source": [
    "elastic_tuned.coef_"
   ]
  },
  {
   "cell_type": "code",
   "execution_count": 127,
   "metadata": {},
   "outputs": [],
   "source": [
    "ft_importances_elastic_tuned = pd.DataFrame(elastic_tuned.coef_, index=X_train_smote.columns)\n",
    "bla = ft_importances_elastic_tuned.sort_values(0, ascending=False).head(100)"
   ]
  },
  {
   "cell_type": "code",
   "execution_count": null,
   "metadata": {},
   "outputs": [],
   "source": []
  },
  {
   "cell_type": "code",
   "execution_count": 106,
   "metadata": {},
   "outputs": [
    {
     "name": "stdout",
     "output_type": "stream",
     "text": [
      "Elastic Net picked 430 variables and eliminated the other 7834 variables\n"
     ]
    }
   ],
   "source": [
    "print(\"Elastic Net picked \" + str(sum(elastic_tuned.coef_ != 0)) + \" variables and eliminated the other \" +  str(sum(elastic_tuned.coef_ == 0)) + \" variables\")"
   ]
  },
  {
   "cell_type": "code",
   "execution_count": null,
   "metadata": {},
   "outputs": [],
   "source": [
    "list1 = lassoCV_coef.index.tolist()"
   ]
  },
  {
   "cell_type": "code",
   "execution_count": 115,
   "metadata": {},
   "outputs": [],
   "source": [
    "list3 = ft_importances_elastic_tuned.sort_values(0, ascending=False).head(40).index.tolist()"
   ]
  },
  {
   "cell_type": "code",
   "execution_count": 116,
   "metadata": {},
   "outputs": [],
   "source": [
    "set3 = set(list3)"
   ]
  },
  {
   "cell_type": "code",
   "execution_count": 118,
   "metadata": {},
   "outputs": [
    {
     "data": {
      "text/plain": [
       "{'ENSG00000100721.10',\n",
       " 'ENSG00000123500.9',\n",
       " 'ENSG00000219928.2',\n",
       " 'ENSG00000224126.2',\n",
       " 'ENSG00000225558.1',\n",
       " 'ENSG00000229237.2',\n",
       " 'ENSG00000230734.1',\n",
       " 'ENSG00000235734.4',\n",
       " 'ENSG00000236060.2',\n",
       " 'ENSG00000238249.2',\n",
       " 'ENSG00000241431.1',\n",
       " 'ENSG00000244538.1',\n",
       " 'ENSG00000262533.1',\n",
       " 'ENSG00000279473.1'}"
      ]
     },
     "execution_count": 118,
     "metadata": {},
     "output_type": "execute_result"
    }
   ],
   "source": [
    "set1 & set3"
   ]
  },
  {
   "cell_type": "code",
   "execution_count": 119,
   "metadata": {},
   "outputs": [
    {
     "data": {
      "text/plain": [
       "{'ENSG00000115386.5',\n",
       " 'ENSG00000129824.15',\n",
       " 'ENSG00000142789.19',\n",
       " 'ENSG00000147434.8',\n",
       " 'ENSG00000162840.4',\n",
       " 'ENSG00000168530.15',\n",
       " 'ENSG00000169474.4',\n",
       " 'ENSG00000172867.3',\n",
       " 'ENSG00000175646.3',\n",
       " 'ENSG00000189398.5',\n",
       " 'ENSG00000197616.11',\n",
       " 'ENSG00000204866.8',\n",
       " 'ENSG00000206913.1',\n",
       " 'ENSG00000214881.4',\n",
       " 'ENSG00000224557.7',\n",
       " 'ENSG00000232679.1',\n",
       " 'ENSG00000235912.1',\n",
       " 'ENSG00000240247.6',\n",
       " 'ENSG00000248583.1',\n",
       " 'ENSG00000248873.1',\n",
       " 'ENSG00000253683.1',\n",
       " 'ENSG00000256500.5',\n",
       " 'ENSG00000259738.1',\n",
       " 'ENSG00000265415.1',\n",
       " 'ENSG00000267143.1',\n",
       " 'ENSG00000279084.1'}"
      ]
     },
     "execution_count": 119,
     "metadata": {},
     "output_type": "execute_result"
    }
   ],
   "source": [
    "set1 - set3"
   ]
  },
  {
   "cell_type": "markdown",
   "metadata": {},
   "source": [
    "### Elastic with SelectFromModel"
   ]
  },
  {
   "cell_type": "code",
   "execution_count": 120,
   "metadata": {},
   "outputs": [
    {
     "ename": "KeyboardInterrupt",
     "evalue": "",
     "output_type": "error",
     "traceback": [
      "\u001b[0;31m---------------------------------------------------------------------------\u001b[0m",
      "\u001b[0;31mKeyboardInterrupt\u001b[0m                         Traceback (most recent call last)",
      "\u001b[0;32m<ipython-input-120-4279a8594f54>\u001b[0m in \u001b[0;36m<module>\u001b[0;34m\u001b[0m\n\u001b[1;32m     14\u001b[0m \u001b[0;32mwhile\u001b[0m \u001b[0mn_features\u001b[0m \u001b[0;34m>\u001b[0m \u001b[0;36m40\u001b[0m\u001b[0;34m:\u001b[0m\u001b[0;34m\u001b[0m\u001b[0;34m\u001b[0m\u001b[0m\n\u001b[1;32m     15\u001b[0m     \u001b[0msfm\u001b[0m\u001b[0;34m.\u001b[0m\u001b[0mthreshold\u001b[0m \u001b[0;34m+=\u001b[0m \u001b[0;36m0.00001\u001b[0m\u001b[0;34m\u001b[0m\u001b[0;34m\u001b[0m\u001b[0m\n\u001b[0;32m---> 16\u001b[0;31m     \u001b[0mX_transform2\u001b[0m \u001b[0;34m=\u001b[0m \u001b[0msfm2\u001b[0m\u001b[0;34m.\u001b[0m\u001b[0mtransform\u001b[0m\u001b[0;34m(\u001b[0m\u001b[0mX_train_smote\u001b[0m\u001b[0;34m)\u001b[0m\u001b[0;34m\u001b[0m\u001b[0;34m\u001b[0m\u001b[0m\n\u001b[0m\u001b[1;32m     17\u001b[0m     \u001b[0mn_features2\u001b[0m \u001b[0;34m=\u001b[0m \u001b[0mX_transform2\u001b[0m\u001b[0;34m.\u001b[0m\u001b[0mshape\u001b[0m\u001b[0;34m[\u001b[0m\u001b[0;36m1\u001b[0m\u001b[0;34m]\u001b[0m\u001b[0;34m\u001b[0m\u001b[0;34m\u001b[0m\u001b[0m\n\u001b[1;32m     18\u001b[0m \u001b[0;34m\u001b[0m\u001b[0m\n",
      "\u001b[0;32m~/anaconda/envs/deeplearning/lib/python3.7/site-packages/sklearn/feature_selection/base.py\u001b[0m in \u001b[0;36mtransform\u001b[0;34m(self, X)\u001b[0m\n\u001b[1;32m     73\u001b[0m             \u001b[0mThe\u001b[0m \u001b[0minput\u001b[0m \u001b[0msamples\u001b[0m \u001b[0;32mwith\u001b[0m \u001b[0monly\u001b[0m \u001b[0mthe\u001b[0m \u001b[0mselected\u001b[0m \u001b[0mfeatures\u001b[0m\u001b[0;34m.\u001b[0m\u001b[0;34m\u001b[0m\u001b[0;34m\u001b[0m\u001b[0m\n\u001b[1;32m     74\u001b[0m         \"\"\"\n\u001b[0;32m---> 75\u001b[0;31m         \u001b[0mX\u001b[0m \u001b[0;34m=\u001b[0m \u001b[0mcheck_array\u001b[0m\u001b[0;34m(\u001b[0m\u001b[0mX\u001b[0m\u001b[0;34m,\u001b[0m \u001b[0mdtype\u001b[0m\u001b[0;34m=\u001b[0m\u001b[0;32mNone\u001b[0m\u001b[0;34m,\u001b[0m \u001b[0maccept_sparse\u001b[0m\u001b[0;34m=\u001b[0m\u001b[0;34m'csr'\u001b[0m\u001b[0;34m)\u001b[0m\u001b[0;34m\u001b[0m\u001b[0;34m\u001b[0m\u001b[0m\n\u001b[0m\u001b[1;32m     76\u001b[0m         \u001b[0mmask\u001b[0m \u001b[0;34m=\u001b[0m \u001b[0mself\u001b[0m\u001b[0;34m.\u001b[0m\u001b[0mget_support\u001b[0m\u001b[0;34m(\u001b[0m\u001b[0;34m)\u001b[0m\u001b[0;34m\u001b[0m\u001b[0;34m\u001b[0m\u001b[0m\n\u001b[1;32m     77\u001b[0m         \u001b[0;32mif\u001b[0m \u001b[0;32mnot\u001b[0m \u001b[0mmask\u001b[0m\u001b[0;34m.\u001b[0m\u001b[0many\u001b[0m\u001b[0;34m(\u001b[0m\u001b[0;34m)\u001b[0m\u001b[0;34m:\u001b[0m\u001b[0;34m\u001b[0m\u001b[0;34m\u001b[0m\u001b[0m\n",
      "\u001b[0;32m~/anaconda/envs/deeplearning/lib/python3.7/site-packages/sklearn/utils/validation.py\u001b[0m in \u001b[0;36mcheck_array\u001b[0;34m(array, accept_sparse, accept_large_sparse, dtype, order, copy, force_all_finite, ensure_2d, allow_nd, ensure_min_samples, ensure_min_features, warn_on_dtype, estimator)\u001b[0m\n\u001b[1;32m    479\u001b[0m     \u001b[0mdtypes_orig\u001b[0m \u001b[0;34m=\u001b[0m \u001b[0;32mNone\u001b[0m\u001b[0;34m\u001b[0m\u001b[0;34m\u001b[0m\u001b[0m\n\u001b[1;32m    480\u001b[0m     \u001b[0;32mif\u001b[0m \u001b[0mhasattr\u001b[0m\u001b[0;34m(\u001b[0m\u001b[0marray\u001b[0m\u001b[0;34m,\u001b[0m \u001b[0;34m\"dtypes\"\u001b[0m\u001b[0;34m)\u001b[0m \u001b[0;32mand\u001b[0m \u001b[0mhasattr\u001b[0m\u001b[0;34m(\u001b[0m\u001b[0marray\u001b[0m\u001b[0;34m.\u001b[0m\u001b[0mdtypes\u001b[0m\u001b[0;34m,\u001b[0m \u001b[0;34m'__array__'\u001b[0m\u001b[0;34m)\u001b[0m\u001b[0;34m:\u001b[0m\u001b[0;34m\u001b[0m\u001b[0;34m\u001b[0m\u001b[0m\n\u001b[0;32m--> 481\u001b[0;31m         \u001b[0mdtypes_orig\u001b[0m \u001b[0;34m=\u001b[0m \u001b[0mnp\u001b[0m\u001b[0;34m.\u001b[0m\u001b[0marray\u001b[0m\u001b[0;34m(\u001b[0m\u001b[0marray\u001b[0m\u001b[0;34m.\u001b[0m\u001b[0mdtypes\u001b[0m\u001b[0;34m)\u001b[0m\u001b[0;34m\u001b[0m\u001b[0;34m\u001b[0m\u001b[0m\n\u001b[0m\u001b[1;32m    482\u001b[0m \u001b[0;34m\u001b[0m\u001b[0m\n\u001b[1;32m    483\u001b[0m     \u001b[0;32mif\u001b[0m \u001b[0mdtype_numeric\u001b[0m\u001b[0;34m:\u001b[0m\u001b[0;34m\u001b[0m\u001b[0;34m\u001b[0m\u001b[0m\n",
      "\u001b[0;31mKeyboardInterrupt\u001b[0m: "
     ]
    }
   ],
   "source": [
    "# Elastic with SelectFromModel\n",
    "\n",
    "clf_el = ElasticNet(alpha=0.01, l1_ratio=0.5, random_state=SEED)\n",
    "\n",
    "# Set a minimum threshold of 0.25\n",
    "sfm2 = SelectFromModel(clf_el, threshold=0.00001)\n",
    "sfm2.fit(X_train_smote, y_train_res)\n",
    "n_features = sfm2.transform(X_train_smote).shape[1]\n",
    "\n",
    "# Reset the threshold till the number of features equals two.\n",
    "# Note that the attribute can be set directly instead of repeatedly\n",
    "# fitting the metatransformer.\n",
    "\n",
    "while n_features > 40:\n",
    "    sfm.threshold += 0.00001\n",
    "    X_transform2 = sfm2.transform(X_train_smote)\n",
    "    n_features2 = X_transform2.shape[1]\n",
    "    \n",
    "n_features2"
   ]
  },
  {
   "cell_type": "code",
   "execution_count": 132,
   "metadata": {},
   "outputs": [
    {
     "data": {
      "text/plain": [
       "{'metod': ['ENSG00000238249.2',\n",
       "  'ENSG00000235734.4',\n",
       "  'ENSG00000229237.2',\n",
       "  'ENSG00000224126.2',\n",
       "  'ENSG00000234743.1',\n",
       "  'ENSG00000262533.1',\n",
       "  'ENSG00000123500.9',\n",
       "  'ENSG00000279473.1',\n",
       "  'ENSG00000241431.1',\n",
       "  'ENSG00000230838.1',\n",
       "  'ENSG00000219928.2',\n",
       "  'ENSG00000244538.1',\n",
       "  'ENSG00000230734.1',\n",
       "  'ENSG00000204429.4',\n",
       "  'ENSG00000239642.5',\n",
       "  'ENSG00000100721.10',\n",
       "  'ENSG00000225558.1',\n",
       "  'ENSG00000228168.1',\n",
       "  'ENSG00000249141.1',\n",
       "  'ENSG00000236768.1',\n",
       "  'ENSG00000266341.1',\n",
       "  'ENSG00000275431.1',\n",
       "  'ENSG00000243063.1',\n",
       "  'ENSG00000220875.1',\n",
       "  'ENSG00000166961.14',\n",
       "  'ENSG00000234174.1',\n",
       "  'ENSG00000236060.2',\n",
       "  'ENSG00000271127.1',\n",
       "  'ENSG00000232993.1',\n",
       "  'ENSG00000281383.1',\n",
       "  'ENSG00000253755.1',\n",
       "  'ENSG00000280178.1',\n",
       "  'ENSG00000280244.1',\n",
       "  'ENSG00000183308.6',\n",
       "  'ENSG00000268854.1',\n",
       "  'ENSG00000277619.1',\n",
       "  'ENSG00000255351.1',\n",
       "  'ENSG00000258064.1',\n",
       "  'ENSG00000232177.1',\n",
       "  'ENSG00000238741.1',\n",
       "  'ENSG00000274266.1',\n",
       "  'ENSG00000231351.2',\n",
       "  'ENSG00000207008.1',\n",
       "  'ENSG00000256980.4',\n",
       "  'ENSG00000170373.8',\n",
       "  'ENSG00000282785.1',\n",
       "  'ENSG00000228843.2',\n",
       "  'ENSG00000256500.5',\n",
       "  'ENSG00000234031.1',\n",
       "  'ENSG00000265415.1',\n",
       "  'ENSG00000254673.1',\n",
       "  'ENSG00000241434.1',\n",
       "  'ENSG00000227245.1',\n",
       "  'ENSG00000243888.1',\n",
       "  'ENSG00000280286.1',\n",
       "  'ENSG00000196747.4',\n",
       "  'ENSG00000279084.1',\n",
       "  'ENSG00000278771.1',\n",
       "  'ENSG00000250709.1',\n",
       "  'ENSG00000272418.1',\n",
       "  'ENSG00000204539.3',\n",
       "  'ENSG00000262902.1',\n",
       "  'ENSG00000260679.1',\n",
       "  'ENSG00000268804.1',\n",
       "  'ENSG00000279047.3',\n",
       "  'ENSG00000260986.1',\n",
       "  'ENSG00000239719.1',\n",
       "  'ENSG00000279115.1',\n",
       "  'ENSG00000267633.1',\n",
       "  'ENSG00000114638.7',\n",
       "  'ENSG00000260934.1',\n",
       "  'ENSG00000256427.1',\n",
       "  'ENSG00000243607.3',\n",
       "  'ENSG00000240409.1',\n",
       "  'ENSG00000254348.1',\n",
       "  'ENSG00000261684.1',\n",
       "  'ENSG00000269968.1',\n",
       "  'ENSG00000235828.5',\n",
       "  'ENSG00000249599.1',\n",
       "  'ENSG00000172156.3',\n",
       "  'ENSG00000243538.1',\n",
       "  'ENSG00000261124.1',\n",
       "  'ENSG00000261218.5',\n",
       "  'ENSG00000206073.10',\n",
       "  'ENSG00000143556.8',\n",
       "  'ENSG00000259424.1',\n",
       "  'ENSG00000236528.1',\n",
       "  'ENSG00000132026.13',\n",
       "  'ENSG00000275585.1',\n",
       "  'ENSG00000259274.1',\n",
       "  'ENSG00000248672.5',\n",
       "  'ENSG00000269110.1',\n",
       "  'ENSG00000224050.1',\n",
       "  'ENSG00000241790.2',\n",
       "  'ENSG00000254760.1',\n",
       "  'ENSG00000241135.5',\n",
       "  'ENSG00000265845.2',\n",
       "  'ENSG00000237217.1',\n",
       "  'ENSG00000204850.4',\n",
       "  'ENSG00000257529.5']}"
      ]
     },
     "execution_count": 132,
     "metadata": {},
     "output_type": "execute_result"
    }
   ],
   "source": [
    "d = {\"metod\": bla.index.tolist()}\n",
    "d"
   ]
  },
  {
   "cell_type": "code",
   "execution_count": 129,
   "metadata": {},
   "outputs": [
    {
     "data": {
      "text/plain": [
       "Index(['ENSG00000238249.2', 'ENSG00000235734.4', 'ENSG00000229237.2',\n",
       "       'ENSG00000224126.2', 'ENSG00000234743.1', 'ENSG00000262533.1',\n",
       "       'ENSG00000123500.9', 'ENSG00000279473.1', 'ENSG00000241431.1',\n",
       "       'ENSG00000230838.1', 'ENSG00000219928.2', 'ENSG00000244538.1',\n",
       "       'ENSG00000230734.1', 'ENSG00000204429.4', 'ENSG00000239642.5',\n",
       "       'ENSG00000100721.10', 'ENSG00000225558.1', 'ENSG00000228168.1',\n",
       "       'ENSG00000249141.1', 'ENSG00000236768.1', 'ENSG00000266341.1',\n",
       "       'ENSG00000275431.1', 'ENSG00000243063.1', 'ENSG00000220875.1',\n",
       "       'ENSG00000166961.14', 'ENSG00000234174.1', 'ENSG00000236060.2',\n",
       "       'ENSG00000271127.1', 'ENSG00000232993.1', 'ENSG00000281383.1',\n",
       "       'ENSG00000253755.1', 'ENSG00000280178.1', 'ENSG00000280244.1',\n",
       "       'ENSG00000183308.6', 'ENSG00000268854.1', 'ENSG00000277619.1',\n",
       "       'ENSG00000255351.1', 'ENSG00000258064.1', 'ENSG00000232177.1',\n",
       "       'ENSG00000238741.1', 'ENSG00000274266.1', 'ENSG00000231351.2',\n",
       "       'ENSG00000207008.1', 'ENSG00000256980.4', 'ENSG00000170373.8',\n",
       "       'ENSG00000282785.1', 'ENSG00000228843.2', 'ENSG00000256500.5',\n",
       "       'ENSG00000234031.1', 'ENSG00000265415.1', 'ENSG00000254673.1',\n",
       "       'ENSG00000241434.1', 'ENSG00000227245.1', 'ENSG00000243888.1',\n",
       "       'ENSG00000280286.1', 'ENSG00000196747.4', 'ENSG00000279084.1',\n",
       "       'ENSG00000278771.1', 'ENSG00000250709.1', 'ENSG00000272418.1',\n",
       "       'ENSG00000204539.3', 'ENSG00000262902.1', 'ENSG00000260679.1',\n",
       "       'ENSG00000268804.1', 'ENSG00000279047.3', 'ENSG00000260986.1',\n",
       "       'ENSG00000239719.1', 'ENSG00000279115.1', 'ENSG00000267633.1',\n",
       "       'ENSG00000114638.7', 'ENSG00000260934.1', 'ENSG00000256427.1',\n",
       "       'ENSG00000243607.3', 'ENSG00000240409.1', 'ENSG00000254348.1',\n",
       "       'ENSG00000261684.1', 'ENSG00000269968.1', 'ENSG00000235828.5',\n",
       "       'ENSG00000249599.1', 'ENSG00000172156.3', 'ENSG00000243538.1',\n",
       "       'ENSG00000261124.1', 'ENSG00000261218.5', 'ENSG00000206073.10',\n",
       "       'ENSG00000143556.8', 'ENSG00000259424.1', 'ENSG00000236528.1',\n",
       "       'ENSG00000132026.13', 'ENSG00000275585.1', 'ENSG00000259274.1',\n",
       "       'ENSG00000248672.5', 'ENSG00000269110.1', 'ENSG00000224050.1',\n",
       "       'ENSG00000241790.2', 'ENSG00000254760.1', 'ENSG00000241135.5',\n",
       "       'ENSG00000265845.2', 'ENSG00000237217.1', 'ENSG00000204850.4',\n",
       "       'ENSG00000257529.5'],\n",
       "      dtype='object')"
      ]
     },
     "execution_count": 129,
     "metadata": {},
     "output_type": "execute_result"
    }
   ],
   "source": [
    "bla.index"
   ]
  },
  {
   "cell_type": "code",
   "execution_count": 42,
   "metadata": {},
   "outputs": [
    {
     "name": "stdout",
     "output_type": "stream",
     "text": [
      "Accuracy of elastic net: 0.91\n",
      "Elastic net mean squared error: 0.01\n"
     ]
    },
    {
     "data": {
      "text/plain": [
       "{'Elastic Net': [['ENSG00000229237.2',\n",
       "   'ENSG00000219928.2',\n",
       "   'ENSG00000256210.3',\n",
       "   'ENSG00000224126.2',\n",
       "   'ENSG00000259357.2',\n",
       "   'ENSG00000170369.3',\n",
       "   'ENSG00000235734.4',\n",
       "   'ENSG00000254829.1',\n",
       "   'ENSG00000260265.1',\n",
       "   'ENSG00000262533.1',\n",
       "   'ENSG00000029559.6',\n",
       "   'ENSG00000280286.1',\n",
       "   'ENSG00000223808.1',\n",
       "   'ENSG00000257634.1',\n",
       "   'ENSG00000276292.1',\n",
       "   'ENSG00000236060.2',\n",
       "   'ENSG00000277194.1',\n",
       "   'ENSG00000232767.1',\n",
       "   'ENSG00000257607.1',\n",
       "   'ENSG00000214782.7',\n",
       "   'ENSG00000280827.1',\n",
       "   'ENSG00000207145.1',\n",
       "   'ENSG00000232355.2',\n",
       "   'ENSG00000106541.11',\n",
       "   'ENSG00000238622.1',\n",
       "   'ENSG00000216331.1',\n",
       "   'ENSG00000249599.1',\n",
       "   'ENSG00000222489.1',\n",
       "   'ENSG00000269032.1',\n",
       "   'ENSG00000278344.1',\n",
       "   'ENSG00000269900.3',\n",
       "   'ENSG00000256007.1',\n",
       "   'ENSG00000267059.2',\n",
       "   'ENSG00000199293.1',\n",
       "   'ENSG00000258377.1',\n",
       "   'ENSG00000243339.3',\n",
       "   'ENSG00000279064.1',\n",
       "   'ENSG00000264714.1',\n",
       "   'ENSG00000273464.1',\n",
       "   'ENSG00000252797.1',\n",
       "   'ENSG00000256034.1',\n",
       "   'ENSG00000274508.1',\n",
       "   'ENSG00000258128.2',\n",
       "   'ENSG00000246084.2',\n",
       "   'ENSG00000187268.11',\n",
       "   'ENSG00000232352.1',\n",
       "   'ENSG00000244383.1',\n",
       "   'ENSG00000004848.6',\n",
       "   'ENSG00000253227.1',\n",
       "   'ENSG00000260017.1',\n",
       "   'ENSG00000253821.1',\n",
       "   'ENSG00000276884.1',\n",
       "   'ENSG00000184809.12',\n",
       "   'ENSG00000211967.3',\n",
       "   'ENSG00000254985.1',\n",
       "   'ENSG00000257883.1',\n",
       "   'ENSG00000185523.6',\n",
       "   'ENSG00000261792.1',\n",
       "   'ENSG00000254089.1',\n",
       "   'ENSG00000232946.1',\n",
       "   'ENSG00000224899.1',\n",
       "   'ENSG00000241354.2',\n",
       "   'ENSG00000258282.2',\n",
       "   'ENSG00000264222.1',\n",
       "   'ENSG00000229436.1',\n",
       "   'ENSG00000012817.15',\n",
       "   'ENSG00000188765.7',\n",
       "   'ENSG00000115386.5',\n",
       "   'ENSG00000199804.1',\n",
       "   'ENSG00000235957.1',\n",
       "   'ENSG00000235902.1',\n",
       "   'ENSG00000282682.1',\n",
       "   'ENSG00000162840.4',\n",
       "   'ENSG00000230306.1',\n",
       "   'ENSG00000240373.1',\n",
       "   'ENSG00000206828.1',\n",
       "   'ENSG00000244301.5',\n",
       "   'ENSG00000262074.6',\n",
       "   'ENSG00000234648.1',\n",
       "   'ENSG00000242735.1',\n",
       "   'ENSG00000275611.1',\n",
       "   'ENSG00000228998.4',\n",
       "   'ENSG00000273019.1',\n",
       "   'ENSG00000274630.1',\n",
       "   'ENSG00000147588.6',\n",
       "   'ENSG00000282031.1',\n",
       "   'ENSG00000175535.6',\n",
       "   'ENSG00000129824.15',\n",
       "   'ENSG00000255513.1',\n",
       "   'ENSG00000142789.19',\n",
       "   'ENSG00000278144.1',\n",
       "   'ENSG00000249721.1',\n",
       "   'ENSG00000213058.3',\n",
       "   'ENSG00000243480.7',\n",
       "   'ENSG00000251008.1',\n",
       "   'ENSG00000239839.5',\n",
       "   'ENSG00000270066.3',\n",
       "   'ENSG00000200997.1',\n",
       "   'ENSG00000067048.16',\n",
       "   'ENSG00000118245.2'],\n",
       "  [0.017564821568195037,\n",
       "   0.013989810748192026,\n",
       "   0.00546051272010655,\n",
       "   0.005375974063668429,\n",
       "   0.004393199959148453,\n",
       "   0.003218317651680933,\n",
       "   0.0031763757582355993,\n",
       "   0.0016673677844791623,\n",
       "   0.0015996139613015318,\n",
       "   0.0012659020706486984,\n",
       "   0.0011482017334988935,\n",
       "   0.0011436045087644372,\n",
       "   0.0010939759071552037,\n",
       "   0.0009264331563229256,\n",
       "   0.0009174816273196783,\n",
       "   0.0008886143777509038,\n",
       "   0.0008422648749047906,\n",
       "   0.0005006938057163506,\n",
       "   0.0004110204810807027,\n",
       "   0.0003805786860156017,\n",
       "   0.0003457396248856394,\n",
       "   0.000327133250113739,\n",
       "   0.00030865307020732854,\n",
       "   0.00030394001761461397,\n",
       "   0.00026624824190918725,\n",
       "   0.0002516986206505543,\n",
       "   0.00022379562842953112,\n",
       "   0.00016391675785466496,\n",
       "   0.00015469731399236767,\n",
       "   0.0001483821332308223,\n",
       "   0.00012905656565213335,\n",
       "   0.00010199290931161637,\n",
       "   0.00010106046680438966,\n",
       "   7.109492916008128e-05,\n",
       "   4.8781158559464325e-05,\n",
       "   3.8241127950589545e-05,\n",
       "   7.797394404167305e-06,\n",
       "   0.0,\n",
       "   0.0,\n",
       "   0.0,\n",
       "   0.0,\n",
       "   0.0,\n",
       "   -0.0,\n",
       "   0.0,\n",
       "   -0.0,\n",
       "   -0.0,\n",
       "   0.0,\n",
       "   0.0,\n",
       "   0.0,\n",
       "   -0.0,\n",
       "   0.0,\n",
       "   0.0,\n",
       "   0.0,\n",
       "   0.0,\n",
       "   0.0,\n",
       "   -0.0,\n",
       "   -0.0,\n",
       "   0.0,\n",
       "   0.0,\n",
       "   0.0,\n",
       "   0.0,\n",
       "   0.0,\n",
       "   0.0,\n",
       "   -1.2791315956841772e-05,\n",
       "   -1.4407180188883855e-05,\n",
       "   -1.5847506215928705e-05,\n",
       "   -0.00011310139645412054,\n",
       "   -0.00012372970843492785,\n",
       "   -0.00014161635175847733,\n",
       "   -0.00015150566937089833,\n",
       "   -0.00019075680743809546,\n",
       "   -0.0002005824382907381,\n",
       "   -0.0003093679324661289,\n",
       "   -0.0003272366667285845,\n",
       "   -0.00035255291858531085,\n",
       "   -0.00037231198690455017,\n",
       "   -0.0003737053438394629,\n",
       "   -0.0004329138360089688,\n",
       "   -0.0004486853714969648,\n",
       "   -0.00044930964408881175,\n",
       "   -0.0005082799354708398,\n",
       "   -0.0005301513499890457,\n",
       "   -0.0006585094805666184,\n",
       "   -0.0007838734525006296,\n",
       "   -0.0008006645612458869,\n",
       "   -0.0009581915716921486,\n",
       "   -0.0010066297524063317,\n",
       "   -0.0011041287665244197,\n",
       "   -0.0011217354714463043,\n",
       "   -0.0011325165931168949,\n",
       "   -0.0011525353349631578,\n",
       "   -0.0011536027561871868,\n",
       "   -0.0011982754412540094,\n",
       "   -0.0021560212077702226,\n",
       "   -0.0021865023416410816,\n",
       "   -0.0031032472193146176,\n",
       "   -0.003811907643762831,\n",
       "   -0.004112947759349708,\n",
       "   -0.007211195938944868,\n",
       "   -0.007401104949533295]]}"
      ]
     },
     "execution_count": 42,
     "metadata": {},
     "output_type": "execute_result"
    }
   ],
   "source": [
    "def elastic_net(X_train_smote, y_train_res, X_test, y_test, random_state=1888, alpha=0.01, l1_ratio=0.5, n_features=100):\n",
    "    clf = ElasticNet(random_state=random_state, alpha=alpha, l1_ratio=l1_ratio)\n",
    "    clf.fit(X_train_smote, y_train_res)\n",
    "    \n",
    "    clf.pred = clf.predict(X_test)\n",
    "    \n",
    "    print(\"Accuracy of elastic net: {:.2f}\".format(clf.score(X_test, y_test)))\n",
    "    print(\"Elastic net mean squared error: {:.2f}\".format(mean_squared_error(y_test, clf.pred)))\n",
    "    \n",
    "    ft_imp = pd.DataFrame(clf.coef_, index=X_train_smote.columns)\n",
    "    ft_sort = ft_imp.sort_values(0, ascending=False)\n",
    "    imp_coef = pd.concat([ft_sort.head(int(n_features/2)), ft_sort.tail(int(n_features/2))])\n",
    "        \n",
    "    selected_features = imp_coef.index.tolist()\n",
    "    feature_importances = imp_coef.iloc[:,0].tolist()\n",
    "\n",
    "    dictionary = {\"Elastic Net\": [selected_features, feature_importances]}\n",
    "    \n",
    "    return dictionary \n",
    "\n",
    "elastic_net(X_train_smote, y_train_res, X_test, y_test, random_state=1888)"
   ]
  },
  {
   "cell_type": "markdown",
   "metadata": {},
   "source": [
    "### XGBoost"
   ]
  },
  {
   "cell_type": "code",
   "execution_count": 11,
   "metadata": {},
   "outputs": [],
   "source": [
    "from xgboost import XGBClassifier\n",
    "import os\n",
    "os.environ['KMP_DUPLICATE_LIB_OK']='True'"
   ]
  },
  {
   "cell_type": "code",
   "execution_count": 15,
   "metadata": {},
   "outputs": [
    {
     "name": "stdout",
     "output_type": "stream",
     "text": [
      "Fitting 5 folds for each of 48 candidates, totalling 240 fits\n",
      "[CV] colsample_bytree=0.4, learning_rate=0.01, max_depth=3, min_child_weight=1, seed=1888 \n"
     ]
    },
    {
     "name": "stderr",
     "output_type": "stream",
     "text": [
      "[Parallel(n_jobs=1)]: Using backend SequentialBackend with 1 concurrent workers.\n"
     ]
    },
    {
     "name": "stdout",
     "output_type": "stream",
     "text": [
      "[CV]  colsample_bytree=0.4, learning_rate=0.01, max_depth=3, min_child_weight=1, seed=1888, total=  24.3s\n",
      "[CV] colsample_bytree=0.4, learning_rate=0.01, max_depth=3, min_child_weight=1, seed=1888 \n"
     ]
    },
    {
     "name": "stderr",
     "output_type": "stream",
     "text": [
      "[Parallel(n_jobs=1)]: Done   1 out of   1 | elapsed:   25.1s remaining:    0.0s\n"
     ]
    },
    {
     "name": "stdout",
     "output_type": "stream",
     "text": [
      "[CV]  colsample_bytree=0.4, learning_rate=0.01, max_depth=3, min_child_weight=1, seed=1888, total=  27.8s\n",
      "[CV] colsample_bytree=0.4, learning_rate=0.01, max_depth=3, min_child_weight=1, seed=1888 \n",
      "[CV]  colsample_bytree=0.4, learning_rate=0.01, max_depth=3, min_child_weight=1, seed=1888, total=  25.5s\n",
      "[CV] colsample_bytree=0.4, learning_rate=0.01, max_depth=3, min_child_weight=1, seed=1888 \n",
      "[CV]  colsample_bytree=0.4, learning_rate=0.01, max_depth=3, min_child_weight=1, seed=1888, total=  24.1s\n",
      "[CV] colsample_bytree=0.4, learning_rate=0.01, max_depth=3, min_child_weight=1, seed=1888 \n",
      "[CV]  colsample_bytree=0.4, learning_rate=0.01, max_depth=3, min_child_weight=1, seed=1888, total=  25.5s\n",
      "[CV] colsample_bytree=0.4, learning_rate=0.01, max_depth=3, min_child_weight=3, seed=1888 \n",
      "[CV]  colsample_bytree=0.4, learning_rate=0.01, max_depth=3, min_child_weight=3, seed=1888, total=  21.2s\n",
      "[CV] colsample_bytree=0.4, learning_rate=0.01, max_depth=3, min_child_weight=3, seed=1888 \n",
      "[CV]  colsample_bytree=0.4, learning_rate=0.01, max_depth=3, min_child_weight=3, seed=1888, total=  20.2s\n",
      "[CV] colsample_bytree=0.4, learning_rate=0.01, max_depth=3, min_child_weight=3, seed=1888 \n",
      "[CV]  colsample_bytree=0.4, learning_rate=0.01, max_depth=3, min_child_weight=3, seed=1888, total=  22.3s\n",
      "[CV] colsample_bytree=0.4, learning_rate=0.01, max_depth=3, min_child_weight=3, seed=1888 \n",
      "[CV]  colsample_bytree=0.4, learning_rate=0.01, max_depth=3, min_child_weight=3, seed=1888, total=  23.4s\n",
      "[CV] colsample_bytree=0.4, learning_rate=0.01, max_depth=3, min_child_weight=3, seed=1888 \n",
      "[CV]  colsample_bytree=0.4, learning_rate=0.01, max_depth=3, min_child_weight=3, seed=1888, total=  23.6s\n",
      "[CV] colsample_bytree=0.4, learning_rate=0.01, max_depth=4, min_child_weight=1, seed=1888 \n",
      "[CV]  colsample_bytree=0.4, learning_rate=0.01, max_depth=4, min_child_weight=1, seed=1888, total=  25.2s\n",
      "[CV] colsample_bytree=0.4, learning_rate=0.01, max_depth=4, min_child_weight=1, seed=1888 \n",
      "[CV]  colsample_bytree=0.4, learning_rate=0.01, max_depth=4, min_child_weight=1, seed=1888, total=  24.3s\n",
      "[CV] colsample_bytree=0.4, learning_rate=0.01, max_depth=4, min_child_weight=1, seed=1888 \n",
      "[CV]  colsample_bytree=0.4, learning_rate=0.01, max_depth=4, min_child_weight=1, seed=1888, total=  24.3s\n",
      "[CV] colsample_bytree=0.4, learning_rate=0.01, max_depth=4, min_child_weight=1, seed=1888 \n",
      "[CV]  colsample_bytree=0.4, learning_rate=0.01, max_depth=4, min_child_weight=1, seed=1888, total=  23.7s\n",
      "[CV] colsample_bytree=0.4, learning_rate=0.01, max_depth=4, min_child_weight=1, seed=1888 \n",
      "[CV]  colsample_bytree=0.4, learning_rate=0.01, max_depth=4, min_child_weight=1, seed=1888, total=  24.4s\n",
      "[CV] colsample_bytree=0.4, learning_rate=0.01, max_depth=4, min_child_weight=3, seed=1888 \n",
      "[CV]  colsample_bytree=0.4, learning_rate=0.01, max_depth=4, min_child_weight=3, seed=1888, total=  22.7s\n",
      "[CV] colsample_bytree=0.4, learning_rate=0.01, max_depth=4, min_child_weight=3, seed=1888 \n",
      "[CV]  colsample_bytree=0.4, learning_rate=0.01, max_depth=4, min_child_weight=3, seed=1888, total=  21.3s\n",
      "[CV] colsample_bytree=0.4, learning_rate=0.01, max_depth=4, min_child_weight=3, seed=1888 \n",
      "[CV]  colsample_bytree=0.4, learning_rate=0.01, max_depth=4, min_child_weight=3, seed=1888, total=  21.4s\n",
      "[CV] colsample_bytree=0.4, learning_rate=0.01, max_depth=4, min_child_weight=3, seed=1888 \n",
      "[CV]  colsample_bytree=0.4, learning_rate=0.01, max_depth=4, min_child_weight=3, seed=1888, total=  20.9s\n",
      "[CV] colsample_bytree=0.4, learning_rate=0.01, max_depth=4, min_child_weight=3, seed=1888 \n",
      "[CV]  colsample_bytree=0.4, learning_rate=0.01, max_depth=4, min_child_weight=3, seed=1888, total=  25.3s\n",
      "[CV] colsample_bytree=0.4, learning_rate=0.01, max_depth=5, min_child_weight=1, seed=1888 \n",
      "[CV]  colsample_bytree=0.4, learning_rate=0.01, max_depth=5, min_child_weight=1, seed=1888, total=  26.4s\n",
      "[CV] colsample_bytree=0.4, learning_rate=0.01, max_depth=5, min_child_weight=1, seed=1888 \n",
      "[CV]  colsample_bytree=0.4, learning_rate=0.01, max_depth=5, min_child_weight=1, seed=1888, total=  25.2s\n",
      "[CV] colsample_bytree=0.4, learning_rate=0.01, max_depth=5, min_child_weight=1, seed=1888 \n",
      "[CV]  colsample_bytree=0.4, learning_rate=0.01, max_depth=5, min_child_weight=1, seed=1888, total=  24.4s\n",
      "[CV] colsample_bytree=0.4, learning_rate=0.01, max_depth=5, min_child_weight=1, seed=1888 \n",
      "[CV]  colsample_bytree=0.4, learning_rate=0.01, max_depth=5, min_child_weight=1, seed=1888, total=  25.0s\n",
      "[CV] colsample_bytree=0.4, learning_rate=0.01, max_depth=5, min_child_weight=1, seed=1888 \n",
      "[CV]  colsample_bytree=0.4, learning_rate=0.01, max_depth=5, min_child_weight=1, seed=1888, total=  24.0s\n",
      "[CV] colsample_bytree=0.4, learning_rate=0.01, max_depth=5, min_child_weight=3, seed=1888 \n",
      "[CV]  colsample_bytree=0.4, learning_rate=0.01, max_depth=5, min_child_weight=3, seed=1888, total=  24.5s\n",
      "[CV] colsample_bytree=0.4, learning_rate=0.01, max_depth=5, min_child_weight=3, seed=1888 \n",
      "[CV]  colsample_bytree=0.4, learning_rate=0.01, max_depth=5, min_child_weight=3, seed=1888, total=  20.6s\n",
      "[CV] colsample_bytree=0.4, learning_rate=0.01, max_depth=5, min_child_weight=3, seed=1888 \n",
      "[CV]  colsample_bytree=0.4, learning_rate=0.01, max_depth=5, min_child_weight=3, seed=1888, total=  20.7s\n",
      "[CV] colsample_bytree=0.4, learning_rate=0.01, max_depth=5, min_child_weight=3, seed=1888 \n",
      "[CV]  colsample_bytree=0.4, learning_rate=0.01, max_depth=5, min_child_weight=3, seed=1888, total=  20.1s\n",
      "[CV] colsample_bytree=0.4, learning_rate=0.01, max_depth=5, min_child_weight=3, seed=1888 \n",
      "[CV]  colsample_bytree=0.4, learning_rate=0.01, max_depth=5, min_child_weight=3, seed=1888, total=  23.4s\n",
      "[CV] colsample_bytree=0.4, learning_rate=0.01, max_depth=7, min_child_weight=1, seed=1888 \n",
      "[CV]  colsample_bytree=0.4, learning_rate=0.01, max_depth=7, min_child_weight=1, seed=1888, total=  24.4s\n",
      "[CV] colsample_bytree=0.4, learning_rate=0.01, max_depth=7, min_child_weight=1, seed=1888 \n",
      "[CV]  colsample_bytree=0.4, learning_rate=0.01, max_depth=7, min_child_weight=1, seed=1888, total=  25.1s\n",
      "[CV] colsample_bytree=0.4, learning_rate=0.01, max_depth=7, min_child_weight=1, seed=1888 \n",
      "[CV]  colsample_bytree=0.4, learning_rate=0.01, max_depth=7, min_child_weight=1, seed=1888, total=  24.9s\n",
      "[CV] colsample_bytree=0.4, learning_rate=0.01, max_depth=7, min_child_weight=1, seed=1888 \n",
      "[CV]  colsample_bytree=0.4, learning_rate=0.01, max_depth=7, min_child_weight=1, seed=1888, total=  27.8s\n",
      "[CV] colsample_bytree=0.4, learning_rate=0.01, max_depth=7, min_child_weight=1, seed=1888 \n",
      "[CV]  colsample_bytree=0.4, learning_rate=0.01, max_depth=7, min_child_weight=1, seed=1888, total=  28.9s\n",
      "[CV] colsample_bytree=0.4, learning_rate=0.01, max_depth=7, min_child_weight=3, seed=1888 \n",
      "[CV]  colsample_bytree=0.4, learning_rate=0.01, max_depth=7, min_child_weight=3, seed=1888, total=  25.9s\n",
      "[CV] colsample_bytree=0.4, learning_rate=0.01, max_depth=7, min_child_weight=3, seed=1888 \n",
      "[CV]  colsample_bytree=0.4, learning_rate=0.01, max_depth=7, min_child_weight=3, seed=1888, total=  26.0s\n",
      "[CV] colsample_bytree=0.4, learning_rate=0.01, max_depth=7, min_child_weight=3, seed=1888 \n",
      "[CV]  colsample_bytree=0.4, learning_rate=0.01, max_depth=7, min_child_weight=3, seed=1888, total=  27.7s\n",
      "[CV] colsample_bytree=0.4, learning_rate=0.01, max_depth=7, min_child_weight=3, seed=1888 \n",
      "[CV]  colsample_bytree=0.4, learning_rate=0.01, max_depth=7, min_child_weight=3, seed=1888, total=  21.2s\n",
      "[CV] colsample_bytree=0.4, learning_rate=0.01, max_depth=7, min_child_weight=3, seed=1888 \n",
      "[CV]  colsample_bytree=0.4, learning_rate=0.01, max_depth=7, min_child_weight=3, seed=1888, total=  23.3s\n",
      "[CV] colsample_bytree=0.4, learning_rate=0.05, max_depth=3, min_child_weight=1, seed=1888 \n",
      "[CV]  colsample_bytree=0.4, learning_rate=0.05, max_depth=3, min_child_weight=1, seed=1888, total=  20.4s\n",
      "[CV] colsample_bytree=0.4, learning_rate=0.05, max_depth=3, min_child_weight=1, seed=1888 \n",
      "[CV]  colsample_bytree=0.4, learning_rate=0.05, max_depth=3, min_child_weight=1, seed=1888, total=  20.2s\n",
      "[CV] colsample_bytree=0.4, learning_rate=0.05, max_depth=3, min_child_weight=1, seed=1888 \n",
      "[CV]  colsample_bytree=0.4, learning_rate=0.05, max_depth=3, min_child_weight=1, seed=1888, total=  20.9s\n",
      "[CV] colsample_bytree=0.4, learning_rate=0.05, max_depth=3, min_child_weight=1, seed=1888 \n",
      "[CV]  colsample_bytree=0.4, learning_rate=0.05, max_depth=3, min_child_weight=1, seed=1888, total=  20.3s\n",
      "[CV] colsample_bytree=0.4, learning_rate=0.05, max_depth=3, min_child_weight=1, seed=1888 \n",
      "[CV]  colsample_bytree=0.4, learning_rate=0.05, max_depth=3, min_child_weight=1, seed=1888, total=  22.8s\n",
      "[CV] colsample_bytree=0.4, learning_rate=0.05, max_depth=3, min_child_weight=3, seed=1888 \n",
      "[CV]  colsample_bytree=0.4, learning_rate=0.05, max_depth=3, min_child_weight=3, seed=1888, total=  18.3s\n",
      "[CV] colsample_bytree=0.4, learning_rate=0.05, max_depth=3, min_child_weight=3, seed=1888 \n",
      "[CV]  colsample_bytree=0.4, learning_rate=0.05, max_depth=3, min_child_weight=3, seed=1888, total=  18.2s\n",
      "[CV] colsample_bytree=0.4, learning_rate=0.05, max_depth=3, min_child_weight=3, seed=1888 \n",
      "[CV]  colsample_bytree=0.4, learning_rate=0.05, max_depth=3, min_child_weight=3, seed=1888, total=  18.7s\n",
      "[CV] colsample_bytree=0.4, learning_rate=0.05, max_depth=3, min_child_weight=3, seed=1888 \n",
      "[CV]  colsample_bytree=0.4, learning_rate=0.05, max_depth=3, min_child_weight=3, seed=1888, total=  17.6s\n",
      "[CV] colsample_bytree=0.4, learning_rate=0.05, max_depth=3, min_child_weight=3, seed=1888 \n",
      "[CV]  colsample_bytree=0.4, learning_rate=0.05, max_depth=3, min_child_weight=3, seed=1888, total=  20.3s\n",
      "[CV] colsample_bytree=0.4, learning_rate=0.05, max_depth=4, min_child_weight=1, seed=1888 \n",
      "[CV]  colsample_bytree=0.4, learning_rate=0.05, max_depth=4, min_child_weight=1, seed=1888, total=  21.0s\n",
      "[CV] colsample_bytree=0.4, learning_rate=0.05, max_depth=4, min_child_weight=1, seed=1888 \n",
      "[CV]  colsample_bytree=0.4, learning_rate=0.05, max_depth=4, min_child_weight=1, seed=1888, total=  21.1s\n",
      "[CV] colsample_bytree=0.4, learning_rate=0.05, max_depth=4, min_child_weight=1, seed=1888 \n",
      "[CV]  colsample_bytree=0.4, learning_rate=0.05, max_depth=4, min_child_weight=1, seed=1888, total=  20.5s\n",
      "[CV] colsample_bytree=0.4, learning_rate=0.05, max_depth=4, min_child_weight=1, seed=1888 \n",
      "[CV]  colsample_bytree=0.4, learning_rate=0.05, max_depth=4, min_child_weight=1, seed=1888, total=  19.8s\n",
      "[CV] colsample_bytree=0.4, learning_rate=0.05, max_depth=4, min_child_weight=1, seed=1888 \n",
      "[CV]  colsample_bytree=0.4, learning_rate=0.05, max_depth=4, min_child_weight=1, seed=1888, total=  21.3s\n",
      "[CV] colsample_bytree=0.4, learning_rate=0.05, max_depth=4, min_child_weight=3, seed=1888 \n",
      "[CV]  colsample_bytree=0.4, learning_rate=0.05, max_depth=4, min_child_weight=3, seed=1888, total=  19.1s\n",
      "[CV] colsample_bytree=0.4, learning_rate=0.05, max_depth=4, min_child_weight=3, seed=1888 \n",
      "[CV]  colsample_bytree=0.4, learning_rate=0.05, max_depth=4, min_child_weight=3, seed=1888, total=  18.0s\n",
      "[CV] colsample_bytree=0.4, learning_rate=0.05, max_depth=4, min_child_weight=3, seed=1888 \n",
      "[CV]  colsample_bytree=0.4, learning_rate=0.05, max_depth=4, min_child_weight=3, seed=1888, total=  20.4s\n",
      "[CV] colsample_bytree=0.4, learning_rate=0.05, max_depth=4, min_child_weight=3, seed=1888 \n",
      "[CV]  colsample_bytree=0.4, learning_rate=0.05, max_depth=4, min_child_weight=3, seed=1888, total=  21.4s\n",
      "[CV] colsample_bytree=0.4, learning_rate=0.05, max_depth=4, min_child_weight=3, seed=1888 \n",
      "[CV]  colsample_bytree=0.4, learning_rate=0.05, max_depth=4, min_child_weight=3, seed=1888, total=  22.9s\n",
      "[CV] colsample_bytree=0.4, learning_rate=0.05, max_depth=5, min_child_weight=1, seed=1888 \n",
      "[CV]  colsample_bytree=0.4, learning_rate=0.05, max_depth=5, min_child_weight=1, seed=1888, total=  22.0s\n",
      "[CV] colsample_bytree=0.4, learning_rate=0.05, max_depth=5, min_child_weight=1, seed=1888 \n",
      "[CV]  colsample_bytree=0.4, learning_rate=0.05, max_depth=5, min_child_weight=1, seed=1888, total=  22.2s\n",
      "[CV] colsample_bytree=0.4, learning_rate=0.05, max_depth=5, min_child_weight=1, seed=1888 \n",
      "[CV]  colsample_bytree=0.4, learning_rate=0.05, max_depth=5, min_child_weight=1, seed=1888, total=  22.2s\n",
      "[CV] colsample_bytree=0.4, learning_rate=0.05, max_depth=5, min_child_weight=1, seed=1888 \n",
      "[CV]  colsample_bytree=0.4, learning_rate=0.05, max_depth=5, min_child_weight=1, seed=1888, total=  19.9s\n",
      "[CV] colsample_bytree=0.4, learning_rate=0.05, max_depth=5, min_child_weight=1, seed=1888 \n",
      "[CV]  colsample_bytree=0.4, learning_rate=0.05, max_depth=5, min_child_weight=1, seed=1888, total=  21.2s\n",
      "[CV] colsample_bytree=0.4, learning_rate=0.05, max_depth=5, min_child_weight=3, seed=1888 \n",
      "[CV]  colsample_bytree=0.4, learning_rate=0.05, max_depth=5, min_child_weight=3, seed=1888, total=  18.6s\n",
      "[CV] colsample_bytree=0.4, learning_rate=0.05, max_depth=5, min_child_weight=3, seed=1888 \n",
      "[CV]  colsample_bytree=0.4, learning_rate=0.05, max_depth=5, min_child_weight=3, seed=1888, total=  17.7s\n",
      "[CV] colsample_bytree=0.4, learning_rate=0.05, max_depth=5, min_child_weight=3, seed=1888 \n",
      "[CV]  colsample_bytree=0.4, learning_rate=0.05, max_depth=5, min_child_weight=3, seed=1888, total=  18.0s\n",
      "[CV] colsample_bytree=0.4, learning_rate=0.05, max_depth=5, min_child_weight=3, seed=1888 \n",
      "[CV]  colsample_bytree=0.4, learning_rate=0.05, max_depth=5, min_child_weight=3, seed=1888, total=  17.3s\n",
      "[CV] colsample_bytree=0.4, learning_rate=0.05, max_depth=5, min_child_weight=3, seed=1888 \n",
      "[CV]  colsample_bytree=0.4, learning_rate=0.05, max_depth=5, min_child_weight=3, seed=1888, total=  18.5s\n",
      "[CV] colsample_bytree=0.4, learning_rate=0.05, max_depth=7, min_child_weight=1, seed=1888 \n",
      "[CV]  colsample_bytree=0.4, learning_rate=0.05, max_depth=7, min_child_weight=1, seed=1888, total=  21.2s\n",
      "[CV] colsample_bytree=0.4, learning_rate=0.05, max_depth=7, min_child_weight=1, seed=1888 \n",
      "[CV]  colsample_bytree=0.4, learning_rate=0.05, max_depth=7, min_child_weight=1, seed=1888, total=  20.0s\n",
      "[CV] colsample_bytree=0.4, learning_rate=0.05, max_depth=7, min_child_weight=1, seed=1888 \n",
      "[CV]  colsample_bytree=0.4, learning_rate=0.05, max_depth=7, min_child_weight=1, seed=1888, total=  20.6s\n",
      "[CV] colsample_bytree=0.4, learning_rate=0.05, max_depth=7, min_child_weight=1, seed=1888 \n",
      "[CV]  colsample_bytree=0.4, learning_rate=0.05, max_depth=7, min_child_weight=1, seed=1888, total=  19.9s\n",
      "[CV] colsample_bytree=0.4, learning_rate=0.05, max_depth=7, min_child_weight=1, seed=1888 \n",
      "[CV]  colsample_bytree=0.4, learning_rate=0.05, max_depth=7, min_child_weight=1, seed=1888, total=  22.2s\n",
      "[CV] colsample_bytree=0.4, learning_rate=0.05, max_depth=7, min_child_weight=3, seed=1888 \n",
      "[CV]  colsample_bytree=0.4, learning_rate=0.05, max_depth=7, min_child_weight=3, seed=1888, total=  19.7s\n",
      "[CV] colsample_bytree=0.4, learning_rate=0.05, max_depth=7, min_child_weight=3, seed=1888 \n",
      "[CV]  colsample_bytree=0.4, learning_rate=0.05, max_depth=7, min_child_weight=3, seed=1888, total=  17.7s\n",
      "[CV] colsample_bytree=0.4, learning_rate=0.05, max_depth=7, min_child_weight=3, seed=1888 \n",
      "[CV]  colsample_bytree=0.4, learning_rate=0.05, max_depth=7, min_child_weight=3, seed=1888, total=  18.4s\n",
      "[CV] colsample_bytree=0.4, learning_rate=0.05, max_depth=7, min_child_weight=3, seed=1888 \n",
      "[CV]  colsample_bytree=0.4, learning_rate=0.05, max_depth=7, min_child_weight=3, seed=1888, total=  18.5s\n",
      "[CV] colsample_bytree=0.4, learning_rate=0.05, max_depth=7, min_child_weight=3, seed=1888 \n",
      "[CV]  colsample_bytree=0.4, learning_rate=0.05, max_depth=7, min_child_weight=3, seed=1888, total=  18.4s\n",
      "[CV] colsample_bytree=0.5, learning_rate=0.01, max_depth=3, min_child_weight=1, seed=1888 \n",
      "[CV]  colsample_bytree=0.5, learning_rate=0.01, max_depth=3, min_child_weight=1, seed=1888, total=  28.2s\n",
      "[CV] colsample_bytree=0.5, learning_rate=0.01, max_depth=3, min_child_weight=1, seed=1888 \n",
      "[CV]  colsample_bytree=0.5, learning_rate=0.01, max_depth=3, min_child_weight=1, seed=1888, total=  28.7s\n",
      "[CV] colsample_bytree=0.5, learning_rate=0.01, max_depth=3, min_child_weight=1, seed=1888 \n",
      "[CV]  colsample_bytree=0.5, learning_rate=0.01, max_depth=3, min_child_weight=1, seed=1888, total=  29.6s\n",
      "[CV] colsample_bytree=0.5, learning_rate=0.01, max_depth=3, min_child_weight=1, seed=1888 \n",
      "[CV]  colsample_bytree=0.5, learning_rate=0.01, max_depth=3, min_child_weight=1, seed=1888, total=  31.1s\n",
      "[CV] colsample_bytree=0.5, learning_rate=0.01, max_depth=3, min_child_weight=1, seed=1888 \n",
      "[CV]  colsample_bytree=0.5, learning_rate=0.01, max_depth=3, min_child_weight=1, seed=1888, total=  30.9s\n",
      "[CV] colsample_bytree=0.5, learning_rate=0.01, max_depth=3, min_child_weight=3, seed=1888 \n",
      "[CV]  colsample_bytree=0.5, learning_rate=0.01, max_depth=3, min_child_weight=3, seed=1888, total=  28.3s\n",
      "[CV] colsample_bytree=0.5, learning_rate=0.01, max_depth=3, min_child_weight=3, seed=1888 \n",
      "[CV]  colsample_bytree=0.5, learning_rate=0.01, max_depth=3, min_child_weight=3, seed=1888, total=  27.5s\n",
      "[CV] colsample_bytree=0.5, learning_rate=0.01, max_depth=3, min_child_weight=3, seed=1888 \n",
      "[CV]  colsample_bytree=0.5, learning_rate=0.01, max_depth=3, min_child_weight=3, seed=1888, total=  27.4s\n",
      "[CV] colsample_bytree=0.5, learning_rate=0.01, max_depth=3, min_child_weight=3, seed=1888 \n",
      "[CV]  colsample_bytree=0.5, learning_rate=0.01, max_depth=3, min_child_weight=3, seed=1888, total=  26.5s\n",
      "[CV] colsample_bytree=0.5, learning_rate=0.01, max_depth=3, min_child_weight=3, seed=1888 \n",
      "[CV]  colsample_bytree=0.5, learning_rate=0.01, max_depth=3, min_child_weight=3, seed=1888, total=  32.2s\n",
      "[CV] colsample_bytree=0.5, learning_rate=0.01, max_depth=4, min_child_weight=1, seed=1888 \n",
      "[CV]  colsample_bytree=0.5, learning_rate=0.01, max_depth=4, min_child_weight=1, seed=1888, total=  35.9s\n",
      "[CV] colsample_bytree=0.5, learning_rate=0.01, max_depth=4, min_child_weight=1, seed=1888 \n",
      "[CV]  colsample_bytree=0.5, learning_rate=0.01, max_depth=4, min_child_weight=1, seed=1888, total=  36.2s\n",
      "[CV] colsample_bytree=0.5, learning_rate=0.01, max_depth=4, min_child_weight=1, seed=1888 \n",
      "[CV]  colsample_bytree=0.5, learning_rate=0.01, max_depth=4, min_child_weight=1, seed=1888, total=  36.6s\n",
      "[CV] colsample_bytree=0.5, learning_rate=0.01, max_depth=4, min_child_weight=1, seed=1888 \n",
      "[CV]  colsample_bytree=0.5, learning_rate=0.01, max_depth=4, min_child_weight=1, seed=1888, total=  40.2s\n",
      "[CV] colsample_bytree=0.5, learning_rate=0.01, max_depth=4, min_child_weight=1, seed=1888 \n",
      "[CV]  colsample_bytree=0.5, learning_rate=0.01, max_depth=4, min_child_weight=1, seed=1888, total=  31.8s\n",
      "[CV] colsample_bytree=0.5, learning_rate=0.01, max_depth=4, min_child_weight=3, seed=1888 \n",
      "[CV]  colsample_bytree=0.5, learning_rate=0.01, max_depth=4, min_child_weight=3, seed=1888, total=  30.4s\n",
      "[CV] colsample_bytree=0.5, learning_rate=0.01, max_depth=4, min_child_weight=3, seed=1888 \n",
      "[CV]  colsample_bytree=0.5, learning_rate=0.01, max_depth=4, min_child_weight=3, seed=1888, total=  25.0s\n",
      "[CV] colsample_bytree=0.5, learning_rate=0.01, max_depth=4, min_child_weight=3, seed=1888 \n",
      "[CV]  colsample_bytree=0.5, learning_rate=0.01, max_depth=4, min_child_weight=3, seed=1888, total=  27.2s\n",
      "[CV] colsample_bytree=0.5, learning_rate=0.01, max_depth=4, min_child_weight=3, seed=1888 \n",
      "[CV]  colsample_bytree=0.5, learning_rate=0.01, max_depth=4, min_child_weight=3, seed=1888, total=  25.1s\n",
      "[CV] colsample_bytree=0.5, learning_rate=0.01, max_depth=4, min_child_weight=3, seed=1888 \n",
      "[CV]  colsample_bytree=0.5, learning_rate=0.01, max_depth=4, min_child_weight=3, seed=1888, total=  27.9s\n",
      "[CV] colsample_bytree=0.5, learning_rate=0.01, max_depth=5, min_child_weight=1, seed=1888 \n",
      "[CV]  colsample_bytree=0.5, learning_rate=0.01, max_depth=5, min_child_weight=1, seed=1888, total=  28.8s\n",
      "[CV] colsample_bytree=0.5, learning_rate=0.01, max_depth=5, min_child_weight=1, seed=1888 \n",
      "[CV]  colsample_bytree=0.5, learning_rate=0.01, max_depth=5, min_child_weight=1, seed=1888, total=  29.3s\n",
      "[CV] colsample_bytree=0.5, learning_rate=0.01, max_depth=5, min_child_weight=1, seed=1888 \n",
      "[CV]  colsample_bytree=0.5, learning_rate=0.01, max_depth=5, min_child_weight=1, seed=1888, total=  28.4s\n",
      "[CV] colsample_bytree=0.5, learning_rate=0.01, max_depth=5, min_child_weight=1, seed=1888 \n",
      "[CV]  colsample_bytree=0.5, learning_rate=0.01, max_depth=5, min_child_weight=1, seed=1888, total=  29.4s\n",
      "[CV] colsample_bytree=0.5, learning_rate=0.01, max_depth=5, min_child_weight=1, seed=1888 \n",
      "[CV]  colsample_bytree=0.5, learning_rate=0.01, max_depth=5, min_child_weight=1, seed=1888, total=  29.3s\n",
      "[CV] colsample_bytree=0.5, learning_rate=0.01, max_depth=5, min_child_weight=3, seed=1888 \n",
      "[CV]  colsample_bytree=0.5, learning_rate=0.01, max_depth=5, min_child_weight=3, seed=1888, total=  26.1s\n",
      "[CV] colsample_bytree=0.5, learning_rate=0.01, max_depth=5, min_child_weight=3, seed=1888 \n",
      "[CV]  colsample_bytree=0.5, learning_rate=0.01, max_depth=5, min_child_weight=3, seed=1888, total=  24.3s\n",
      "[CV] colsample_bytree=0.5, learning_rate=0.01, max_depth=5, min_child_weight=3, seed=1888 \n",
      "[CV]  colsample_bytree=0.5, learning_rate=0.01, max_depth=5, min_child_weight=3, seed=1888, total=  26.9s\n",
      "[CV] colsample_bytree=0.5, learning_rate=0.01, max_depth=5, min_child_weight=3, seed=1888 \n",
      "[CV]  colsample_bytree=0.5, learning_rate=0.01, max_depth=5, min_child_weight=3, seed=1888, total=  25.0s\n",
      "[CV] colsample_bytree=0.5, learning_rate=0.01, max_depth=5, min_child_weight=3, seed=1888 \n",
      "[CV]  colsample_bytree=0.5, learning_rate=0.01, max_depth=5, min_child_weight=3, seed=1888, total=  28.3s\n",
      "[CV] colsample_bytree=0.5, learning_rate=0.01, max_depth=7, min_child_weight=1, seed=1888 \n",
      "[CV]  colsample_bytree=0.5, learning_rate=0.01, max_depth=7, min_child_weight=1, seed=1888, total=  29.0s\n",
      "[CV] colsample_bytree=0.5, learning_rate=0.01, max_depth=7, min_child_weight=1, seed=1888 \n",
      "[CV]  colsample_bytree=0.5, learning_rate=0.01, max_depth=7, min_child_weight=1, seed=1888, total=  30.4s\n",
      "[CV] colsample_bytree=0.5, learning_rate=0.01, max_depth=7, min_child_weight=1, seed=1888 \n",
      "[CV]  colsample_bytree=0.5, learning_rate=0.01, max_depth=7, min_child_weight=1, seed=1888, total=  31.2s\n",
      "[CV] colsample_bytree=0.5, learning_rate=0.01, max_depth=7, min_child_weight=1, seed=1888 \n",
      "[CV]  colsample_bytree=0.5, learning_rate=0.01, max_depth=7, min_child_weight=1, seed=1888, total=  30.0s\n",
      "[CV] colsample_bytree=0.5, learning_rate=0.01, max_depth=7, min_child_weight=1, seed=1888 \n",
      "[CV]  colsample_bytree=0.5, learning_rate=0.01, max_depth=7, min_child_weight=1, seed=1888, total=  29.1s\n",
      "[CV] colsample_bytree=0.5, learning_rate=0.01, max_depth=7, min_child_weight=3, seed=1888 \n",
      "[CV]  colsample_bytree=0.5, learning_rate=0.01, max_depth=7, min_child_weight=3, seed=1888, total=  26.7s\n",
      "[CV] colsample_bytree=0.5, learning_rate=0.01, max_depth=7, min_child_weight=3, seed=1888 \n",
      "[CV]  colsample_bytree=0.5, learning_rate=0.01, max_depth=7, min_child_weight=3, seed=1888, total=  24.4s\n",
      "[CV] colsample_bytree=0.5, learning_rate=0.01, max_depth=7, min_child_weight=3, seed=1888 \n",
      "[CV]  colsample_bytree=0.5, learning_rate=0.01, max_depth=7, min_child_weight=3, seed=1888, total=  26.1s\n",
      "[CV] colsample_bytree=0.5, learning_rate=0.01, max_depth=7, min_child_weight=3, seed=1888 \n",
      "[CV]  colsample_bytree=0.5, learning_rate=0.01, max_depth=7, min_child_weight=3, seed=1888, total=  24.4s\n",
      "[CV] colsample_bytree=0.5, learning_rate=0.01, max_depth=7, min_child_weight=3, seed=1888 \n",
      "[CV]  colsample_bytree=0.5, learning_rate=0.01, max_depth=7, min_child_weight=3, seed=1888, total=  28.5s\n",
      "[CV] colsample_bytree=0.5, learning_rate=0.05, max_depth=3, min_child_weight=1, seed=1888 \n",
      "[CV]  colsample_bytree=0.5, learning_rate=0.05, max_depth=3, min_child_weight=1, seed=1888, total=  26.0s\n",
      "[CV] colsample_bytree=0.5, learning_rate=0.05, max_depth=3, min_child_weight=1, seed=1888 \n",
      "[CV]  colsample_bytree=0.5, learning_rate=0.05, max_depth=3, min_child_weight=1, seed=1888, total=  25.5s\n",
      "[CV] colsample_bytree=0.5, learning_rate=0.05, max_depth=3, min_child_weight=1, seed=1888 \n",
      "[CV]  colsample_bytree=0.5, learning_rate=0.05, max_depth=3, min_child_weight=1, seed=1888, total=  25.4s\n",
      "[CV] colsample_bytree=0.5, learning_rate=0.05, max_depth=3, min_child_weight=1, seed=1888 \n",
      "[CV]  colsample_bytree=0.5, learning_rate=0.05, max_depth=3, min_child_weight=1, seed=1888, total=  27.5s\n",
      "[CV] colsample_bytree=0.5, learning_rate=0.05, max_depth=3, min_child_weight=1, seed=1888 \n",
      "[CV]  colsample_bytree=0.5, learning_rate=0.05, max_depth=3, min_child_weight=1, seed=1888, total=  27.5s\n",
      "[CV] colsample_bytree=0.5, learning_rate=0.05, max_depth=3, min_child_weight=3, seed=1888 \n",
      "[CV]  colsample_bytree=0.5, learning_rate=0.05, max_depth=3, min_child_weight=3, seed=1888, total=  24.6s\n",
      "[CV] colsample_bytree=0.5, learning_rate=0.05, max_depth=3, min_child_weight=3, seed=1888 \n",
      "[CV]  colsample_bytree=0.5, learning_rate=0.05, max_depth=3, min_child_weight=3, seed=1888, total=  22.1s\n",
      "[CV] colsample_bytree=0.5, learning_rate=0.05, max_depth=3, min_child_weight=3, seed=1888 \n",
      "[CV]  colsample_bytree=0.5, learning_rate=0.05, max_depth=3, min_child_weight=3, seed=1888, total=  23.5s\n",
      "[CV] colsample_bytree=0.5, learning_rate=0.05, max_depth=3, min_child_weight=3, seed=1888 \n",
      "[CV]  colsample_bytree=0.5, learning_rate=0.05, max_depth=3, min_child_weight=3, seed=1888, total=  22.7s\n",
      "[CV] colsample_bytree=0.5, learning_rate=0.05, max_depth=3, min_child_weight=3, seed=1888 \n",
      "[CV]  colsample_bytree=0.5, learning_rate=0.05, max_depth=3, min_child_weight=3, seed=1888, total=  22.9s\n",
      "[CV] colsample_bytree=0.5, learning_rate=0.05, max_depth=4, min_child_weight=1, seed=1888 \n",
      "[CV]  colsample_bytree=0.5, learning_rate=0.05, max_depth=4, min_child_weight=1, seed=1888, total=  25.8s\n",
      "[CV] colsample_bytree=0.5, learning_rate=0.05, max_depth=4, min_child_weight=1, seed=1888 \n",
      "[CV]  colsample_bytree=0.5, learning_rate=0.05, max_depth=4, min_child_weight=1, seed=1888, total=  26.3s\n",
      "[CV] colsample_bytree=0.5, learning_rate=0.05, max_depth=4, min_child_weight=1, seed=1888 \n",
      "[CV]  colsample_bytree=0.5, learning_rate=0.05, max_depth=4, min_child_weight=1, seed=1888, total=  25.4s\n",
      "[CV] colsample_bytree=0.5, learning_rate=0.05, max_depth=4, min_child_weight=1, seed=1888 \n",
      "[CV]  colsample_bytree=0.5, learning_rate=0.05, max_depth=4, min_child_weight=1, seed=1888, total=  25.7s\n",
      "[CV] colsample_bytree=0.5, learning_rate=0.05, max_depth=4, min_child_weight=1, seed=1888 \n",
      "[CV]  colsample_bytree=0.5, learning_rate=0.05, max_depth=4, min_child_weight=1, seed=1888, total=  26.3s\n",
      "[CV] colsample_bytree=0.5, learning_rate=0.05, max_depth=4, min_child_weight=3, seed=1888 \n",
      "[CV]  colsample_bytree=0.5, learning_rate=0.05, max_depth=4, min_child_weight=3, seed=1888, total=  22.3s\n",
      "[CV] colsample_bytree=0.5, learning_rate=0.05, max_depth=4, min_child_weight=3, seed=1888 \n",
      "[CV]  colsample_bytree=0.5, learning_rate=0.05, max_depth=4, min_child_weight=3, seed=1888, total=  21.1s\n",
      "[CV] colsample_bytree=0.5, learning_rate=0.05, max_depth=4, min_child_weight=3, seed=1888 \n",
      "[CV]  colsample_bytree=0.5, learning_rate=0.05, max_depth=4, min_child_weight=3, seed=1888, total=  22.7s\n",
      "[CV] colsample_bytree=0.5, learning_rate=0.05, max_depth=4, min_child_weight=3, seed=1888 \n",
      "[CV]  colsample_bytree=0.5, learning_rate=0.05, max_depth=4, min_child_weight=3, seed=1888, total=  21.7s\n",
      "[CV] colsample_bytree=0.5, learning_rate=0.05, max_depth=4, min_child_weight=3, seed=1888 \n",
      "[CV]  colsample_bytree=0.5, learning_rate=0.05, max_depth=4, min_child_weight=3, seed=1888, total=  22.7s\n",
      "[CV] colsample_bytree=0.5, learning_rate=0.05, max_depth=5, min_child_weight=1, seed=1888 \n",
      "[CV]  colsample_bytree=0.5, learning_rate=0.05, max_depth=5, min_child_weight=1, seed=1888, total=  26.1s\n",
      "[CV] colsample_bytree=0.5, learning_rate=0.05, max_depth=5, min_child_weight=1, seed=1888 \n",
      "[CV]  colsample_bytree=0.5, learning_rate=0.05, max_depth=5, min_child_weight=1, seed=1888, total=  25.5s\n",
      "[CV] colsample_bytree=0.5, learning_rate=0.05, max_depth=5, min_child_weight=1, seed=1888 \n",
      "[CV]  colsample_bytree=0.5, learning_rate=0.05, max_depth=5, min_child_weight=1, seed=1888, total=  27.4s\n",
      "[CV] colsample_bytree=0.5, learning_rate=0.05, max_depth=5, min_child_weight=1, seed=1888 \n",
      "[CV]  colsample_bytree=0.5, learning_rate=0.05, max_depth=5, min_child_weight=1, seed=1888, total=  26.5s\n",
      "[CV] colsample_bytree=0.5, learning_rate=0.05, max_depth=5, min_child_weight=1, seed=1888 \n",
      "[CV]  colsample_bytree=0.5, learning_rate=0.05, max_depth=5, min_child_weight=1, seed=1888, total=  26.8s\n",
      "[CV] colsample_bytree=0.5, learning_rate=0.05, max_depth=5, min_child_weight=3, seed=1888 \n",
      "[CV]  colsample_bytree=0.5, learning_rate=0.05, max_depth=5, min_child_weight=3, seed=1888, total=  22.8s\n",
      "[CV] colsample_bytree=0.5, learning_rate=0.05, max_depth=5, min_child_weight=3, seed=1888 \n",
      "[CV]  colsample_bytree=0.5, learning_rate=0.05, max_depth=5, min_child_weight=3, seed=1888, total=  22.0s\n",
      "[CV] colsample_bytree=0.5, learning_rate=0.05, max_depth=5, min_child_weight=3, seed=1888 \n",
      "[CV]  colsample_bytree=0.5, learning_rate=0.05, max_depth=5, min_child_weight=3, seed=1888, total=  22.8s\n",
      "[CV] colsample_bytree=0.5, learning_rate=0.05, max_depth=5, min_child_weight=3, seed=1888 \n",
      "[CV]  colsample_bytree=0.5, learning_rate=0.05, max_depth=5, min_child_weight=3, seed=1888, total=  21.0s\n",
      "[CV] colsample_bytree=0.5, learning_rate=0.05, max_depth=5, min_child_weight=3, seed=1888 \n",
      "[CV]  colsample_bytree=0.5, learning_rate=0.05, max_depth=5, min_child_weight=3, seed=1888, total=  22.6s\n",
      "[CV] colsample_bytree=0.5, learning_rate=0.05, max_depth=7, min_child_weight=1, seed=1888 \n",
      "[CV]  colsample_bytree=0.5, learning_rate=0.05, max_depth=7, min_child_weight=1, seed=1888, total=  26.5s\n",
      "[CV] colsample_bytree=0.5, learning_rate=0.05, max_depth=7, min_child_weight=1, seed=1888 \n",
      "[CV]  colsample_bytree=0.5, learning_rate=0.05, max_depth=7, min_child_weight=1, seed=1888, total=  24.9s\n",
      "[CV] colsample_bytree=0.5, learning_rate=0.05, max_depth=7, min_child_weight=1, seed=1888 \n",
      "[CV]  colsample_bytree=0.5, learning_rate=0.05, max_depth=7, min_child_weight=1, seed=1888, total=  28.6s\n",
      "[CV] colsample_bytree=0.5, learning_rate=0.05, max_depth=7, min_child_weight=1, seed=1888 \n",
      "[CV]  colsample_bytree=0.5, learning_rate=0.05, max_depth=7, min_child_weight=1, seed=1888, total=  27.6s\n",
      "[CV] colsample_bytree=0.5, learning_rate=0.05, max_depth=7, min_child_weight=1, seed=1888 \n",
      "[CV]  colsample_bytree=0.5, learning_rate=0.05, max_depth=7, min_child_weight=1, seed=1888, total=  27.6s\n",
      "[CV] colsample_bytree=0.5, learning_rate=0.05, max_depth=7, min_child_weight=3, seed=1888 \n",
      "[CV]  colsample_bytree=0.5, learning_rate=0.05, max_depth=7, min_child_weight=3, seed=1888, total=  21.7s\n",
      "[CV] colsample_bytree=0.5, learning_rate=0.05, max_depth=7, min_child_weight=3, seed=1888 \n",
      "[CV]  colsample_bytree=0.5, learning_rate=0.05, max_depth=7, min_child_weight=3, seed=1888, total=  21.1s\n",
      "[CV] colsample_bytree=0.5, learning_rate=0.05, max_depth=7, min_child_weight=3, seed=1888 \n",
      "[CV]  colsample_bytree=0.5, learning_rate=0.05, max_depth=7, min_child_weight=3, seed=1888, total=  22.4s\n",
      "[CV] colsample_bytree=0.5, learning_rate=0.05, max_depth=7, min_child_weight=3, seed=1888 \n",
      "[CV]  colsample_bytree=0.5, learning_rate=0.05, max_depth=7, min_child_weight=3, seed=1888, total=  21.8s\n",
      "[CV] colsample_bytree=0.5, learning_rate=0.05, max_depth=7, min_child_weight=3, seed=1888 \n",
      "[CV]  colsample_bytree=0.5, learning_rate=0.05, max_depth=7, min_child_weight=3, seed=1888, total=  22.2s\n",
      "[CV] colsample_bytree=0.7, learning_rate=0.01, max_depth=3, min_child_weight=1, seed=1888 \n",
      "[CV]  colsample_bytree=0.7, learning_rate=0.01, max_depth=3, min_child_weight=1, seed=1888, total=  41.6s\n",
      "[CV] colsample_bytree=0.7, learning_rate=0.01, max_depth=3, min_child_weight=1, seed=1888 \n",
      "[CV]  colsample_bytree=0.7, learning_rate=0.01, max_depth=3, min_child_weight=1, seed=1888, total=  41.8s\n",
      "[CV] colsample_bytree=0.7, learning_rate=0.01, max_depth=3, min_child_weight=1, seed=1888 \n",
      "[CV]  colsample_bytree=0.7, learning_rate=0.01, max_depth=3, min_child_weight=1, seed=1888, total=  41.9s\n",
      "[CV] colsample_bytree=0.7, learning_rate=0.01, max_depth=3, min_child_weight=1, seed=1888 \n",
      "[CV]  colsample_bytree=0.7, learning_rate=0.01, max_depth=3, min_child_weight=1, seed=1888, total=  45.7s\n",
      "[CV] colsample_bytree=0.7, learning_rate=0.01, max_depth=3, min_child_weight=1, seed=1888 \n",
      "[CV]  colsample_bytree=0.7, learning_rate=0.01, max_depth=3, min_child_weight=1, seed=1888, total=  38.0s\n",
      "[CV] colsample_bytree=0.7, learning_rate=0.01, max_depth=3, min_child_weight=3, seed=1888 \n",
      "[CV]  colsample_bytree=0.7, learning_rate=0.01, max_depth=3, min_child_weight=3, seed=1888, total=  32.2s\n",
      "[CV] colsample_bytree=0.7, learning_rate=0.01, max_depth=3, min_child_weight=3, seed=1888 \n",
      "[CV]  colsample_bytree=0.7, learning_rate=0.01, max_depth=3, min_child_weight=3, seed=1888, total=  29.8s\n",
      "[CV] colsample_bytree=0.7, learning_rate=0.01, max_depth=3, min_child_weight=3, seed=1888 \n",
      "[CV]  colsample_bytree=0.7, learning_rate=0.01, max_depth=3, min_child_weight=3, seed=1888, total=  39.5s\n",
      "[CV] colsample_bytree=0.7, learning_rate=0.01, max_depth=3, min_child_weight=3, seed=1888 \n",
      "[CV]  colsample_bytree=0.7, learning_rate=0.01, max_depth=3, min_child_weight=3, seed=1888, total=  29.4s\n",
      "[CV] colsample_bytree=0.7, learning_rate=0.01, max_depth=3, min_child_weight=3, seed=1888 \n",
      "[CV]  colsample_bytree=0.7, learning_rate=0.01, max_depth=3, min_child_weight=3, seed=1888, total=  37.6s\n",
      "[CV] colsample_bytree=0.7, learning_rate=0.01, max_depth=4, min_child_weight=1, seed=1888 \n",
      "[CV]  colsample_bytree=0.7, learning_rate=0.01, max_depth=4, min_child_weight=1, seed=1888, total=  38.4s\n",
      "[CV] colsample_bytree=0.7, learning_rate=0.01, max_depth=4, min_child_weight=1, seed=1888 \n",
      "[CV]  colsample_bytree=0.7, learning_rate=0.01, max_depth=4, min_child_weight=1, seed=1888, total=  38.1s\n",
      "[CV] colsample_bytree=0.7, learning_rate=0.01, max_depth=4, min_child_weight=1, seed=1888 \n",
      "[CV]  colsample_bytree=0.7, learning_rate=0.01, max_depth=4, min_child_weight=1, seed=1888, total=  39.4s\n",
      "[CV] colsample_bytree=0.7, learning_rate=0.01, max_depth=4, min_child_weight=1, seed=1888 \n",
      "[CV]  colsample_bytree=0.7, learning_rate=0.01, max_depth=4, min_child_weight=1, seed=1888, total=  38.6s\n",
      "[CV] colsample_bytree=0.7, learning_rate=0.01, max_depth=4, min_child_weight=1, seed=1888 \n",
      "[CV]  colsample_bytree=0.7, learning_rate=0.01, max_depth=4, min_child_weight=1, seed=1888, total=  38.1s\n",
      "[CV] colsample_bytree=0.7, learning_rate=0.01, max_depth=4, min_child_weight=3, seed=1888 \n",
      "[CV]  colsample_bytree=0.7, learning_rate=0.01, max_depth=4, min_child_weight=3, seed=1888, total=  32.4s\n",
      "[CV] colsample_bytree=0.7, learning_rate=0.01, max_depth=4, min_child_weight=3, seed=1888 \n",
      "[CV]  colsample_bytree=0.7, learning_rate=0.01, max_depth=4, min_child_weight=3, seed=1888, total=  30.3s\n",
      "[CV] colsample_bytree=0.7, learning_rate=0.01, max_depth=4, min_child_weight=3, seed=1888 \n",
      "[CV]  colsample_bytree=0.7, learning_rate=0.01, max_depth=4, min_child_weight=3, seed=1888, total=  35.8s\n",
      "[CV] colsample_bytree=0.7, learning_rate=0.01, max_depth=4, min_child_weight=3, seed=1888 \n",
      "[CV]  colsample_bytree=0.7, learning_rate=0.01, max_depth=4, min_child_weight=3, seed=1888, total=  29.4s\n",
      "[CV] colsample_bytree=0.7, learning_rate=0.01, max_depth=4, min_child_weight=3, seed=1888 \n",
      "[CV]  colsample_bytree=0.7, learning_rate=0.01, max_depth=4, min_child_weight=3, seed=1888, total=  37.2s\n",
      "[CV] colsample_bytree=0.7, learning_rate=0.01, max_depth=5, min_child_weight=1, seed=1888 \n",
      "[CV]  colsample_bytree=0.7, learning_rate=0.01, max_depth=5, min_child_weight=1, seed=1888, total=  43.2s\n",
      "[CV] colsample_bytree=0.7, learning_rate=0.01, max_depth=5, min_child_weight=1, seed=1888 \n",
      "[CV]  colsample_bytree=0.7, learning_rate=0.01, max_depth=5, min_child_weight=1, seed=1888, total=  42.9s\n",
      "[CV] colsample_bytree=0.7, learning_rate=0.01, max_depth=5, min_child_weight=1, seed=1888 \n",
      "[CV]  colsample_bytree=0.7, learning_rate=0.01, max_depth=5, min_child_weight=1, seed=1888, total=  39.0s\n",
      "[CV] colsample_bytree=0.7, learning_rate=0.01, max_depth=5, min_child_weight=1, seed=1888 \n",
      "[CV]  colsample_bytree=0.7, learning_rate=0.01, max_depth=5, min_child_weight=1, seed=1888, total=  39.2s\n",
      "[CV] colsample_bytree=0.7, learning_rate=0.01, max_depth=5, min_child_weight=1, seed=1888 \n",
      "[CV]  colsample_bytree=0.7, learning_rate=0.01, max_depth=5, min_child_weight=1, seed=1888, total=  41.2s\n",
      "[CV] colsample_bytree=0.7, learning_rate=0.01, max_depth=5, min_child_weight=3, seed=1888 \n",
      "[CV]  colsample_bytree=0.7, learning_rate=0.01, max_depth=5, min_child_weight=3, seed=1888, total=  36.0s\n",
      "[CV] colsample_bytree=0.7, learning_rate=0.01, max_depth=5, min_child_weight=3, seed=1888 \n",
      "[CV]  colsample_bytree=0.7, learning_rate=0.01, max_depth=5, min_child_weight=3, seed=1888, total=  33.1s\n",
      "[CV] colsample_bytree=0.7, learning_rate=0.01, max_depth=5, min_child_weight=3, seed=1888 \n",
      "[CV]  colsample_bytree=0.7, learning_rate=0.01, max_depth=5, min_child_weight=3, seed=1888, total=  40.2s\n",
      "[CV] colsample_bytree=0.7, learning_rate=0.01, max_depth=5, min_child_weight=3, seed=1888 \n",
      "[CV]  colsample_bytree=0.7, learning_rate=0.01, max_depth=5, min_child_weight=3, seed=1888, total=  31.8s\n",
      "[CV] colsample_bytree=0.7, learning_rate=0.01, max_depth=5, min_child_weight=3, seed=1888 \n",
      "[CV]  colsample_bytree=0.7, learning_rate=0.01, max_depth=5, min_child_weight=3, seed=1888, total=  42.1s\n",
      "[CV] colsample_bytree=0.7, learning_rate=0.01, max_depth=7, min_child_weight=1, seed=1888 \n",
      "[CV]  colsample_bytree=0.7, learning_rate=0.01, max_depth=7, min_child_weight=1, seed=1888, total=  39.1s\n",
      "[CV] colsample_bytree=0.7, learning_rate=0.01, max_depth=7, min_child_weight=1, seed=1888 \n",
      "[CV]  colsample_bytree=0.7, learning_rate=0.01, max_depth=7, min_child_weight=1, seed=1888, total=  42.6s\n",
      "[CV] colsample_bytree=0.7, learning_rate=0.01, max_depth=7, min_child_weight=1, seed=1888 \n",
      "[CV]  colsample_bytree=0.7, learning_rate=0.01, max_depth=7, min_child_weight=1, seed=1888, total=  49.4s\n",
      "[CV] colsample_bytree=0.7, learning_rate=0.01, max_depth=7, min_child_weight=1, seed=1888 \n",
      "[CV]  colsample_bytree=0.7, learning_rate=0.01, max_depth=7, min_child_weight=1, seed=1888, total=  47.0s\n",
      "[CV] colsample_bytree=0.7, learning_rate=0.01, max_depth=7, min_child_weight=1, seed=1888 \n",
      "[CV]  colsample_bytree=0.7, learning_rate=0.01, max_depth=7, min_child_weight=1, seed=1888, total=  38.2s\n",
      "[CV] colsample_bytree=0.7, learning_rate=0.01, max_depth=7, min_child_weight=3, seed=1888 \n",
      "[CV]  colsample_bytree=0.7, learning_rate=0.01, max_depth=7, min_child_weight=3, seed=1888, total=  35.4s\n",
      "[CV] colsample_bytree=0.7, learning_rate=0.01, max_depth=7, min_child_weight=3, seed=1888 \n",
      "[CV]  colsample_bytree=0.7, learning_rate=0.01, max_depth=7, min_child_weight=3, seed=1888, total=  32.4s\n",
      "[CV] colsample_bytree=0.7, learning_rate=0.01, max_depth=7, min_child_weight=3, seed=1888 \n",
      "[CV]  colsample_bytree=0.7, learning_rate=0.01, max_depth=7, min_child_weight=3, seed=1888, total=  36.8s\n",
      "[CV] colsample_bytree=0.7, learning_rate=0.01, max_depth=7, min_child_weight=3, seed=1888 \n",
      "[CV]  colsample_bytree=0.7, learning_rate=0.01, max_depth=7, min_child_weight=3, seed=1888, total=  29.8s\n",
      "[CV] colsample_bytree=0.7, learning_rate=0.01, max_depth=7, min_child_weight=3, seed=1888 \n",
      "[CV]  colsample_bytree=0.7, learning_rate=0.01, max_depth=7, min_child_weight=3, seed=1888, total=  40.3s\n",
      "[CV] colsample_bytree=0.7, learning_rate=0.05, max_depth=3, min_child_weight=1, seed=1888 \n",
      "[CV]  colsample_bytree=0.7, learning_rate=0.05, max_depth=3, min_child_weight=1, seed=1888, total=  34.3s\n",
      "[CV] colsample_bytree=0.7, learning_rate=0.05, max_depth=3, min_child_weight=1, seed=1888 \n",
      "[CV]  colsample_bytree=0.7, learning_rate=0.05, max_depth=3, min_child_weight=1, seed=1888, total=  33.4s\n",
      "[CV] colsample_bytree=0.7, learning_rate=0.05, max_depth=3, min_child_weight=1, seed=1888 \n",
      "[CV]  colsample_bytree=0.7, learning_rate=0.05, max_depth=3, min_child_weight=1, seed=1888, total=  33.5s\n",
      "[CV] colsample_bytree=0.7, learning_rate=0.05, max_depth=3, min_child_weight=1, seed=1888 \n",
      "[CV]  colsample_bytree=0.7, learning_rate=0.05, max_depth=3, min_child_weight=1, seed=1888, total=  33.0s\n",
      "[CV] colsample_bytree=0.7, learning_rate=0.05, max_depth=3, min_child_weight=1, seed=1888 \n",
      "[CV]  colsample_bytree=0.7, learning_rate=0.05, max_depth=3, min_child_weight=1, seed=1888, total=  33.1s\n",
      "[CV] colsample_bytree=0.7, learning_rate=0.05, max_depth=3, min_child_weight=3, seed=1888 \n",
      "[CV]  colsample_bytree=0.7, learning_rate=0.05, max_depth=3, min_child_weight=3, seed=1888, total=  28.7s\n",
      "[CV] colsample_bytree=0.7, learning_rate=0.05, max_depth=3, min_child_weight=3, seed=1888 \n",
      "[CV]  colsample_bytree=0.7, learning_rate=0.05, max_depth=3, min_child_weight=3, seed=1888, total=  27.4s\n",
      "[CV] colsample_bytree=0.7, learning_rate=0.05, max_depth=3, min_child_weight=3, seed=1888 \n",
      "[CV]  colsample_bytree=0.7, learning_rate=0.05, max_depth=3, min_child_weight=3, seed=1888, total=  28.8s\n",
      "[CV] colsample_bytree=0.7, learning_rate=0.05, max_depth=3, min_child_weight=3, seed=1888 \n",
      "[CV]  colsample_bytree=0.7, learning_rate=0.05, max_depth=3, min_child_weight=3, seed=1888, total=  28.0s\n",
      "[CV] colsample_bytree=0.7, learning_rate=0.05, max_depth=3, min_child_weight=3, seed=1888 \n",
      "[CV]  colsample_bytree=0.7, learning_rate=0.05, max_depth=3, min_child_weight=3, seed=1888, total=  30.0s\n",
      "[CV] colsample_bytree=0.7, learning_rate=0.05, max_depth=4, min_child_weight=1, seed=1888 \n",
      "[CV]  colsample_bytree=0.7, learning_rate=0.05, max_depth=4, min_child_weight=1, seed=1888, total=  34.3s\n",
      "[CV] colsample_bytree=0.7, learning_rate=0.05, max_depth=4, min_child_weight=1, seed=1888 \n",
      "[CV]  colsample_bytree=0.7, learning_rate=0.05, max_depth=4, min_child_weight=1, seed=1888, total=  35.2s\n",
      "[CV] colsample_bytree=0.7, learning_rate=0.05, max_depth=4, min_child_weight=1, seed=1888 \n",
      "[CV]  colsample_bytree=0.7, learning_rate=0.05, max_depth=4, min_child_weight=1, seed=1888, total=  33.9s\n",
      "[CV] colsample_bytree=0.7, learning_rate=0.05, max_depth=4, min_child_weight=1, seed=1888 \n",
      "[CV]  colsample_bytree=0.7, learning_rate=0.05, max_depth=4, min_child_weight=1, seed=1888, total=  32.8s\n",
      "[CV] colsample_bytree=0.7, learning_rate=0.05, max_depth=4, min_child_weight=1, seed=1888 \n",
      "[CV]  colsample_bytree=0.7, learning_rate=0.05, max_depth=4, min_child_weight=1, seed=1888, total=  33.7s\n",
      "[CV] colsample_bytree=0.7, learning_rate=0.05, max_depth=4, min_child_weight=3, seed=1888 \n",
      "[CV]  colsample_bytree=0.7, learning_rate=0.05, max_depth=4, min_child_weight=3, seed=1888, total=  30.1s\n",
      "[CV] colsample_bytree=0.7, learning_rate=0.05, max_depth=4, min_child_weight=3, seed=1888 \n",
      "[CV]  colsample_bytree=0.7, learning_rate=0.05, max_depth=4, min_child_weight=3, seed=1888, total=  30.3s\n",
      "[CV] colsample_bytree=0.7, learning_rate=0.05, max_depth=4, min_child_weight=3, seed=1888 \n",
      "[CV]  colsample_bytree=0.7, learning_rate=0.05, max_depth=4, min_child_weight=3, seed=1888, total=  29.7s\n",
      "[CV] colsample_bytree=0.7, learning_rate=0.05, max_depth=4, min_child_weight=3, seed=1888 \n",
      "[CV]  colsample_bytree=0.7, learning_rate=0.05, max_depth=4, min_child_weight=3, seed=1888, total=  28.9s\n",
      "[CV] colsample_bytree=0.7, learning_rate=0.05, max_depth=4, min_child_weight=3, seed=1888 \n",
      "[CV]  colsample_bytree=0.7, learning_rate=0.05, max_depth=4, min_child_weight=3, seed=1888, total=  30.3s\n",
      "[CV] colsample_bytree=0.7, learning_rate=0.05, max_depth=5, min_child_weight=1, seed=1888 \n",
      "[CV]  colsample_bytree=0.7, learning_rate=0.05, max_depth=5, min_child_weight=1, seed=1888, total=  34.8s\n",
      "[CV] colsample_bytree=0.7, learning_rate=0.05, max_depth=5, min_child_weight=1, seed=1888 \n",
      "[CV]  colsample_bytree=0.7, learning_rate=0.05, max_depth=5, min_child_weight=1, seed=1888, total=  37.0s\n",
      "[CV] colsample_bytree=0.7, learning_rate=0.05, max_depth=5, min_child_weight=1, seed=1888 \n",
      "[CV]  colsample_bytree=0.7, learning_rate=0.05, max_depth=5, min_child_weight=1, seed=1888, total=  33.9s\n",
      "[CV] colsample_bytree=0.7, learning_rate=0.05, max_depth=5, min_child_weight=1, seed=1888 \n",
      "[CV]  colsample_bytree=0.7, learning_rate=0.05, max_depth=5, min_child_weight=1, seed=1888, total=  33.2s\n",
      "[CV] colsample_bytree=0.7, learning_rate=0.05, max_depth=5, min_child_weight=1, seed=1888 \n",
      "[CV]  colsample_bytree=0.7, learning_rate=0.05, max_depth=5, min_child_weight=1, seed=1888, total=  33.3s\n",
      "[CV] colsample_bytree=0.7, learning_rate=0.05, max_depth=5, min_child_weight=3, seed=1888 \n",
      "[CV]  colsample_bytree=0.7, learning_rate=0.05, max_depth=5, min_child_weight=3, seed=1888, total=  28.1s\n",
      "[CV] colsample_bytree=0.7, learning_rate=0.05, max_depth=5, min_child_weight=3, seed=1888 \n",
      "[CV]  colsample_bytree=0.7, learning_rate=0.05, max_depth=5, min_child_weight=3, seed=1888, total=  27.6s\n",
      "[CV] colsample_bytree=0.7, learning_rate=0.05, max_depth=5, min_child_weight=3, seed=1888 \n",
      "[CV]  colsample_bytree=0.7, learning_rate=0.05, max_depth=5, min_child_weight=3, seed=1888, total=  29.8s\n",
      "[CV] colsample_bytree=0.7, learning_rate=0.05, max_depth=5, min_child_weight=3, seed=1888 \n",
      "[CV]  colsample_bytree=0.7, learning_rate=0.05, max_depth=5, min_child_weight=3, seed=1888, total=  27.4s\n",
      "[CV] colsample_bytree=0.7, learning_rate=0.05, max_depth=5, min_child_weight=3, seed=1888 \n",
      "[CV]  colsample_bytree=0.7, learning_rate=0.05, max_depth=5, min_child_weight=3, seed=1888, total=  29.8s\n",
      "[CV] colsample_bytree=0.7, learning_rate=0.05, max_depth=7, min_child_weight=1, seed=1888 \n",
      "[CV]  colsample_bytree=0.7, learning_rate=0.05, max_depth=7, min_child_weight=1, seed=1888, total=  37.1s\n",
      "[CV] colsample_bytree=0.7, learning_rate=0.05, max_depth=7, min_child_weight=1, seed=1888 \n",
      "[CV]  colsample_bytree=0.7, learning_rate=0.05, max_depth=7, min_child_weight=1, seed=1888, total=  32.4s\n",
      "[CV] colsample_bytree=0.7, learning_rate=0.05, max_depth=7, min_child_weight=1, seed=1888 \n",
      "[CV]  colsample_bytree=0.7, learning_rate=0.05, max_depth=7, min_child_weight=1, seed=1888, total=  33.1s\n",
      "[CV] colsample_bytree=0.7, learning_rate=0.05, max_depth=7, min_child_weight=1, seed=1888 \n",
      "[CV]  colsample_bytree=0.7, learning_rate=0.05, max_depth=7, min_child_weight=1, seed=1888, total=  33.0s\n",
      "[CV] colsample_bytree=0.7, learning_rate=0.05, max_depth=7, min_child_weight=1, seed=1888 \n",
      "[CV]  colsample_bytree=0.7, learning_rate=0.05, max_depth=7, min_child_weight=1, seed=1888, total=  33.6s\n",
      "[CV] colsample_bytree=0.7, learning_rate=0.05, max_depth=7, min_child_weight=3, seed=1888 \n",
      "[CV]  colsample_bytree=0.7, learning_rate=0.05, max_depth=7, min_child_weight=3, seed=1888, total=  28.3s\n",
      "[CV] colsample_bytree=0.7, learning_rate=0.05, max_depth=7, min_child_weight=3, seed=1888 \n",
      "[CV]  colsample_bytree=0.7, learning_rate=0.05, max_depth=7, min_child_weight=3, seed=1888, total=  26.6s\n",
      "[CV] colsample_bytree=0.7, learning_rate=0.05, max_depth=7, min_child_weight=3, seed=1888 \n",
      "[CV]  colsample_bytree=0.7, learning_rate=0.05, max_depth=7, min_child_weight=3, seed=1888, total=  29.4s\n",
      "[CV] colsample_bytree=0.7, learning_rate=0.05, max_depth=7, min_child_weight=3, seed=1888 \n",
      "[CV]  colsample_bytree=0.7, learning_rate=0.05, max_depth=7, min_child_weight=3, seed=1888, total=  38.1s\n",
      "[CV] colsample_bytree=0.7, learning_rate=0.05, max_depth=7, min_child_weight=3, seed=1888 \n",
      "[CV]  colsample_bytree=0.7, learning_rate=0.05, max_depth=7, min_child_weight=3, seed=1888, total=  31.8s\n"
     ]
    },
    {
     "name": "stderr",
     "output_type": "stream",
     "text": [
      "[Parallel(n_jobs=1)]: Done 240 out of 240 | elapsed: 113.4min finished\n"
     ]
    },
    {
     "data": {
      "text/plain": [
       "(1.0,\n",
       " {'colsample_bytree': 0.4,\n",
       "  'learning_rate': 0.01,\n",
       "  'max_depth': 3,\n",
       "  'min_child_weight': 1,\n",
       "  'seed': 1888})"
      ]
     },
     "execution_count": 15,
     "metadata": {},
     "output_type": "execute_result"
    }
   ],
   "source": [
    "xgb = XGBClassifier()\n",
    "\n",
    "#parameters = {'learning_rate': [0.05, 0.10, 0.15, 0.20, 0.25, 0.30], #so called `eta` value\n",
    "#              'max_depth': [3, 4, 5, 6, 8, 10, 12, 15],\n",
    "#              'min_child_weight': [1, 3, 5, 7 ],\n",
    "#              'colsample_bytree': [0.3, 0.4, 0.5, 0.7],\n",
    "#              'seed': [1888]}\n",
    "\n",
    "parameters = {'learning_rate': [0.01, 0.05],\n",
    "              'max_depth': [3, 4, 5, 7],\n",
    "              'min_child_weight': [1, 3],\n",
    "              'colsample_bytree': [0.4, 0.5, 0.7],\n",
    "              'seed': [1888]}\n",
    "\n",
    "xgb_gs = GridSearchCV(xgb,\n",
    "                      param_grid=parameters,\n",
    "                      n_jobs=1, \n",
    "                      cv=5, \n",
    "                      scoring='roc_auc',\n",
    "                      verbose=2)\n",
    "\n",
    "xgb_gs.fit(X_train_smote, y_train_res)\n",
    "xgb_gs.best_score_, xgb_gs.best_params_"
   ]
  },
  {
   "cell_type": "code",
   "execution_count": null,
   "metadata": {},
   "outputs": [],
   "source": [
    "parameters = {#'nthread':[4], #when use hyperthread, xgboost may become slower\n",
    "              #'objective':['binary:logistic'],\n",
    "              'learning_rate': [0.01, 0.05],\n",
    "              'max_depth': [3, 4, 5],\n",
    "              'min_child_weight': [1, 3, 5, 7 ],\n",
    "              #'silent': [1],\n",
    "              #'subsample': [0.8],\n",
    "              'colsample_bytree': [0.3, 0.4, 0.5, 0.7],\n",
    "              #'n_estimators': [5], #number of trees, change it to 1000 for better results\n",
    "              #'missing':[-999],\n",
    "              'seed': 1888}"
   ]
  },
  {
   "cell_type": "code",
   "execution_count": null,
   "metadata": {},
   "outputs": [],
   "source": []
  },
  {
   "cell_type": "markdown",
   "metadata": {},
   "source": []
  },
  {
   "cell_type": "code",
   "execution_count": null,
   "metadata": {},
   "outputs": [],
   "source": [
    "df_loop = pd.DataFrame(X_train_res, columns=X_train.columns)\n",
    "\n",
    "for _ in range(2):\n",
    "    \n",
    "    from sklearn.metrics import f1_score # import again because it works like that :)\n",
    "\n",
    "    # Random Forests for Boruta\n",
    "    rf_boruta = RandomForestClassifier(n_jobs=-1, random_state=SEED)\n",
    "\n",
    "    # Perform Boruta\n",
    "    boruta = BorutaPy(rf_boruta, n_estimators='auto', verbose=2,\n",
    "                      alpha=0.005, max_iter=30, perc=100, random_state=SEED)\n",
    "    boruta.fit(df_loop.values, y_train_res)\n",
    "\n",
    "    # Select features and fit Logistic Regression\n",
    "\n",
    "    cols = df_loop.columns[boruta.support_]\n",
    "    df_loop = df_loop[cols]\n",
    "    est_boruta = LogisticRegression(random_state=SEED)\n",
    "    est_boruta.fit(df_loop, y_train_res)\n",
    "\n",
    "    scores = cross_val_score(est_boruta, df_loop, y_train_res, cv=5)\n",
    "\n",
    "    # Test accuracy\n",
    "    #acc = accuracy_score(y_val, est_boruta.predict(X_val[cols1]))\n",
    "    f1_score = f1_score(y_val, est_boruta.predict(X_val[cols]))\n",
    "\n",
    "    print('Number of features selected: {}'.format(len(cols)))\n",
    "    #print('Test Accuracy {:.5f}'.format(acc))\n",
    "    print(\"F1 score {:.5f}\".format(f1_score))\n",
    "    print(\"CV Accuracy: %0.2f (+/- %0.2f)\" % (scores.mean(), scores.std() * 2))"
   ]
  },
  {
   "cell_type": "code",
   "execution_count": 13,
   "metadata": {},
   "outputs": [],
   "source": [
    "import time"
   ]
  },
  {
   "cell_type": "markdown",
   "metadata": {},
   "source": [
    "### RFECV"
   ]
  },
  {
   "cell_type": "code",
   "execution_count": 31,
   "metadata": {},
   "outputs": [
    {
     "ename": "KeyboardInterrupt",
     "evalue": "",
     "output_type": "error",
     "traceback": [
      "\u001b[0;31m---------------------------------------------------------------------------\u001b[0m",
      "\u001b[0;31mKeyboardInterrupt\u001b[0m                         Traceback (most recent call last)",
      "\u001b[0;32m<ipython-input-31-8a4ae51fa8cf>\u001b[0m in \u001b[0;36m<module>\u001b[0;34m\u001b[0m\n\u001b[1;32m      4\u001b[0m \u001b[0mselector\u001b[0m \u001b[0;34m=\u001b[0m \u001b[0mRFECV\u001b[0m\u001b[0;34m(\u001b[0m\u001b[0mestimator\u001b[0m\u001b[0;34m,\u001b[0m \u001b[0mstep\u001b[0m\u001b[0;34m=\u001b[0m\u001b[0;36m1\u001b[0m\u001b[0;34m,\u001b[0m \u001b[0mcv\u001b[0m\u001b[0;34m=\u001b[0m\u001b[0;36m5\u001b[0m\u001b[0;34m)\u001b[0m\u001b[0;34m\u001b[0m\u001b[0;34m\u001b[0m\u001b[0m\n\u001b[1;32m      5\u001b[0m \u001b[0;34m\u001b[0m\u001b[0m\n\u001b[0;32m----> 6\u001b[0;31m \u001b[0mselector\u001b[0m \u001b[0;34m=\u001b[0m \u001b[0mselector\u001b[0m\u001b[0;34m.\u001b[0m\u001b[0mfit\u001b[0m\u001b[0;34m(\u001b[0m\u001b[0mX_train_smote\u001b[0m\u001b[0;34m,\u001b[0m \u001b[0my_train_res\u001b[0m\u001b[0;34m)\u001b[0m\u001b[0;34m\u001b[0m\u001b[0;34m\u001b[0m\u001b[0m\n\u001b[0m\u001b[1;32m      7\u001b[0m \u001b[0;34m\u001b[0m\u001b[0m\n\u001b[1;32m      8\u001b[0m \u001b[0mprint\u001b[0m\u001b[0;34m(\u001b[0m\u001b[0;34m'Accuracy of RFE: {:.3f}'\u001b[0m\u001b[0;34m.\u001b[0m\u001b[0mformat\u001b[0m\u001b[0;34m(\u001b[0m\u001b[0mselector\u001b[0m\u001b[0;34m.\u001b[0m\u001b[0mscore\u001b[0m\u001b[0;34m(\u001b[0m\u001b[0mX_test\u001b[0m\u001b[0;34m,\u001b[0m \u001b[0my_test\u001b[0m\u001b[0;34m)\u001b[0m\u001b[0;34m)\u001b[0m\u001b[0;34m)\u001b[0m\u001b[0;34m\u001b[0m\u001b[0;34m\u001b[0m\u001b[0m\n",
      "\u001b[0;32m~/anaconda/envs/deeplearning/lib/python3.7/site-packages/sklearn/feature_selection/rfe.py\u001b[0m in \u001b[0;36mfit\u001b[0;34m(self, X, y, groups)\u001b[0m\n\u001b[1;32m    512\u001b[0m         scores = parallel(\n\u001b[1;32m    513\u001b[0m             \u001b[0mfunc\u001b[0m\u001b[0;34m(\u001b[0m\u001b[0mrfe\u001b[0m\u001b[0;34m,\u001b[0m \u001b[0mself\u001b[0m\u001b[0;34m.\u001b[0m\u001b[0mestimator\u001b[0m\u001b[0;34m,\u001b[0m \u001b[0mX\u001b[0m\u001b[0;34m,\u001b[0m \u001b[0my\u001b[0m\u001b[0;34m,\u001b[0m \u001b[0mtrain\u001b[0m\u001b[0;34m,\u001b[0m \u001b[0mtest\u001b[0m\u001b[0;34m,\u001b[0m \u001b[0mscorer\u001b[0m\u001b[0;34m)\u001b[0m\u001b[0;34m\u001b[0m\u001b[0;34m\u001b[0m\u001b[0m\n\u001b[0;32m--> 514\u001b[0;31m             for train, test in cv.split(X, y, groups))\n\u001b[0m\u001b[1;32m    515\u001b[0m \u001b[0;34m\u001b[0m\u001b[0m\n\u001b[1;32m    516\u001b[0m         \u001b[0mscores\u001b[0m \u001b[0;34m=\u001b[0m \u001b[0mnp\u001b[0m\u001b[0;34m.\u001b[0m\u001b[0msum\u001b[0m\u001b[0;34m(\u001b[0m\u001b[0mscores\u001b[0m\u001b[0;34m,\u001b[0m \u001b[0maxis\u001b[0m\u001b[0;34m=\u001b[0m\u001b[0;36m0\u001b[0m\u001b[0;34m)\u001b[0m\u001b[0;34m\u001b[0m\u001b[0;34m\u001b[0m\u001b[0m\n",
      "\u001b[0;32m~/anaconda/envs/deeplearning/lib/python3.7/site-packages/sklearn/feature_selection/rfe.py\u001b[0m in \u001b[0;36m<genexpr>\u001b[0;34m(.0)\u001b[0m\n\u001b[1;32m    512\u001b[0m         scores = parallel(\n\u001b[1;32m    513\u001b[0m             \u001b[0mfunc\u001b[0m\u001b[0;34m(\u001b[0m\u001b[0mrfe\u001b[0m\u001b[0;34m,\u001b[0m \u001b[0mself\u001b[0m\u001b[0;34m.\u001b[0m\u001b[0mestimator\u001b[0m\u001b[0;34m,\u001b[0m \u001b[0mX\u001b[0m\u001b[0;34m,\u001b[0m \u001b[0my\u001b[0m\u001b[0;34m,\u001b[0m \u001b[0mtrain\u001b[0m\u001b[0;34m,\u001b[0m \u001b[0mtest\u001b[0m\u001b[0;34m,\u001b[0m \u001b[0mscorer\u001b[0m\u001b[0;34m)\u001b[0m\u001b[0;34m\u001b[0m\u001b[0;34m\u001b[0m\u001b[0m\n\u001b[0;32m--> 514\u001b[0;31m             for train, test in cv.split(X, y, groups))\n\u001b[0m\u001b[1;32m    515\u001b[0m \u001b[0;34m\u001b[0m\u001b[0m\n\u001b[1;32m    516\u001b[0m         \u001b[0mscores\u001b[0m \u001b[0;34m=\u001b[0m \u001b[0mnp\u001b[0m\u001b[0;34m.\u001b[0m\u001b[0msum\u001b[0m\u001b[0;34m(\u001b[0m\u001b[0mscores\u001b[0m\u001b[0;34m,\u001b[0m \u001b[0maxis\u001b[0m\u001b[0;34m=\u001b[0m\u001b[0;36m0\u001b[0m\u001b[0;34m)\u001b[0m\u001b[0;34m\u001b[0m\u001b[0;34m\u001b[0m\u001b[0m\n",
      "\u001b[0;32m~/anaconda/envs/deeplearning/lib/python3.7/site-packages/sklearn/feature_selection/rfe.py\u001b[0m in \u001b[0;36m_rfe_single_fit\u001b[0;34m(rfe, estimator, X, y, train, test, scorer)\u001b[0m\n\u001b[1;32m     30\u001b[0m     \u001b[0mX_test\u001b[0m\u001b[0;34m,\u001b[0m \u001b[0my_test\u001b[0m \u001b[0;34m=\u001b[0m \u001b[0m_safe_split\u001b[0m\u001b[0;34m(\u001b[0m\u001b[0mestimator\u001b[0m\u001b[0;34m,\u001b[0m \u001b[0mX\u001b[0m\u001b[0;34m,\u001b[0m \u001b[0my\u001b[0m\u001b[0;34m,\u001b[0m \u001b[0mtest\u001b[0m\u001b[0;34m,\u001b[0m \u001b[0mtrain\u001b[0m\u001b[0;34m)\u001b[0m\u001b[0;34m\u001b[0m\u001b[0;34m\u001b[0m\u001b[0m\n\u001b[1;32m     31\u001b[0m     return rfe._fit(\n\u001b[0;32m---> 32\u001b[0;31m         \u001b[0mX_train\u001b[0m\u001b[0;34m,\u001b[0m \u001b[0my_train\u001b[0m\u001b[0;34m,\u001b[0m \u001b[0;32mlambda\u001b[0m \u001b[0mestimator\u001b[0m\u001b[0;34m,\u001b[0m \u001b[0mfeatures\u001b[0m\u001b[0;34m:\u001b[0m\u001b[0;34m\u001b[0m\u001b[0;34m\u001b[0m\u001b[0m\n\u001b[0m\u001b[1;32m     33\u001b[0m         _score(estimator, X_test[:, features], y_test, scorer)).scores_\n\u001b[1;32m     34\u001b[0m \u001b[0;34m\u001b[0m\u001b[0m\n",
      "\u001b[0;32m~/anaconda/envs/deeplearning/lib/python3.7/site-packages/sklearn/feature_selection/rfe.py\u001b[0m in \u001b[0;36m_fit\u001b[0;34m(self, X, y, step_score)\u001b[0m\n\u001b[1;32m    205\u001b[0m             \u001b[0;31m# that have not been eliminated yet\u001b[0m\u001b[0;34m\u001b[0m\u001b[0;34m\u001b[0m\u001b[0;34m\u001b[0m\u001b[0m\n\u001b[1;32m    206\u001b[0m             \u001b[0;32mif\u001b[0m \u001b[0mstep_score\u001b[0m\u001b[0;34m:\u001b[0m\u001b[0;34m\u001b[0m\u001b[0;34m\u001b[0m\u001b[0m\n\u001b[0;32m--> 207\u001b[0;31m                 \u001b[0mself\u001b[0m\u001b[0;34m.\u001b[0m\u001b[0mscores_\u001b[0m\u001b[0;34m.\u001b[0m\u001b[0mappend\u001b[0m\u001b[0;34m(\u001b[0m\u001b[0mstep_score\u001b[0m\u001b[0;34m(\u001b[0m\u001b[0mestimator\u001b[0m\u001b[0;34m,\u001b[0m \u001b[0mfeatures\u001b[0m\u001b[0;34m)\u001b[0m\u001b[0;34m)\u001b[0m\u001b[0;34m\u001b[0m\u001b[0;34m\u001b[0m\u001b[0m\n\u001b[0m\u001b[1;32m    208\u001b[0m             \u001b[0msupport_\u001b[0m\u001b[0;34m[\u001b[0m\u001b[0mfeatures\u001b[0m\u001b[0;34m[\u001b[0m\u001b[0mranks\u001b[0m\u001b[0;34m]\u001b[0m\u001b[0;34m[\u001b[0m\u001b[0;34m:\u001b[0m\u001b[0mthreshold\u001b[0m\u001b[0;34m]\u001b[0m\u001b[0;34m]\u001b[0m \u001b[0;34m=\u001b[0m \u001b[0;32mFalse\u001b[0m\u001b[0;34m\u001b[0m\u001b[0;34m\u001b[0m\u001b[0m\n\u001b[1;32m    209\u001b[0m             \u001b[0mranking_\u001b[0m\u001b[0;34m[\u001b[0m\u001b[0mnp\u001b[0m\u001b[0;34m.\u001b[0m\u001b[0mlogical_not\u001b[0m\u001b[0;34m(\u001b[0m\u001b[0msupport_\u001b[0m\u001b[0;34m)\u001b[0m\u001b[0;34m]\u001b[0m \u001b[0;34m+=\u001b[0m \u001b[0;36m1\u001b[0m\u001b[0;34m\u001b[0m\u001b[0;34m\u001b[0m\u001b[0m\n",
      "\u001b[0;32m~/anaconda/envs/deeplearning/lib/python3.7/site-packages/sklearn/feature_selection/rfe.py\u001b[0m in \u001b[0;36m<lambda>\u001b[0;34m(estimator, features)\u001b[0m\n\u001b[1;32m     31\u001b[0m     return rfe._fit(\n\u001b[1;32m     32\u001b[0m         \u001b[0mX_train\u001b[0m\u001b[0;34m,\u001b[0m \u001b[0my_train\u001b[0m\u001b[0;34m,\u001b[0m \u001b[0;32mlambda\u001b[0m \u001b[0mestimator\u001b[0m\u001b[0;34m,\u001b[0m \u001b[0mfeatures\u001b[0m\u001b[0;34m:\u001b[0m\u001b[0;34m\u001b[0m\u001b[0;34m\u001b[0m\u001b[0m\n\u001b[0;32m---> 33\u001b[0;31m         _score(estimator, X_test[:, features], y_test, scorer)).scores_\n\u001b[0m\u001b[1;32m     34\u001b[0m \u001b[0;34m\u001b[0m\u001b[0m\n\u001b[1;32m     35\u001b[0m \u001b[0;34m\u001b[0m\u001b[0m\n",
      "\u001b[0;32m~/anaconda/envs/deeplearning/lib/python3.7/site-packages/sklearn/model_selection/_validation.py\u001b[0m in \u001b[0;36m_score\u001b[0;34m(estimator, X_test, y_test, scorer, is_multimetric)\u001b[0m\n\u001b[1;32m    608\u001b[0m             \u001b[0mscore\u001b[0m \u001b[0;34m=\u001b[0m \u001b[0mscorer\u001b[0m\u001b[0;34m(\u001b[0m\u001b[0mestimator\u001b[0m\u001b[0;34m,\u001b[0m \u001b[0mX_test\u001b[0m\u001b[0;34m)\u001b[0m\u001b[0;34m\u001b[0m\u001b[0;34m\u001b[0m\u001b[0m\n\u001b[1;32m    609\u001b[0m         \u001b[0;32melse\u001b[0m\u001b[0;34m:\u001b[0m\u001b[0;34m\u001b[0m\u001b[0;34m\u001b[0m\u001b[0m\n\u001b[0;32m--> 610\u001b[0;31m             \u001b[0mscore\u001b[0m \u001b[0;34m=\u001b[0m \u001b[0mscorer\u001b[0m\u001b[0;34m(\u001b[0m\u001b[0mestimator\u001b[0m\u001b[0;34m,\u001b[0m \u001b[0mX_test\u001b[0m\u001b[0;34m,\u001b[0m \u001b[0my_test\u001b[0m\u001b[0;34m)\u001b[0m\u001b[0;34m\u001b[0m\u001b[0;34m\u001b[0m\u001b[0m\n\u001b[0m\u001b[1;32m    611\u001b[0m \u001b[0;34m\u001b[0m\u001b[0m\n\u001b[1;32m    612\u001b[0m         \u001b[0;32mif\u001b[0m \u001b[0mhasattr\u001b[0m\u001b[0;34m(\u001b[0m\u001b[0mscore\u001b[0m\u001b[0;34m,\u001b[0m \u001b[0;34m'item'\u001b[0m\u001b[0;34m)\u001b[0m\u001b[0;34m:\u001b[0m\u001b[0;34m\u001b[0m\u001b[0;34m\u001b[0m\u001b[0m\n",
      "\u001b[0;32m~/anaconda/envs/deeplearning/lib/python3.7/site-packages/sklearn/metrics/scorer.py\u001b[0m in \u001b[0;36m_passthrough_scorer\u001b[0;34m(estimator, *args, **kwargs)\u001b[0m\n\u001b[1;32m    239\u001b[0m \u001b[0;32mdef\u001b[0m \u001b[0m_passthrough_scorer\u001b[0m\u001b[0;34m(\u001b[0m\u001b[0mestimator\u001b[0m\u001b[0;34m,\u001b[0m \u001b[0;34m*\u001b[0m\u001b[0margs\u001b[0m\u001b[0;34m,\u001b[0m \u001b[0;34m**\u001b[0m\u001b[0mkwargs\u001b[0m\u001b[0;34m)\u001b[0m\u001b[0;34m:\u001b[0m\u001b[0;34m\u001b[0m\u001b[0;34m\u001b[0m\u001b[0m\n\u001b[1;32m    240\u001b[0m     \u001b[0;34m\"\"\"Function that wraps estimator.score\"\"\"\u001b[0m\u001b[0;34m\u001b[0m\u001b[0;34m\u001b[0m\u001b[0m\n\u001b[0;32m--> 241\u001b[0;31m     \u001b[0;32mreturn\u001b[0m \u001b[0mestimator\u001b[0m\u001b[0;34m.\u001b[0m\u001b[0mscore\u001b[0m\u001b[0;34m(\u001b[0m\u001b[0;34m*\u001b[0m\u001b[0margs\u001b[0m\u001b[0;34m,\u001b[0m \u001b[0;34m**\u001b[0m\u001b[0mkwargs\u001b[0m\u001b[0;34m)\u001b[0m\u001b[0;34m\u001b[0m\u001b[0;34m\u001b[0m\u001b[0m\n\u001b[0m\u001b[1;32m    242\u001b[0m \u001b[0;34m\u001b[0m\u001b[0m\n\u001b[1;32m    243\u001b[0m \u001b[0;34m\u001b[0m\u001b[0m\n",
      "\u001b[0;32m~/anaconda/envs/deeplearning/lib/python3.7/site-packages/sklearn/base.py\u001b[0m in \u001b[0;36mscore\u001b[0;34m(self, X, y, sample_weight)\u001b[0m\n\u001b[1;32m    328\u001b[0m \u001b[0;34m\u001b[0m\u001b[0m\n\u001b[1;32m    329\u001b[0m         \u001b[0;32mfrom\u001b[0m \u001b[0;34m.\u001b[0m\u001b[0mmetrics\u001b[0m \u001b[0;32mimport\u001b[0m \u001b[0mr2_score\u001b[0m\u001b[0;34m\u001b[0m\u001b[0;34m\u001b[0m\u001b[0m\n\u001b[0;32m--> 330\u001b[0;31m         return r2_score(y, self.predict(X), sample_weight=sample_weight,\n\u001b[0m\u001b[1;32m    331\u001b[0m                         multioutput='variance_weighted')\n\u001b[1;32m    332\u001b[0m \u001b[0;34m\u001b[0m\u001b[0m\n",
      "\u001b[0;32m~/anaconda/envs/deeplearning/lib/python3.7/site-packages/sklearn/svm/base.py\u001b[0m in \u001b[0;36mpredict\u001b[0;34m(self, X)\u001b[0m\n\u001b[1;32m    325\u001b[0m         \u001b[0mX\u001b[0m \u001b[0;34m=\u001b[0m \u001b[0mself\u001b[0m\u001b[0;34m.\u001b[0m\u001b[0m_validate_for_predict\u001b[0m\u001b[0;34m(\u001b[0m\u001b[0mX\u001b[0m\u001b[0;34m)\u001b[0m\u001b[0;34m\u001b[0m\u001b[0;34m\u001b[0m\u001b[0m\n\u001b[1;32m    326\u001b[0m         \u001b[0mpredict\u001b[0m \u001b[0;34m=\u001b[0m \u001b[0mself\u001b[0m\u001b[0;34m.\u001b[0m\u001b[0m_sparse_predict\u001b[0m \u001b[0;32mif\u001b[0m \u001b[0mself\u001b[0m\u001b[0;34m.\u001b[0m\u001b[0m_sparse\u001b[0m \u001b[0;32melse\u001b[0m \u001b[0mself\u001b[0m\u001b[0;34m.\u001b[0m\u001b[0m_dense_predict\u001b[0m\u001b[0;34m\u001b[0m\u001b[0;34m\u001b[0m\u001b[0m\n\u001b[0;32m--> 327\u001b[0;31m         \u001b[0;32mreturn\u001b[0m \u001b[0mpredict\u001b[0m\u001b[0;34m(\u001b[0m\u001b[0mX\u001b[0m\u001b[0;34m)\u001b[0m\u001b[0;34m\u001b[0m\u001b[0;34m\u001b[0m\u001b[0m\n\u001b[0m\u001b[1;32m    328\u001b[0m \u001b[0;34m\u001b[0m\u001b[0m\n\u001b[1;32m    329\u001b[0m     \u001b[0;32mdef\u001b[0m \u001b[0m_dense_predict\u001b[0m\u001b[0;34m(\u001b[0m\u001b[0mself\u001b[0m\u001b[0;34m,\u001b[0m \u001b[0mX\u001b[0m\u001b[0;34m)\u001b[0m\u001b[0;34m:\u001b[0m\u001b[0;34m\u001b[0m\u001b[0;34m\u001b[0m\u001b[0m\n",
      "\u001b[0;32m~/anaconda/envs/deeplearning/lib/python3.7/site-packages/sklearn/svm/base.py\u001b[0m in \u001b[0;36m_dense_predict\u001b[0;34m(self, X)\u001b[0m\n\u001b[1;32m    348\u001b[0m             \u001b[0mself\u001b[0m\u001b[0;34m.\u001b[0m\u001b[0mprobA_\u001b[0m\u001b[0;34m,\u001b[0m \u001b[0mself\u001b[0m\u001b[0;34m.\u001b[0m\u001b[0mprobB_\u001b[0m\u001b[0;34m,\u001b[0m \u001b[0msvm_type\u001b[0m\u001b[0;34m=\u001b[0m\u001b[0msvm_type\u001b[0m\u001b[0;34m,\u001b[0m \u001b[0mkernel\u001b[0m\u001b[0;34m=\u001b[0m\u001b[0mkernel\u001b[0m\u001b[0;34m,\u001b[0m\u001b[0;34m\u001b[0m\u001b[0;34m\u001b[0m\u001b[0m\n\u001b[1;32m    349\u001b[0m             \u001b[0mdegree\u001b[0m\u001b[0;34m=\u001b[0m\u001b[0mself\u001b[0m\u001b[0;34m.\u001b[0m\u001b[0mdegree\u001b[0m\u001b[0;34m,\u001b[0m \u001b[0mcoef0\u001b[0m\u001b[0;34m=\u001b[0m\u001b[0mself\u001b[0m\u001b[0;34m.\u001b[0m\u001b[0mcoef0\u001b[0m\u001b[0;34m,\u001b[0m \u001b[0mgamma\u001b[0m\u001b[0;34m=\u001b[0m\u001b[0mself\u001b[0m\u001b[0;34m.\u001b[0m\u001b[0m_gamma\u001b[0m\u001b[0;34m,\u001b[0m\u001b[0;34m\u001b[0m\u001b[0;34m\u001b[0m\u001b[0m\n\u001b[0;32m--> 350\u001b[0;31m             cache_size=self.cache_size)\n\u001b[0m\u001b[1;32m    351\u001b[0m \u001b[0;34m\u001b[0m\u001b[0m\n\u001b[1;32m    352\u001b[0m     \u001b[0;32mdef\u001b[0m \u001b[0m_sparse_predict\u001b[0m\u001b[0;34m(\u001b[0m\u001b[0mself\u001b[0m\u001b[0;34m,\u001b[0m \u001b[0mX\u001b[0m\u001b[0;34m)\u001b[0m\u001b[0;34m:\u001b[0m\u001b[0;34m\u001b[0m\u001b[0;34m\u001b[0m\u001b[0m\n",
      "\u001b[0;31mKeyboardInterrupt\u001b[0m: "
     ]
    }
   ],
   "source": [
    "start = time.time()\n",
    "\n",
    "estimator = SVR(kernel=\"linear\")\n",
    "selector = RFECV(estimator, step=1, cv=5)\n",
    "\n",
    "selector = selector.fit(X_train_smote, y_train_res)\n",
    "\n",
    "print('Accuracy of RFE: {:.3f}'.format(selector.score(X_test, y_test)))\n",
    "\n",
    "print('Finished in {:.1f} min\\n'.format((time.time() - start) / 60))\n",
    "        \n",
    "# Add features and feature importance to dictionary\n",
    "#selected_features = X_train.columns[selector.support_].tolist()\n",
    "#feature_importances = [1 for x in range(len(selected_features))]"
   ]
  },
  {
   "cell_type": "code",
   "execution_count": null,
   "metadata": {},
   "outputs": [],
   "source": []
  },
  {
   "cell_type": "code",
   "execution_count": null,
   "metadata": {},
   "outputs": [],
   "source": []
  },
  {
   "cell_type": "code",
   "execution_count": null,
   "metadata": {},
   "outputs": [],
   "source": []
  }
 ],
 "metadata": {
  "kernelspec": {
   "display_name": "Python 3.7",
   "language": "python",
   "name": "deeplearning"
  },
  "language_info": {
   "codemirror_mode": {
    "name": "ipython",
    "version": 3
   },
   "file_extension": ".py",
   "mimetype": "text/x-python",
   "name": "python",
   "nbconvert_exporter": "python",
   "pygments_lexer": "ipython3",
   "version": "3.7.3"
  },
  "toc-autonumbering": false
 },
 "nbformat": 4,
 "nbformat_minor": 2
}
